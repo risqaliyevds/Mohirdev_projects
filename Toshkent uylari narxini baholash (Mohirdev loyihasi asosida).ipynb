{
 "cells": [
  {
   "cell_type": "markdown",
   "metadata": {
    "id": "tgzC39RUcDLy"
   },
   "source": [
    "![Imgur](https://i.imgur.com/5pXzCIu.png)\n",
    "\n",
    "# Data Science va Sun'iy Intellekt Praktikum\n",
    "\n",
    "## 5-MODUL. Machine Learning\n",
    "\n",
    "### Portfolio uchun vazifa: Toshkent shahrida uylarning narxini aniqlash.\n",
    "\n",
    "Ushbu amaliyotda sizning vazifangiz berilgan ma`lumotlar asosida Toshkent shahridagi uylarning narxini aniqlash."
   ]
  },
  {
   "cell_type": "code",
   "execution_count": 1,
   "metadata": {
    "colab": {
     "base_uri": "https://localhost:8080/",
     "height": 206
    },
    "id": "ZNYzfPKab-o4",
    "outputId": "f7811b9b-e737-4250-86e4-3ac0ab363ddd"
   },
   "outputs": [
    {
     "data": {
      "text/html": [
       "<div>\n",
       "<style scoped>\n",
       "    .dataframe tbody tr th:only-of-type {\n",
       "        vertical-align: middle;\n",
       "    }\n",
       "\n",
       "    .dataframe tbody tr th {\n",
       "        vertical-align: top;\n",
       "    }\n",
       "\n",
       "    .dataframe thead th {\n",
       "        text-align: right;\n",
       "    }\n",
       "</style>\n",
       "<table border=\"1\" class=\"dataframe\">\n",
       "  <thead>\n",
       "    <tr style=\"text-align: right;\">\n",
       "      <th></th>\n",
       "      <th>location</th>\n",
       "      <th>district</th>\n",
       "      <th>rooms</th>\n",
       "      <th>size</th>\n",
       "      <th>level</th>\n",
       "      <th>max_levels</th>\n",
       "      <th>price</th>\n",
       "    </tr>\n",
       "  </thead>\n",
       "  <tbody>\n",
       "    <tr>\n",
       "      <th>0</th>\n",
       "      <td>город Ташкент, Юнусабадский район, Юнусабад 8-...</td>\n",
       "      <td>Юнусабадский</td>\n",
       "      <td>3</td>\n",
       "      <td>57</td>\n",
       "      <td>4</td>\n",
       "      <td>4</td>\n",
       "      <td>52000</td>\n",
       "    </tr>\n",
       "    <tr>\n",
       "      <th>1</th>\n",
       "      <td>город Ташкент, Яккасарайский район, 1-й тупик ...</td>\n",
       "      <td>Яккасарайский</td>\n",
       "      <td>2</td>\n",
       "      <td>52</td>\n",
       "      <td>4</td>\n",
       "      <td>5</td>\n",
       "      <td>56000</td>\n",
       "    </tr>\n",
       "    <tr>\n",
       "      <th>2</th>\n",
       "      <td>город Ташкент, Чиланзарский район, Чиланзар 2-...</td>\n",
       "      <td>Чиланзарский</td>\n",
       "      <td>2</td>\n",
       "      <td>42</td>\n",
       "      <td>4</td>\n",
       "      <td>4</td>\n",
       "      <td>37000</td>\n",
       "    </tr>\n",
       "    <tr>\n",
       "      <th>3</th>\n",
       "      <td>город Ташкент, Чиланзарский район, Чиланзар 9-...</td>\n",
       "      <td>Чиланзарский</td>\n",
       "      <td>3</td>\n",
       "      <td>65</td>\n",
       "      <td>1</td>\n",
       "      <td>4</td>\n",
       "      <td>49500</td>\n",
       "    </tr>\n",
       "    <tr>\n",
       "      <th>4</th>\n",
       "      <td>город Ташкент, Чиланзарский район, площадь Актепа</td>\n",
       "      <td>Чиланзарский</td>\n",
       "      <td>3</td>\n",
       "      <td>70</td>\n",
       "      <td>3</td>\n",
       "      <td>5</td>\n",
       "      <td>55000</td>\n",
       "    </tr>\n",
       "  </tbody>\n",
       "</table>\n",
       "</div>"
      ],
      "text/plain": [
       "                                            location       district  rooms  \\\n",
       "0  город Ташкент, Юнусабадский район, Юнусабад 8-...   Юнусабадский      3   \n",
       "1  город Ташкент, Яккасарайский район, 1-й тупик ...  Яккасарайский      2   \n",
       "2  город Ташкент, Чиланзарский район, Чиланзар 2-...   Чиланзарский      2   \n",
       "3  город Ташкент, Чиланзарский район, Чиланзар 9-...   Чиланзарский      3   \n",
       "4  город Ташкент, Чиланзарский район, площадь Актепа   Чиланзарский      3   \n",
       "\n",
       "  size  level  max_levels  price  \n",
       "0   57      4           4  52000  \n",
       "1   52      4           5  56000  \n",
       "2   42      4           4  37000  \n",
       "3   65      1           4  49500  \n",
       "4   70      3           5  55000  "
      ]
     },
     "execution_count": 1,
     "metadata": {},
     "output_type": "execute_result"
    }
   ],
   "source": [
    "import pandas as pd\n",
    "import numpy as np\n",
    "import sklearn\n",
    "import statsmodels.api as sm\n",
    "import matplotlib.pyplot as plt\n",
    "import seaborn as sns\n",
    "\n",
    "%matplotlib inline\n",
    "sns.set(rc={'figure.figsize':(20,6)})\n",
    "\n",
    "raw_data = pd.read_csv('https://raw.githubusercontent.com/anvarnarz/praktikum_datasets/main/housing_data_08-02-2021.csv')\n",
    "raw_data.head()"
   ]
  },
  {
   "cell_type": "markdown",
   "metadata": {
    "id": "A1wt67xRcPcB"
   },
   "source": [
    "# Ustunlar ta'rifi\n",
    "- `location` - sotilayotgan uy manzili\n",
    "- `district` - uy joylashgan tuman\n",
    "- `rooms` - xonalar soni\n",
    "- `size` - uy maydoni (kv.m)\n",
    "- `level` - uy joylashgan qavat\n",
    "- `max_levels` - ja'mi qavatlar soni\n",
    "- `price` - uy narxi\n",
    "\n",
    "## Vazifani CRSIP-DM Metolodgiyasi yordamida bajaring.\n",
    "<img src=\"https://i.imgur.com/dzZnnYi.png\" alt=\"CRISP-DM\" width=\"800\"/>"
   ]
  },
  {
   "cell_type": "code",
   "execution_count": 2,
   "metadata": {
    "id": "_QZesEx0cNId"
   },
   "outputs": [
    {
     "data": {
      "text/plain": [
       "(7565, 7)"
      ]
     },
     "execution_count": 2,
     "metadata": {},
     "output_type": "execute_result"
    }
   ],
   "source": [
    "raw_data.shape"
   ]
  },
  {
   "cell_type": "code",
   "execution_count": 3,
   "metadata": {},
   "outputs": [
    {
     "data": {
      "text/html": [
       "<div>\n",
       "<style scoped>\n",
       "    .dataframe tbody tr th:only-of-type {\n",
       "        vertical-align: middle;\n",
       "    }\n",
       "\n",
       "    .dataframe tbody tr th {\n",
       "        vertical-align: top;\n",
       "    }\n",
       "\n",
       "    .dataframe thead th {\n",
       "        text-align: right;\n",
       "    }\n",
       "</style>\n",
       "<table border=\"1\" class=\"dataframe\">\n",
       "  <thead>\n",
       "    <tr style=\"text-align: right;\">\n",
       "      <th></th>\n",
       "      <th>location</th>\n",
       "      <th>district</th>\n",
       "      <th>rooms</th>\n",
       "      <th>size</th>\n",
       "      <th>level</th>\n",
       "      <th>max_levels</th>\n",
       "      <th>price</th>\n",
       "    </tr>\n",
       "  </thead>\n",
       "  <tbody>\n",
       "    <tr>\n",
       "      <th>count</th>\n",
       "      <td>7565</td>\n",
       "      <td>7565</td>\n",
       "      <td>7565.000000</td>\n",
       "      <td>7565</td>\n",
       "      <td>7565.000000</td>\n",
       "      <td>7565.000000</td>\n",
       "      <td>7565</td>\n",
       "    </tr>\n",
       "    <tr>\n",
       "      <th>unique</th>\n",
       "      <td>1600</td>\n",
       "      <td>12</td>\n",
       "      <td>NaN</td>\n",
       "      <td>407</td>\n",
       "      <td>NaN</td>\n",
       "      <td>NaN</td>\n",
       "      <td>717</td>\n",
       "    </tr>\n",
       "    <tr>\n",
       "      <th>top</th>\n",
       "      <td>город Ташкент, Чиланзарский район, Чиланзар</td>\n",
       "      <td>Чиланзарский</td>\n",
       "      <td>NaN</td>\n",
       "      <td>60</td>\n",
       "      <td>NaN</td>\n",
       "      <td>NaN</td>\n",
       "      <td>35000</td>\n",
       "    </tr>\n",
       "    <tr>\n",
       "      <th>freq</th>\n",
       "      <td>112</td>\n",
       "      <td>1641</td>\n",
       "      <td>NaN</td>\n",
       "      <td>379</td>\n",
       "      <td>NaN</td>\n",
       "      <td>NaN</td>\n",
       "      <td>158</td>\n",
       "    </tr>\n",
       "    <tr>\n",
       "      <th>mean</th>\n",
       "      <td>NaN</td>\n",
       "      <td>NaN</td>\n",
       "      <td>2.625644</td>\n",
       "      <td>NaN</td>\n",
       "      <td>3.699273</td>\n",
       "      <td>6.038202</td>\n",
       "      <td>NaN</td>\n",
       "    </tr>\n",
       "    <tr>\n",
       "      <th>std</th>\n",
       "      <td>NaN</td>\n",
       "      <td>NaN</td>\n",
       "      <td>1.085201</td>\n",
       "      <td>NaN</td>\n",
       "      <td>2.237275</td>\n",
       "      <td>2.613271</td>\n",
       "      <td>NaN</td>\n",
       "    </tr>\n",
       "    <tr>\n",
       "      <th>min</th>\n",
       "      <td>NaN</td>\n",
       "      <td>NaN</td>\n",
       "      <td>1.000000</td>\n",
       "      <td>NaN</td>\n",
       "      <td>1.000000</td>\n",
       "      <td>1.000000</td>\n",
       "      <td>NaN</td>\n",
       "    </tr>\n",
       "    <tr>\n",
       "      <th>25%</th>\n",
       "      <td>NaN</td>\n",
       "      <td>NaN</td>\n",
       "      <td>2.000000</td>\n",
       "      <td>NaN</td>\n",
       "      <td>2.000000</td>\n",
       "      <td>4.000000</td>\n",
       "      <td>NaN</td>\n",
       "    </tr>\n",
       "    <tr>\n",
       "      <th>50%</th>\n",
       "      <td>NaN</td>\n",
       "      <td>NaN</td>\n",
       "      <td>3.000000</td>\n",
       "      <td>NaN</td>\n",
       "      <td>3.000000</td>\n",
       "      <td>5.000000</td>\n",
       "      <td>NaN</td>\n",
       "    </tr>\n",
       "    <tr>\n",
       "      <th>75%</th>\n",
       "      <td>NaN</td>\n",
       "      <td>NaN</td>\n",
       "      <td>3.000000</td>\n",
       "      <td>NaN</td>\n",
       "      <td>5.000000</td>\n",
       "      <td>9.000000</td>\n",
       "      <td>NaN</td>\n",
       "    </tr>\n",
       "    <tr>\n",
       "      <th>max</th>\n",
       "      <td>NaN</td>\n",
       "      <td>NaN</td>\n",
       "      <td>10.000000</td>\n",
       "      <td>NaN</td>\n",
       "      <td>19.000000</td>\n",
       "      <td>25.000000</td>\n",
       "      <td>NaN</td>\n",
       "    </tr>\n",
       "  </tbody>\n",
       "</table>\n",
       "</div>"
      ],
      "text/plain": [
       "                                           location      district  \\\n",
       "count                                          7565          7565   \n",
       "unique                                         1600            12   \n",
       "top     город Ташкент, Чиланзарский район, Чиланзар  Чиланзарский   \n",
       "freq                                            112          1641   \n",
       "mean                                            NaN           NaN   \n",
       "std                                             NaN           NaN   \n",
       "min                                             NaN           NaN   \n",
       "25%                                             NaN           NaN   \n",
       "50%                                             NaN           NaN   \n",
       "75%                                             NaN           NaN   \n",
       "max                                             NaN           NaN   \n",
       "\n",
       "              rooms  size        level   max_levels  price  \n",
       "count   7565.000000  7565  7565.000000  7565.000000   7565  \n",
       "unique          NaN   407          NaN          NaN    717  \n",
       "top             NaN    60          NaN          NaN  35000  \n",
       "freq            NaN   379          NaN          NaN    158  \n",
       "mean       2.625644   NaN     3.699273     6.038202    NaN  \n",
       "std        1.085201   NaN     2.237275     2.613271    NaN  \n",
       "min        1.000000   NaN     1.000000     1.000000    NaN  \n",
       "25%        2.000000   NaN     2.000000     4.000000    NaN  \n",
       "50%        3.000000   NaN     3.000000     5.000000    NaN  \n",
       "75%        3.000000   NaN     5.000000     9.000000    NaN  \n",
       "max       10.000000   NaN    19.000000    25.000000    NaN  "
      ]
     },
     "execution_count": 3,
     "metadata": {},
     "output_type": "execute_result"
    }
   ],
   "source": [
    "raw_data.describe(include= 'all')"
   ]
  },
  {
   "cell_type": "code",
   "execution_count": 4,
   "metadata": {},
   "outputs": [
    {
     "data": {
      "text/plain": [
       "location      object\n",
       "district      object\n",
       "rooms          int64\n",
       "size          object\n",
       "level          int64\n",
       "max_levels     int64\n",
       "price         object\n",
       "dtype: object"
      ]
     },
     "execution_count": 4,
     "metadata": {},
     "output_type": "execute_result"
    }
   ],
   "source": [
    "raw_data.dtypes"
   ]
  },
  {
   "cell_type": "markdown",
   "metadata": {},
   "source": [
    "# Malumotlarga ishlov berishni boshlaymiz"
   ]
  },
  {
   "cell_type": "markdown",
   "metadata": {},
   "source": [
    "## > Dastavval 'location' ustunni alohida DataFrame sifatida tahlil qilib ko'ramiz ma'nili malumotlar guruhinni aniqlasak asosiy DataFrame ga merge qilamiz aks holda ushbu ustunni tashlab yuboramiz"
   ]
  },
  {
   "cell_type": "code",
   "execution_count": 5,
   "metadata": {},
   "outputs": [
    {
     "data": {
      "text/html": [
       "<div>\n",
       "<style scoped>\n",
       "    .dataframe tbody tr th:only-of-type {\n",
       "        vertical-align: middle;\n",
       "    }\n",
       "\n",
       "    .dataframe tbody tr th {\n",
       "        vertical-align: top;\n",
       "    }\n",
       "\n",
       "    .dataframe thead th {\n",
       "        text-align: right;\n",
       "    }\n",
       "</style>\n",
       "<table border=\"1\" class=\"dataframe\">\n",
       "  <thead>\n",
       "    <tr style=\"text-align: right;\">\n",
       "      <th></th>\n",
       "      <th>location</th>\n",
       "    </tr>\n",
       "  </thead>\n",
       "  <tbody>\n",
       "    <tr>\n",
       "      <th>0</th>\n",
       "      <td>город Ташкент, Юнусабадский район, Юнусабад 8-...</td>\n",
       "    </tr>\n",
       "    <tr>\n",
       "      <th>1</th>\n",
       "      <td>город Ташкент, Яккасарайский район, 1-й тупик ...</td>\n",
       "    </tr>\n",
       "    <tr>\n",
       "      <th>2</th>\n",
       "      <td>город Ташкент, Чиланзарский район, Чиланзар 2-...</td>\n",
       "    </tr>\n",
       "    <tr>\n",
       "      <th>3</th>\n",
       "      <td>город Ташкент, Чиланзарский район, Чиланзар 9-...</td>\n",
       "    </tr>\n",
       "    <tr>\n",
       "      <th>4</th>\n",
       "      <td>город Ташкент, Чиланзарский район, площадь Актепа</td>\n",
       "    </tr>\n",
       "    <tr>\n",
       "      <th>...</th>\n",
       "      <td>...</td>\n",
       "    </tr>\n",
       "    <tr>\n",
       "      <th>7560</th>\n",
       "      <td>город Ташкент, Яшнободский район, Городок Авиа...</td>\n",
       "    </tr>\n",
       "    <tr>\n",
       "      <th>7561</th>\n",
       "      <td>город Ташкент, Яшнободский район, 1-й проезд А...</td>\n",
       "    </tr>\n",
       "    <tr>\n",
       "      <th>7562</th>\n",
       "      <td>город Ташкент, Шайхантахурский район, Зульфиях...</td>\n",
       "    </tr>\n",
       "    <tr>\n",
       "      <th>7563</th>\n",
       "      <td>город Ташкент, Мирзо-Улугбекский район, Буюк И...</td>\n",
       "    </tr>\n",
       "    <tr>\n",
       "      <th>7564</th>\n",
       "      <td>город Ташкент, Чиланзарский район, Чиланзар 6-...</td>\n",
       "    </tr>\n",
       "  </tbody>\n",
       "</table>\n",
       "<p>7565 rows × 1 columns</p>\n",
       "</div>"
      ],
      "text/plain": [
       "                                               location\n",
       "0     город Ташкент, Юнусабадский район, Юнусабад 8-...\n",
       "1     город Ташкент, Яккасарайский район, 1-й тупик ...\n",
       "2     город Ташкент, Чиланзарский район, Чиланзар 2-...\n",
       "3     город Ташкент, Чиланзарский район, Чиланзар 9-...\n",
       "4     город Ташкент, Чиланзарский район, площадь Актепа\n",
       "...                                                 ...\n",
       "7560  город Ташкент, Яшнободский район, Городок Авиа...\n",
       "7561  город Ташкент, Яшнободский район, 1-й проезд А...\n",
       "7562  город Ташкент, Шайхантахурский район, Зульфиях...\n",
       "7563  город Ташкент, Мирзо-Улугбекский район, Буюк И...\n",
       "7564  город Ташкент, Чиланзарский район, Чиланзар 6-...\n",
       "\n",
       "[7565 rows x 1 columns]"
      ]
     },
     "execution_count": 5,
     "metadata": {},
     "output_type": "execute_result"
    }
   ],
   "source": [
    "rd_location = raw_data[['location']]\n",
    "rd_location"
   ]
  },
  {
   "cell_type": "code",
   "execution_count": 6,
   "metadata": {},
   "outputs": [],
   "source": [
    "[x.split(',') for x in rd_location.location]\n",
    "df_loc = pd.DataFrame([x.split(',') for x in rd_location.location])"
   ]
  },
  {
   "cell_type": "markdown",
   "metadata": {},
   "source": [
    "### Birinchi ustunni unikal qiymatlarini tekshiramiz va agar faqat Toshkent shahri bo'lsa tashlab yuboramiz"
   ]
  },
  {
   "cell_type": "code",
   "execution_count": 7,
   "metadata": {
    "scrolled": false
   },
   "outputs": [
    {
     "data": {
      "text/plain": [
       "array(['город Ташкент'], dtype=object)"
      ]
     },
     "execution_count": 7,
     "metadata": {},
     "output_type": "execute_result"
    }
   ],
   "source": [
    "df_loc[0].unique()"
   ]
  },
  {
   "cell_type": "code",
   "execution_count": 8,
   "metadata": {},
   "outputs": [
    {
     "data": {
      "text/html": [
       "<div>\n",
       "<style scoped>\n",
       "    .dataframe tbody tr th:only-of-type {\n",
       "        vertical-align: middle;\n",
       "    }\n",
       "\n",
       "    .dataframe tbody tr th {\n",
       "        vertical-align: top;\n",
       "    }\n",
       "\n",
       "    .dataframe thead th {\n",
       "        text-align: right;\n",
       "    }\n",
       "</style>\n",
       "<table border=\"1\" class=\"dataframe\">\n",
       "  <thead>\n",
       "    <tr style=\"text-align: right;\">\n",
       "      <th></th>\n",
       "      <th>1</th>\n",
       "      <th>2</th>\n",
       "      <th>3</th>\n",
       "      <th>4</th>\n",
       "      <th>5</th>\n",
       "    </tr>\n",
       "  </thead>\n",
       "  <tbody>\n",
       "    <tr>\n",
       "      <th>0</th>\n",
       "      <td>Юнусабадский район</td>\n",
       "      <td>Юнусабад 8-й квартал</td>\n",
       "      <td>None</td>\n",
       "      <td>None</td>\n",
       "      <td>None</td>\n",
       "    </tr>\n",
       "    <tr>\n",
       "      <th>1</th>\n",
       "      <td>Яккасарайский район</td>\n",
       "      <td>1-й тупик Шота Руставели</td>\n",
       "      <td>None</td>\n",
       "      <td>None</td>\n",
       "      <td>None</td>\n",
       "    </tr>\n",
       "    <tr>\n",
       "      <th>2</th>\n",
       "      <td>Чиланзарский район</td>\n",
       "      <td>Чиланзар 2-й квартал</td>\n",
       "      <td>None</td>\n",
       "      <td>None</td>\n",
       "      <td>None</td>\n",
       "    </tr>\n",
       "    <tr>\n",
       "      <th>3</th>\n",
       "      <td>Чиланзарский район</td>\n",
       "      <td>Чиланзар 9-й квартал</td>\n",
       "      <td>None</td>\n",
       "      <td>None</td>\n",
       "      <td>None</td>\n",
       "    </tr>\n",
       "    <tr>\n",
       "      <th>4</th>\n",
       "      <td>Чиланзарский район</td>\n",
       "      <td>площадь Актепа</td>\n",
       "      <td>None</td>\n",
       "      <td>None</td>\n",
       "      <td>None</td>\n",
       "    </tr>\n",
       "  </tbody>\n",
       "</table>\n",
       "</div>"
      ],
      "text/plain": [
       "                      1                          2     3     4     5\n",
       "0    Юнусабадский район       Юнусабад 8-й квартал  None  None  None\n",
       "1   Яккасарайский район   1-й тупик Шота Руставели  None  None  None\n",
       "2    Чиланзарский район       Чиланзар 2-й квартал  None  None  None\n",
       "3    Чиланзарский район       Чиланзар 9-й квартал  None  None  None\n",
       "4    Чиланзарский район             площадь Актепа  None  None  None"
      ]
     },
     "execution_count": 8,
     "metadata": {},
     "output_type": "execute_result"
    }
   ],
   "source": [
    "df_loc.drop(0, axis=1, inplace=True)\n",
    "df_loc.head()"
   ]
  },
  {
   "cell_type": "code",
   "execution_count": 9,
   "metadata": {
    "scrolled": true
   },
   "outputs": [
    {
     "data": {
      "text/plain": [
       "1       0\n",
       "2      30\n",
       "3    7509\n",
       "4    7552\n",
       "5    7564\n",
       "dtype: int64"
      ]
     },
     "execution_count": 9,
     "metadata": {},
     "output_type": "execute_result"
    }
   ],
   "source": [
    "df_loc.isna().sum()"
   ]
  },
  {
   "cell_type": "markdown",
   "metadata": {},
   "source": [
    "### 3, 4, 5 ustunlarda xaddan tashqari Null qiymatlar bo'lganligi sababli tashlab yuboramiz"
   ]
  },
  {
   "cell_type": "code",
   "execution_count": 10,
   "metadata": {},
   "outputs": [],
   "source": [
    "df_loc.drop(labels=[3,4,5], axis=1, inplace=True)"
   ]
  },
  {
   "cell_type": "markdown",
   "metadata": {},
   "source": [
    "### 2 ustunni qaraymiz"
   ]
  },
  {
   "cell_type": "code",
   "execution_count": 11,
   "metadata": {},
   "outputs": [
    {
     "data": {
      "text/plain": [
       "1502"
      ]
     },
     "execution_count": 11,
     "metadata": {},
     "output_type": "execute_result"
    }
   ],
   "source": [
    "len(df_loc[2].unique())"
   ]
  },
  {
   "cell_type": "markdown",
   "metadata": {},
   "source": [
    "### Bizda 1502 ta unikalni obyekt mavjud va buni tug'irlab analiz qilish juda murakkab shuning uchun bu ustunni ham tashlab yuboramiz. Hamda 1 chi ustunni qoldirgan holatda uni asl Datamizdagi 'district' ustuni bilan tekshiramiz sababi xato tuman belgilanga bulishi mumkin yoki yo'q tekshirish."
   ]
  },
  {
   "cell_type": "code",
   "execution_count": 12,
   "metadata": {},
   "outputs": [],
   "source": [
    "df_loc.drop(2, axis=1, inplace= True)"
   ]
  },
  {
   "cell_type": "code",
   "execution_count": 13,
   "metadata": {},
   "outputs": [],
   "source": [
    "df_loc_distr = pd.DataFrame([x.split(' ')[1] for x in df_loc[1]])"
   ]
  },
  {
   "cell_type": "code",
   "execution_count": 14,
   "metadata": {},
   "outputs": [],
   "source": [
    "df_loc_distr.columns = ['district']"
   ]
  },
  {
   "cell_type": "code",
   "execution_count": 15,
   "metadata": {},
   "outputs": [],
   "source": [
    "check = pd.DataFrame([df_loc_distr.iat[i,0] == raw_data.iat[i,1] for i in raw_data.index])"
   ]
  },
  {
   "cell_type": "code",
   "execution_count": 16,
   "metadata": {},
   "outputs": [
    {
     "data": {
      "text/plain": [
       "True    7565\n",
       "dtype: int64"
      ]
     },
     "execution_count": 16,
     "metadata": {},
     "output_type": "execute_result"
    }
   ],
   "source": [
    "check.value_counts()"
   ]
  },
  {
   "cell_type": "markdown",
   "metadata": {},
   "source": [
    "### Barcha qiymatlar True yani Toshkent shahirini tumanlari tug'ri yozilgan. Shunday ekan asl datadagi  'location' ustunni tashlab yuborsak bo'ladi, sababi ma'nili malumot topilmadi."
   ]
  },
  {
   "cell_type": "code",
   "execution_count": 17,
   "metadata": {},
   "outputs": [],
   "source": [
    "raw_data.drop('location', axis=1, inplace=True)"
   ]
  },
  {
   "cell_type": "code",
   "execution_count": 18,
   "metadata": {},
   "outputs": [
    {
     "data": {
      "text/html": [
       "<div>\n",
       "<style scoped>\n",
       "    .dataframe tbody tr th:only-of-type {\n",
       "        vertical-align: middle;\n",
       "    }\n",
       "\n",
       "    .dataframe tbody tr th {\n",
       "        vertical-align: top;\n",
       "    }\n",
       "\n",
       "    .dataframe thead th {\n",
       "        text-align: right;\n",
       "    }\n",
       "</style>\n",
       "<table border=\"1\" class=\"dataframe\">\n",
       "  <thead>\n",
       "    <tr style=\"text-align: right;\">\n",
       "      <th></th>\n",
       "      <th>district</th>\n",
       "      <th>rooms</th>\n",
       "      <th>size</th>\n",
       "      <th>level</th>\n",
       "      <th>max_levels</th>\n",
       "      <th>price</th>\n",
       "    </tr>\n",
       "  </thead>\n",
       "  <tbody>\n",
       "    <tr>\n",
       "      <th>0</th>\n",
       "      <td>Юнусабадский</td>\n",
       "      <td>3</td>\n",
       "      <td>57</td>\n",
       "      <td>4</td>\n",
       "      <td>4</td>\n",
       "      <td>52000</td>\n",
       "    </tr>\n",
       "    <tr>\n",
       "      <th>1</th>\n",
       "      <td>Яккасарайский</td>\n",
       "      <td>2</td>\n",
       "      <td>52</td>\n",
       "      <td>4</td>\n",
       "      <td>5</td>\n",
       "      <td>56000</td>\n",
       "    </tr>\n",
       "    <tr>\n",
       "      <th>2</th>\n",
       "      <td>Чиланзарский</td>\n",
       "      <td>2</td>\n",
       "      <td>42</td>\n",
       "      <td>4</td>\n",
       "      <td>4</td>\n",
       "      <td>37000</td>\n",
       "    </tr>\n",
       "    <tr>\n",
       "      <th>3</th>\n",
       "      <td>Чиланзарский</td>\n",
       "      <td>3</td>\n",
       "      <td>65</td>\n",
       "      <td>1</td>\n",
       "      <td>4</td>\n",
       "      <td>49500</td>\n",
       "    </tr>\n",
       "    <tr>\n",
       "      <th>4</th>\n",
       "      <td>Чиланзарский</td>\n",
       "      <td>3</td>\n",
       "      <td>70</td>\n",
       "      <td>3</td>\n",
       "      <td>5</td>\n",
       "      <td>55000</td>\n",
       "    </tr>\n",
       "    <tr>\n",
       "      <th>...</th>\n",
       "      <td>...</td>\n",
       "      <td>...</td>\n",
       "      <td>...</td>\n",
       "      <td>...</td>\n",
       "      <td>...</td>\n",
       "      <td>...</td>\n",
       "    </tr>\n",
       "    <tr>\n",
       "      <th>7560</th>\n",
       "      <td>Яшнободский</td>\n",
       "      <td>1</td>\n",
       "      <td>38</td>\n",
       "      <td>5</td>\n",
       "      <td>5</td>\n",
       "      <td>24500</td>\n",
       "    </tr>\n",
       "    <tr>\n",
       "      <th>7561</th>\n",
       "      <td>Яшнободский</td>\n",
       "      <td>2</td>\n",
       "      <td>49</td>\n",
       "      <td>1</td>\n",
       "      <td>4</td>\n",
       "      <td>32000</td>\n",
       "    </tr>\n",
       "    <tr>\n",
       "      <th>7562</th>\n",
       "      <td>Шайхантахурский</td>\n",
       "      <td>2</td>\n",
       "      <td>64</td>\n",
       "      <td>3</td>\n",
       "      <td>9</td>\n",
       "      <td>40000</td>\n",
       "    </tr>\n",
       "    <tr>\n",
       "      <th>7563</th>\n",
       "      <td>Мирзо-Улугбекский</td>\n",
       "      <td>1</td>\n",
       "      <td>18</td>\n",
       "      <td>1</td>\n",
       "      <td>4</td>\n",
       "      <td>11000</td>\n",
       "    </tr>\n",
       "    <tr>\n",
       "      <th>7564</th>\n",
       "      <td>Чиланзарский</td>\n",
       "      <td>1</td>\n",
       "      <td>30</td>\n",
       "      <td>2</td>\n",
       "      <td>4</td>\n",
       "      <td>22914</td>\n",
       "    </tr>\n",
       "  </tbody>\n",
       "</table>\n",
       "<p>7565 rows × 6 columns</p>\n",
       "</div>"
      ],
      "text/plain": [
       "               district  rooms size  level  max_levels  price\n",
       "0          Юнусабадский      3   57      4           4  52000\n",
       "1         Яккасарайский      2   52      4           5  56000\n",
       "2          Чиланзарский      2   42      4           4  37000\n",
       "3          Чиланзарский      3   65      1           4  49500\n",
       "4          Чиланзарский      3   70      3           5  55000\n",
       "...                 ...    ...  ...    ...         ...    ...\n",
       "7560        Яшнободский      1   38      5           5  24500\n",
       "7561        Яшнободский      2   49      1           4  32000\n",
       "7562    Шайхантахурский      2   64      3           9  40000\n",
       "7563  Мирзо-Улугбекский      1   18      1           4  11000\n",
       "7564       Чиланзарский      1   30      2           4  22914\n",
       "\n",
       "[7565 rows x 6 columns]"
      ]
     },
     "execution_count": 18,
     "metadata": {},
     "output_type": "execute_result"
    }
   ],
   "source": [
    "raw_data"
   ]
  },
  {
   "cell_type": "code",
   "execution_count": 19,
   "metadata": {},
   "outputs": [
    {
     "data": {
      "text/plain": [
       "12"
      ]
     },
     "execution_count": 19,
     "metadata": {},
     "output_type": "execute_result"
    }
   ],
   "source": [
    "len(raw_data.district.unique())"
   ]
  },
  {
   "cell_type": "code",
   "execution_count": 20,
   "metadata": {},
   "outputs": [
    {
     "data": {
      "text/plain": [
       "Чиланзарский         1641\n",
       "Мирзо-Улугбекский    1382\n",
       "Юнусабадский          883\n",
       "Учтепинский           880\n",
       "Мирабадский           773\n",
       "Яккасарайский         658\n",
       "Яшнободский           484\n",
       "Шайхантахурский       396\n",
       "Олмазорский           269\n",
       "Сергелийский          175\n",
       "Янгихаётский           16\n",
       "Бектемирский            8\n",
       "Name: district, dtype: int64"
      ]
     },
     "execution_count": 20,
     "metadata": {},
     "output_type": "execute_result"
    }
   ],
   "source": [
    "raw_data.district.value_counts()"
   ]
  },
  {
   "cell_type": "markdown",
   "metadata": {},
   "source": [
    "### Numeric lekin Object typa o'tib qolgan ustunlarni dtype ni o'zgartiramiz"
   ]
  },
  {
   "cell_type": "code",
   "execution_count": 21,
   "metadata": {},
   "outputs": [
    {
     "data": {
      "text/plain": [
       "district      object\n",
       "rooms          int64\n",
       "size          object\n",
       "level          int64\n",
       "max_levels     int64\n",
       "price         object\n",
       "dtype: object"
      ]
     },
     "execution_count": 21,
     "metadata": {},
     "output_type": "execute_result"
    }
   ],
   "source": [
    "raw_data.dtypes"
   ]
  },
  {
   "cell_type": "code",
   "execution_count": 22,
   "metadata": {},
   "outputs": [
    {
     "ename": "ValueError",
     "evalue": "could not convert string to float: 'Площадьземли:1сот'",
     "output_type": "error",
     "traceback": [
      "\u001b[1;31m---------------------------------------------------------------------------\u001b[0m",
      "\u001b[1;31mValueError\u001b[0m                                Traceback (most recent call last)",
      "\u001b[1;32m~\\AppData\\Local\\Temp\\ipykernel_13136\\2532235234.py\u001b[0m in \u001b[0;36m<module>\u001b[1;34m\u001b[0m\n\u001b[1;32m----> 1\u001b[1;33m \u001b[0mraw_data\u001b[0m \u001b[1;33m=\u001b[0m \u001b[0mraw_data\u001b[0m\u001b[1;33m.\u001b[0m\u001b[0mastype\u001b[0m\u001b[1;33m(\u001b[0m\u001b[1;33m{\u001b[0m\u001b[1;34m\"size\"\u001b[0m\u001b[1;33m:\u001b[0m \u001b[0mfloat\u001b[0m\u001b[1;33m,\u001b[0m \u001b[1;34m\"price\"\u001b[0m\u001b[1;33m:\u001b[0m \u001b[0mfloat\u001b[0m\u001b[1;33m}\u001b[0m\u001b[1;33m)\u001b[0m\u001b[1;33m\u001b[0m\u001b[1;33m\u001b[0m\u001b[0m\n\u001b[0m",
      "\u001b[1;32m~\\anaconda3\\lib\\site-packages\\pandas\\core\\generic.py\u001b[0m in \u001b[0;36mastype\u001b[1;34m(self, dtype, copy, errors)\u001b[0m\n\u001b[0;32m   5896\u001b[0m                     \u001b[0mres_col\u001b[0m \u001b[1;33m=\u001b[0m \u001b[0mcol\u001b[0m\u001b[1;33m.\u001b[0m\u001b[0mcopy\u001b[0m\u001b[1;33m(\u001b[0m\u001b[1;33m)\u001b[0m \u001b[1;32mif\u001b[0m \u001b[0mcopy\u001b[0m \u001b[1;32melse\u001b[0m \u001b[0mcol\u001b[0m\u001b[1;33m\u001b[0m\u001b[1;33m\u001b[0m\u001b[0m\n\u001b[0;32m   5897\u001b[0m                 \u001b[1;32melse\u001b[0m\u001b[1;33m:\u001b[0m\u001b[1;33m\u001b[0m\u001b[1;33m\u001b[0m\u001b[0m\n\u001b[1;32m-> 5898\u001b[1;33m                     \u001b[0mres_col\u001b[0m \u001b[1;33m=\u001b[0m \u001b[0mcol\u001b[0m\u001b[1;33m.\u001b[0m\u001b[0mastype\u001b[0m\u001b[1;33m(\u001b[0m\u001b[0mdtype\u001b[0m\u001b[1;33m=\u001b[0m\u001b[0mcdt\u001b[0m\u001b[1;33m,\u001b[0m \u001b[0mcopy\u001b[0m\u001b[1;33m=\u001b[0m\u001b[0mcopy\u001b[0m\u001b[1;33m,\u001b[0m \u001b[0merrors\u001b[0m\u001b[1;33m=\u001b[0m\u001b[0merrors\u001b[0m\u001b[1;33m)\u001b[0m\u001b[1;33m\u001b[0m\u001b[1;33m\u001b[0m\u001b[0m\n\u001b[0m\u001b[0;32m   5899\u001b[0m                 \u001b[0mresults\u001b[0m\u001b[1;33m.\u001b[0m\u001b[0mappend\u001b[0m\u001b[1;33m(\u001b[0m\u001b[0mres_col\u001b[0m\u001b[1;33m)\u001b[0m\u001b[1;33m\u001b[0m\u001b[1;33m\u001b[0m\u001b[0m\n\u001b[0;32m   5900\u001b[0m \u001b[1;33m\u001b[0m\u001b[0m\n",
      "\u001b[1;32m~\\anaconda3\\lib\\site-packages\\pandas\\core\\generic.py\u001b[0m in \u001b[0;36mastype\u001b[1;34m(self, dtype, copy, errors)\u001b[0m\n\u001b[0;32m   5910\u001b[0m         \u001b[1;32melse\u001b[0m\u001b[1;33m:\u001b[0m\u001b[1;33m\u001b[0m\u001b[1;33m\u001b[0m\u001b[0m\n\u001b[0;32m   5911\u001b[0m             \u001b[1;31m# else, only a single dtype is given\u001b[0m\u001b[1;33m\u001b[0m\u001b[1;33m\u001b[0m\u001b[0m\n\u001b[1;32m-> 5912\u001b[1;33m             \u001b[0mnew_data\u001b[0m \u001b[1;33m=\u001b[0m \u001b[0mself\u001b[0m\u001b[1;33m.\u001b[0m\u001b[0m_mgr\u001b[0m\u001b[1;33m.\u001b[0m\u001b[0mastype\u001b[0m\u001b[1;33m(\u001b[0m\u001b[0mdtype\u001b[0m\u001b[1;33m=\u001b[0m\u001b[0mdtype\u001b[0m\u001b[1;33m,\u001b[0m \u001b[0mcopy\u001b[0m\u001b[1;33m=\u001b[0m\u001b[0mcopy\u001b[0m\u001b[1;33m,\u001b[0m \u001b[0merrors\u001b[0m\u001b[1;33m=\u001b[0m\u001b[0merrors\u001b[0m\u001b[1;33m)\u001b[0m\u001b[1;33m\u001b[0m\u001b[1;33m\u001b[0m\u001b[0m\n\u001b[0m\u001b[0;32m   5913\u001b[0m             \u001b[1;32mreturn\u001b[0m \u001b[0mself\u001b[0m\u001b[1;33m.\u001b[0m\u001b[0m_constructor\u001b[0m\u001b[1;33m(\u001b[0m\u001b[0mnew_data\u001b[0m\u001b[1;33m)\u001b[0m\u001b[1;33m.\u001b[0m\u001b[0m__finalize__\u001b[0m\u001b[1;33m(\u001b[0m\u001b[0mself\u001b[0m\u001b[1;33m,\u001b[0m \u001b[0mmethod\u001b[0m\u001b[1;33m=\u001b[0m\u001b[1;34m\"astype\"\u001b[0m\u001b[1;33m)\u001b[0m\u001b[1;33m\u001b[0m\u001b[1;33m\u001b[0m\u001b[0m\n\u001b[0;32m   5914\u001b[0m \u001b[1;33m\u001b[0m\u001b[0m\n",
      "\u001b[1;32m~\\anaconda3\\lib\\site-packages\\pandas\\core\\internals\\managers.py\u001b[0m in \u001b[0;36mastype\u001b[1;34m(self, dtype, copy, errors)\u001b[0m\n\u001b[0;32m    417\u001b[0m \u001b[1;33m\u001b[0m\u001b[0m\n\u001b[0;32m    418\u001b[0m     \u001b[1;32mdef\u001b[0m \u001b[0mastype\u001b[0m\u001b[1;33m(\u001b[0m\u001b[0mself\u001b[0m\u001b[1;33m:\u001b[0m \u001b[0mT\u001b[0m\u001b[1;33m,\u001b[0m \u001b[0mdtype\u001b[0m\u001b[1;33m,\u001b[0m \u001b[0mcopy\u001b[0m\u001b[1;33m:\u001b[0m \u001b[0mbool\u001b[0m \u001b[1;33m=\u001b[0m \u001b[1;32mFalse\u001b[0m\u001b[1;33m,\u001b[0m \u001b[0merrors\u001b[0m\u001b[1;33m:\u001b[0m \u001b[0mstr\u001b[0m \u001b[1;33m=\u001b[0m \u001b[1;34m\"raise\"\u001b[0m\u001b[1;33m)\u001b[0m \u001b[1;33m->\u001b[0m \u001b[0mT\u001b[0m\u001b[1;33m:\u001b[0m\u001b[1;33m\u001b[0m\u001b[1;33m\u001b[0m\u001b[0m\n\u001b[1;32m--> 419\u001b[1;33m         \u001b[1;32mreturn\u001b[0m \u001b[0mself\u001b[0m\u001b[1;33m.\u001b[0m\u001b[0mapply\u001b[0m\u001b[1;33m(\u001b[0m\u001b[1;34m\"astype\"\u001b[0m\u001b[1;33m,\u001b[0m \u001b[0mdtype\u001b[0m\u001b[1;33m=\u001b[0m\u001b[0mdtype\u001b[0m\u001b[1;33m,\u001b[0m \u001b[0mcopy\u001b[0m\u001b[1;33m=\u001b[0m\u001b[0mcopy\u001b[0m\u001b[1;33m,\u001b[0m \u001b[0merrors\u001b[0m\u001b[1;33m=\u001b[0m\u001b[0merrors\u001b[0m\u001b[1;33m)\u001b[0m\u001b[1;33m\u001b[0m\u001b[1;33m\u001b[0m\u001b[0m\n\u001b[0m\u001b[0;32m    420\u001b[0m \u001b[1;33m\u001b[0m\u001b[0m\n\u001b[0;32m    421\u001b[0m     def convert(\n",
      "\u001b[1;32m~\\anaconda3\\lib\\site-packages\\pandas\\core\\internals\\managers.py\u001b[0m in \u001b[0;36mapply\u001b[1;34m(self, f, align_keys, ignore_failures, **kwargs)\u001b[0m\n\u001b[0;32m    302\u001b[0m                     \u001b[0mapplied\u001b[0m \u001b[1;33m=\u001b[0m \u001b[0mb\u001b[0m\u001b[1;33m.\u001b[0m\u001b[0mapply\u001b[0m\u001b[1;33m(\u001b[0m\u001b[0mf\u001b[0m\u001b[1;33m,\u001b[0m \u001b[1;33m**\u001b[0m\u001b[0mkwargs\u001b[0m\u001b[1;33m)\u001b[0m\u001b[1;33m\u001b[0m\u001b[1;33m\u001b[0m\u001b[0m\n\u001b[0;32m    303\u001b[0m                 \u001b[1;32melse\u001b[0m\u001b[1;33m:\u001b[0m\u001b[1;33m\u001b[0m\u001b[1;33m\u001b[0m\u001b[0m\n\u001b[1;32m--> 304\u001b[1;33m                     \u001b[0mapplied\u001b[0m \u001b[1;33m=\u001b[0m \u001b[0mgetattr\u001b[0m\u001b[1;33m(\u001b[0m\u001b[0mb\u001b[0m\u001b[1;33m,\u001b[0m \u001b[0mf\u001b[0m\u001b[1;33m)\u001b[0m\u001b[1;33m(\u001b[0m\u001b[1;33m**\u001b[0m\u001b[0mkwargs\u001b[0m\u001b[1;33m)\u001b[0m\u001b[1;33m\u001b[0m\u001b[1;33m\u001b[0m\u001b[0m\n\u001b[0m\u001b[0;32m    305\u001b[0m             \u001b[1;32mexcept\u001b[0m \u001b[1;33m(\u001b[0m\u001b[0mTypeError\u001b[0m\u001b[1;33m,\u001b[0m \u001b[0mNotImplementedError\u001b[0m\u001b[1;33m)\u001b[0m\u001b[1;33m:\u001b[0m\u001b[1;33m\u001b[0m\u001b[1;33m\u001b[0m\u001b[0m\n\u001b[0;32m    306\u001b[0m                 \u001b[1;32mif\u001b[0m \u001b[1;32mnot\u001b[0m \u001b[0mignore_failures\u001b[0m\u001b[1;33m:\u001b[0m\u001b[1;33m\u001b[0m\u001b[1;33m\u001b[0m\u001b[0m\n",
      "\u001b[1;32m~\\anaconda3\\lib\\site-packages\\pandas\\core\\internals\\blocks.py\u001b[0m in \u001b[0;36mastype\u001b[1;34m(self, dtype, copy, errors)\u001b[0m\n\u001b[0;32m    578\u001b[0m         \u001b[0mvalues\u001b[0m \u001b[1;33m=\u001b[0m \u001b[0mself\u001b[0m\u001b[1;33m.\u001b[0m\u001b[0mvalues\u001b[0m\u001b[1;33m\u001b[0m\u001b[1;33m\u001b[0m\u001b[0m\n\u001b[0;32m    579\u001b[0m \u001b[1;33m\u001b[0m\u001b[0m\n\u001b[1;32m--> 580\u001b[1;33m         \u001b[0mnew_values\u001b[0m \u001b[1;33m=\u001b[0m \u001b[0mastype_array_safe\u001b[0m\u001b[1;33m(\u001b[0m\u001b[0mvalues\u001b[0m\u001b[1;33m,\u001b[0m \u001b[0mdtype\u001b[0m\u001b[1;33m,\u001b[0m \u001b[0mcopy\u001b[0m\u001b[1;33m=\u001b[0m\u001b[0mcopy\u001b[0m\u001b[1;33m,\u001b[0m \u001b[0merrors\u001b[0m\u001b[1;33m=\u001b[0m\u001b[0merrors\u001b[0m\u001b[1;33m)\u001b[0m\u001b[1;33m\u001b[0m\u001b[1;33m\u001b[0m\u001b[0m\n\u001b[0m\u001b[0;32m    581\u001b[0m \u001b[1;33m\u001b[0m\u001b[0m\n\u001b[0;32m    582\u001b[0m         \u001b[0mnew_values\u001b[0m \u001b[1;33m=\u001b[0m \u001b[0mmaybe_coerce_values\u001b[0m\u001b[1;33m(\u001b[0m\u001b[0mnew_values\u001b[0m\u001b[1;33m)\u001b[0m\u001b[1;33m\u001b[0m\u001b[1;33m\u001b[0m\u001b[0m\n",
      "\u001b[1;32m~\\anaconda3\\lib\\site-packages\\pandas\\core\\dtypes\\cast.py\u001b[0m in \u001b[0;36mastype_array_safe\u001b[1;34m(values, dtype, copy, errors)\u001b[0m\n\u001b[0;32m   1290\u001b[0m \u001b[1;33m\u001b[0m\u001b[0m\n\u001b[0;32m   1291\u001b[0m     \u001b[1;32mtry\u001b[0m\u001b[1;33m:\u001b[0m\u001b[1;33m\u001b[0m\u001b[1;33m\u001b[0m\u001b[0m\n\u001b[1;32m-> 1292\u001b[1;33m         \u001b[0mnew_values\u001b[0m \u001b[1;33m=\u001b[0m \u001b[0mastype_array\u001b[0m\u001b[1;33m(\u001b[0m\u001b[0mvalues\u001b[0m\u001b[1;33m,\u001b[0m \u001b[0mdtype\u001b[0m\u001b[1;33m,\u001b[0m \u001b[0mcopy\u001b[0m\u001b[1;33m=\u001b[0m\u001b[0mcopy\u001b[0m\u001b[1;33m)\u001b[0m\u001b[1;33m\u001b[0m\u001b[1;33m\u001b[0m\u001b[0m\n\u001b[0m\u001b[0;32m   1293\u001b[0m     \u001b[1;32mexcept\u001b[0m \u001b[1;33m(\u001b[0m\u001b[0mValueError\u001b[0m\u001b[1;33m,\u001b[0m \u001b[0mTypeError\u001b[0m\u001b[1;33m)\u001b[0m\u001b[1;33m:\u001b[0m\u001b[1;33m\u001b[0m\u001b[1;33m\u001b[0m\u001b[0m\n\u001b[0;32m   1294\u001b[0m         \u001b[1;31m# e.g. astype_nansafe can fail on object-dtype of strings\u001b[0m\u001b[1;33m\u001b[0m\u001b[1;33m\u001b[0m\u001b[0m\n",
      "\u001b[1;32m~\\anaconda3\\lib\\site-packages\\pandas\\core\\dtypes\\cast.py\u001b[0m in \u001b[0;36mastype_array\u001b[1;34m(values, dtype, copy)\u001b[0m\n\u001b[0;32m   1235\u001b[0m \u001b[1;33m\u001b[0m\u001b[0m\n\u001b[0;32m   1236\u001b[0m     \u001b[1;32melse\u001b[0m\u001b[1;33m:\u001b[0m\u001b[1;33m\u001b[0m\u001b[1;33m\u001b[0m\u001b[0m\n\u001b[1;32m-> 1237\u001b[1;33m         \u001b[0mvalues\u001b[0m \u001b[1;33m=\u001b[0m \u001b[0mastype_nansafe\u001b[0m\u001b[1;33m(\u001b[0m\u001b[0mvalues\u001b[0m\u001b[1;33m,\u001b[0m \u001b[0mdtype\u001b[0m\u001b[1;33m,\u001b[0m \u001b[0mcopy\u001b[0m\u001b[1;33m=\u001b[0m\u001b[0mcopy\u001b[0m\u001b[1;33m)\u001b[0m\u001b[1;33m\u001b[0m\u001b[1;33m\u001b[0m\u001b[0m\n\u001b[0m\u001b[0;32m   1238\u001b[0m \u001b[1;33m\u001b[0m\u001b[0m\n\u001b[0;32m   1239\u001b[0m     \u001b[1;31m# in pandas we don't store numpy str dtypes, so convert to object\u001b[0m\u001b[1;33m\u001b[0m\u001b[1;33m\u001b[0m\u001b[0m\n",
      "\u001b[1;32m~\\anaconda3\\lib\\site-packages\\pandas\\core\\dtypes\\cast.py\u001b[0m in \u001b[0;36mastype_nansafe\u001b[1;34m(arr, dtype, copy, skipna)\u001b[0m\n\u001b[0;32m   1179\u001b[0m     \u001b[1;32mif\u001b[0m \u001b[0mcopy\u001b[0m \u001b[1;32mor\u001b[0m \u001b[0mis_object_dtype\u001b[0m\u001b[1;33m(\u001b[0m\u001b[0marr\u001b[0m\u001b[1;33m.\u001b[0m\u001b[0mdtype\u001b[0m\u001b[1;33m)\u001b[0m \u001b[1;32mor\u001b[0m \u001b[0mis_object_dtype\u001b[0m\u001b[1;33m(\u001b[0m\u001b[0mdtype\u001b[0m\u001b[1;33m)\u001b[0m\u001b[1;33m:\u001b[0m\u001b[1;33m\u001b[0m\u001b[1;33m\u001b[0m\u001b[0m\n\u001b[0;32m   1180\u001b[0m         \u001b[1;31m# Explicit copy, or required since NumPy can't view from / to object.\u001b[0m\u001b[1;33m\u001b[0m\u001b[1;33m\u001b[0m\u001b[0m\n\u001b[1;32m-> 1181\u001b[1;33m         \u001b[1;32mreturn\u001b[0m \u001b[0marr\u001b[0m\u001b[1;33m.\u001b[0m\u001b[0mastype\u001b[0m\u001b[1;33m(\u001b[0m\u001b[0mdtype\u001b[0m\u001b[1;33m,\u001b[0m \u001b[0mcopy\u001b[0m\u001b[1;33m=\u001b[0m\u001b[1;32mTrue\u001b[0m\u001b[1;33m)\u001b[0m\u001b[1;33m\u001b[0m\u001b[1;33m\u001b[0m\u001b[0m\n\u001b[0m\u001b[0;32m   1182\u001b[0m \u001b[1;33m\u001b[0m\u001b[0m\n\u001b[0;32m   1183\u001b[0m     \u001b[1;32mreturn\u001b[0m \u001b[0marr\u001b[0m\u001b[1;33m.\u001b[0m\u001b[0mastype\u001b[0m\u001b[1;33m(\u001b[0m\u001b[0mdtype\u001b[0m\u001b[1;33m,\u001b[0m \u001b[0mcopy\u001b[0m\u001b[1;33m=\u001b[0m\u001b[0mcopy\u001b[0m\u001b[1;33m)\u001b[0m\u001b[1;33m\u001b[0m\u001b[1;33m\u001b[0m\u001b[0m\n",
      "\u001b[1;31mValueError\u001b[0m: could not convert string to float: 'Площадьземли:1сот'"
     ]
    }
   ],
   "source": [
    "raw_data = raw_data.astype({\"size\": float, \"price\": float})"
   ]
  },
  {
   "cell_type": "markdown",
   "metadata": {},
   "source": [
    "### Demak bizda Quyidagi ustunlarda noodatiy qiymatlar bor ularni to'g'irlab chiqamiz yoki tashlab yuboramiz"
   ]
  },
  {
   "cell_type": "code",
   "execution_count": 23,
   "metadata": {
    "scrolled": true
   },
   "outputs": [
    {
     "data": {
      "text/plain": [
       "Int64Index([5347], dtype='int64')"
      ]
     },
     "execution_count": 23,
     "metadata": {},
     "output_type": "execute_result"
    }
   ],
   "source": [
    "idx_s = raw_data[raw_data['size'] == 'Площадьземли:1сот'].index\n",
    "idx_s"
   ]
  },
  {
   "cell_type": "code",
   "execution_count": 24,
   "metadata": {},
   "outputs": [],
   "source": [
    "raw_data.drop(idx_s, axis=0, inplace= True)"
   ]
  },
  {
   "cell_type": "code",
   "execution_count": 25,
   "metadata": {},
   "outputs": [
    {
     "ename": "ValueError",
     "evalue": "could not convert string to float: 'Договорная'",
     "output_type": "error",
     "traceback": [
      "\u001b[1;31m---------------------------------------------------------------------------\u001b[0m",
      "\u001b[1;31mValueError\u001b[0m                                Traceback (most recent call last)",
      "\u001b[1;32m~\\AppData\\Local\\Temp\\ipykernel_13136\\2532235234.py\u001b[0m in \u001b[0;36m<module>\u001b[1;34m\u001b[0m\n\u001b[1;32m----> 1\u001b[1;33m \u001b[0mraw_data\u001b[0m \u001b[1;33m=\u001b[0m \u001b[0mraw_data\u001b[0m\u001b[1;33m.\u001b[0m\u001b[0mastype\u001b[0m\u001b[1;33m(\u001b[0m\u001b[1;33m{\u001b[0m\u001b[1;34m\"size\"\u001b[0m\u001b[1;33m:\u001b[0m \u001b[0mfloat\u001b[0m\u001b[1;33m,\u001b[0m \u001b[1;34m\"price\"\u001b[0m\u001b[1;33m:\u001b[0m \u001b[0mfloat\u001b[0m\u001b[1;33m}\u001b[0m\u001b[1;33m)\u001b[0m\u001b[1;33m\u001b[0m\u001b[1;33m\u001b[0m\u001b[0m\n\u001b[0m",
      "\u001b[1;32m~\\anaconda3\\lib\\site-packages\\pandas\\core\\generic.py\u001b[0m in \u001b[0;36mastype\u001b[1;34m(self, dtype, copy, errors)\u001b[0m\n\u001b[0;32m   5896\u001b[0m                     \u001b[0mres_col\u001b[0m \u001b[1;33m=\u001b[0m \u001b[0mcol\u001b[0m\u001b[1;33m.\u001b[0m\u001b[0mcopy\u001b[0m\u001b[1;33m(\u001b[0m\u001b[1;33m)\u001b[0m \u001b[1;32mif\u001b[0m \u001b[0mcopy\u001b[0m \u001b[1;32melse\u001b[0m \u001b[0mcol\u001b[0m\u001b[1;33m\u001b[0m\u001b[1;33m\u001b[0m\u001b[0m\n\u001b[0;32m   5897\u001b[0m                 \u001b[1;32melse\u001b[0m\u001b[1;33m:\u001b[0m\u001b[1;33m\u001b[0m\u001b[1;33m\u001b[0m\u001b[0m\n\u001b[1;32m-> 5898\u001b[1;33m                     \u001b[0mres_col\u001b[0m \u001b[1;33m=\u001b[0m \u001b[0mcol\u001b[0m\u001b[1;33m.\u001b[0m\u001b[0mastype\u001b[0m\u001b[1;33m(\u001b[0m\u001b[0mdtype\u001b[0m\u001b[1;33m=\u001b[0m\u001b[0mcdt\u001b[0m\u001b[1;33m,\u001b[0m \u001b[0mcopy\u001b[0m\u001b[1;33m=\u001b[0m\u001b[0mcopy\u001b[0m\u001b[1;33m,\u001b[0m \u001b[0merrors\u001b[0m\u001b[1;33m=\u001b[0m\u001b[0merrors\u001b[0m\u001b[1;33m)\u001b[0m\u001b[1;33m\u001b[0m\u001b[1;33m\u001b[0m\u001b[0m\n\u001b[0m\u001b[0;32m   5899\u001b[0m                 \u001b[0mresults\u001b[0m\u001b[1;33m.\u001b[0m\u001b[0mappend\u001b[0m\u001b[1;33m(\u001b[0m\u001b[0mres_col\u001b[0m\u001b[1;33m)\u001b[0m\u001b[1;33m\u001b[0m\u001b[1;33m\u001b[0m\u001b[0m\n\u001b[0;32m   5900\u001b[0m \u001b[1;33m\u001b[0m\u001b[0m\n",
      "\u001b[1;32m~\\anaconda3\\lib\\site-packages\\pandas\\core\\generic.py\u001b[0m in \u001b[0;36mastype\u001b[1;34m(self, dtype, copy, errors)\u001b[0m\n\u001b[0;32m   5910\u001b[0m         \u001b[1;32melse\u001b[0m\u001b[1;33m:\u001b[0m\u001b[1;33m\u001b[0m\u001b[1;33m\u001b[0m\u001b[0m\n\u001b[0;32m   5911\u001b[0m             \u001b[1;31m# else, only a single dtype is given\u001b[0m\u001b[1;33m\u001b[0m\u001b[1;33m\u001b[0m\u001b[0m\n\u001b[1;32m-> 5912\u001b[1;33m             \u001b[0mnew_data\u001b[0m \u001b[1;33m=\u001b[0m \u001b[0mself\u001b[0m\u001b[1;33m.\u001b[0m\u001b[0m_mgr\u001b[0m\u001b[1;33m.\u001b[0m\u001b[0mastype\u001b[0m\u001b[1;33m(\u001b[0m\u001b[0mdtype\u001b[0m\u001b[1;33m=\u001b[0m\u001b[0mdtype\u001b[0m\u001b[1;33m,\u001b[0m \u001b[0mcopy\u001b[0m\u001b[1;33m=\u001b[0m\u001b[0mcopy\u001b[0m\u001b[1;33m,\u001b[0m \u001b[0merrors\u001b[0m\u001b[1;33m=\u001b[0m\u001b[0merrors\u001b[0m\u001b[1;33m)\u001b[0m\u001b[1;33m\u001b[0m\u001b[1;33m\u001b[0m\u001b[0m\n\u001b[0m\u001b[0;32m   5913\u001b[0m             \u001b[1;32mreturn\u001b[0m \u001b[0mself\u001b[0m\u001b[1;33m.\u001b[0m\u001b[0m_constructor\u001b[0m\u001b[1;33m(\u001b[0m\u001b[0mnew_data\u001b[0m\u001b[1;33m)\u001b[0m\u001b[1;33m.\u001b[0m\u001b[0m__finalize__\u001b[0m\u001b[1;33m(\u001b[0m\u001b[0mself\u001b[0m\u001b[1;33m,\u001b[0m \u001b[0mmethod\u001b[0m\u001b[1;33m=\u001b[0m\u001b[1;34m\"astype\"\u001b[0m\u001b[1;33m)\u001b[0m\u001b[1;33m\u001b[0m\u001b[1;33m\u001b[0m\u001b[0m\n\u001b[0;32m   5914\u001b[0m \u001b[1;33m\u001b[0m\u001b[0m\n",
      "\u001b[1;32m~\\anaconda3\\lib\\site-packages\\pandas\\core\\internals\\managers.py\u001b[0m in \u001b[0;36mastype\u001b[1;34m(self, dtype, copy, errors)\u001b[0m\n\u001b[0;32m    417\u001b[0m \u001b[1;33m\u001b[0m\u001b[0m\n\u001b[0;32m    418\u001b[0m     \u001b[1;32mdef\u001b[0m \u001b[0mastype\u001b[0m\u001b[1;33m(\u001b[0m\u001b[0mself\u001b[0m\u001b[1;33m:\u001b[0m \u001b[0mT\u001b[0m\u001b[1;33m,\u001b[0m \u001b[0mdtype\u001b[0m\u001b[1;33m,\u001b[0m \u001b[0mcopy\u001b[0m\u001b[1;33m:\u001b[0m \u001b[0mbool\u001b[0m \u001b[1;33m=\u001b[0m \u001b[1;32mFalse\u001b[0m\u001b[1;33m,\u001b[0m \u001b[0merrors\u001b[0m\u001b[1;33m:\u001b[0m \u001b[0mstr\u001b[0m \u001b[1;33m=\u001b[0m \u001b[1;34m\"raise\"\u001b[0m\u001b[1;33m)\u001b[0m \u001b[1;33m->\u001b[0m \u001b[0mT\u001b[0m\u001b[1;33m:\u001b[0m\u001b[1;33m\u001b[0m\u001b[1;33m\u001b[0m\u001b[0m\n\u001b[1;32m--> 419\u001b[1;33m         \u001b[1;32mreturn\u001b[0m \u001b[0mself\u001b[0m\u001b[1;33m.\u001b[0m\u001b[0mapply\u001b[0m\u001b[1;33m(\u001b[0m\u001b[1;34m\"astype\"\u001b[0m\u001b[1;33m,\u001b[0m \u001b[0mdtype\u001b[0m\u001b[1;33m=\u001b[0m\u001b[0mdtype\u001b[0m\u001b[1;33m,\u001b[0m \u001b[0mcopy\u001b[0m\u001b[1;33m=\u001b[0m\u001b[0mcopy\u001b[0m\u001b[1;33m,\u001b[0m \u001b[0merrors\u001b[0m\u001b[1;33m=\u001b[0m\u001b[0merrors\u001b[0m\u001b[1;33m)\u001b[0m\u001b[1;33m\u001b[0m\u001b[1;33m\u001b[0m\u001b[0m\n\u001b[0m\u001b[0;32m    420\u001b[0m \u001b[1;33m\u001b[0m\u001b[0m\n\u001b[0;32m    421\u001b[0m     def convert(\n",
      "\u001b[1;32m~\\anaconda3\\lib\\site-packages\\pandas\\core\\internals\\managers.py\u001b[0m in \u001b[0;36mapply\u001b[1;34m(self, f, align_keys, ignore_failures, **kwargs)\u001b[0m\n\u001b[0;32m    302\u001b[0m                     \u001b[0mapplied\u001b[0m \u001b[1;33m=\u001b[0m \u001b[0mb\u001b[0m\u001b[1;33m.\u001b[0m\u001b[0mapply\u001b[0m\u001b[1;33m(\u001b[0m\u001b[0mf\u001b[0m\u001b[1;33m,\u001b[0m \u001b[1;33m**\u001b[0m\u001b[0mkwargs\u001b[0m\u001b[1;33m)\u001b[0m\u001b[1;33m\u001b[0m\u001b[1;33m\u001b[0m\u001b[0m\n\u001b[0;32m    303\u001b[0m                 \u001b[1;32melse\u001b[0m\u001b[1;33m:\u001b[0m\u001b[1;33m\u001b[0m\u001b[1;33m\u001b[0m\u001b[0m\n\u001b[1;32m--> 304\u001b[1;33m                     \u001b[0mapplied\u001b[0m \u001b[1;33m=\u001b[0m \u001b[0mgetattr\u001b[0m\u001b[1;33m(\u001b[0m\u001b[0mb\u001b[0m\u001b[1;33m,\u001b[0m \u001b[0mf\u001b[0m\u001b[1;33m)\u001b[0m\u001b[1;33m(\u001b[0m\u001b[1;33m**\u001b[0m\u001b[0mkwargs\u001b[0m\u001b[1;33m)\u001b[0m\u001b[1;33m\u001b[0m\u001b[1;33m\u001b[0m\u001b[0m\n\u001b[0m\u001b[0;32m    305\u001b[0m             \u001b[1;32mexcept\u001b[0m \u001b[1;33m(\u001b[0m\u001b[0mTypeError\u001b[0m\u001b[1;33m,\u001b[0m \u001b[0mNotImplementedError\u001b[0m\u001b[1;33m)\u001b[0m\u001b[1;33m:\u001b[0m\u001b[1;33m\u001b[0m\u001b[1;33m\u001b[0m\u001b[0m\n\u001b[0;32m    306\u001b[0m                 \u001b[1;32mif\u001b[0m \u001b[1;32mnot\u001b[0m \u001b[0mignore_failures\u001b[0m\u001b[1;33m:\u001b[0m\u001b[1;33m\u001b[0m\u001b[1;33m\u001b[0m\u001b[0m\n",
      "\u001b[1;32m~\\anaconda3\\lib\\site-packages\\pandas\\core\\internals\\blocks.py\u001b[0m in \u001b[0;36mastype\u001b[1;34m(self, dtype, copy, errors)\u001b[0m\n\u001b[0;32m    578\u001b[0m         \u001b[0mvalues\u001b[0m \u001b[1;33m=\u001b[0m \u001b[0mself\u001b[0m\u001b[1;33m.\u001b[0m\u001b[0mvalues\u001b[0m\u001b[1;33m\u001b[0m\u001b[1;33m\u001b[0m\u001b[0m\n\u001b[0;32m    579\u001b[0m \u001b[1;33m\u001b[0m\u001b[0m\n\u001b[1;32m--> 580\u001b[1;33m         \u001b[0mnew_values\u001b[0m \u001b[1;33m=\u001b[0m \u001b[0mastype_array_safe\u001b[0m\u001b[1;33m(\u001b[0m\u001b[0mvalues\u001b[0m\u001b[1;33m,\u001b[0m \u001b[0mdtype\u001b[0m\u001b[1;33m,\u001b[0m \u001b[0mcopy\u001b[0m\u001b[1;33m=\u001b[0m\u001b[0mcopy\u001b[0m\u001b[1;33m,\u001b[0m \u001b[0merrors\u001b[0m\u001b[1;33m=\u001b[0m\u001b[0merrors\u001b[0m\u001b[1;33m)\u001b[0m\u001b[1;33m\u001b[0m\u001b[1;33m\u001b[0m\u001b[0m\n\u001b[0m\u001b[0;32m    581\u001b[0m \u001b[1;33m\u001b[0m\u001b[0m\n\u001b[0;32m    582\u001b[0m         \u001b[0mnew_values\u001b[0m \u001b[1;33m=\u001b[0m \u001b[0mmaybe_coerce_values\u001b[0m\u001b[1;33m(\u001b[0m\u001b[0mnew_values\u001b[0m\u001b[1;33m)\u001b[0m\u001b[1;33m\u001b[0m\u001b[1;33m\u001b[0m\u001b[0m\n",
      "\u001b[1;32m~\\anaconda3\\lib\\site-packages\\pandas\\core\\dtypes\\cast.py\u001b[0m in \u001b[0;36mastype_array_safe\u001b[1;34m(values, dtype, copy, errors)\u001b[0m\n\u001b[0;32m   1290\u001b[0m \u001b[1;33m\u001b[0m\u001b[0m\n\u001b[0;32m   1291\u001b[0m     \u001b[1;32mtry\u001b[0m\u001b[1;33m:\u001b[0m\u001b[1;33m\u001b[0m\u001b[1;33m\u001b[0m\u001b[0m\n\u001b[1;32m-> 1292\u001b[1;33m         \u001b[0mnew_values\u001b[0m \u001b[1;33m=\u001b[0m \u001b[0mastype_array\u001b[0m\u001b[1;33m(\u001b[0m\u001b[0mvalues\u001b[0m\u001b[1;33m,\u001b[0m \u001b[0mdtype\u001b[0m\u001b[1;33m,\u001b[0m \u001b[0mcopy\u001b[0m\u001b[1;33m=\u001b[0m\u001b[0mcopy\u001b[0m\u001b[1;33m)\u001b[0m\u001b[1;33m\u001b[0m\u001b[1;33m\u001b[0m\u001b[0m\n\u001b[0m\u001b[0;32m   1293\u001b[0m     \u001b[1;32mexcept\u001b[0m \u001b[1;33m(\u001b[0m\u001b[0mValueError\u001b[0m\u001b[1;33m,\u001b[0m \u001b[0mTypeError\u001b[0m\u001b[1;33m)\u001b[0m\u001b[1;33m:\u001b[0m\u001b[1;33m\u001b[0m\u001b[1;33m\u001b[0m\u001b[0m\n\u001b[0;32m   1294\u001b[0m         \u001b[1;31m# e.g. astype_nansafe can fail on object-dtype of strings\u001b[0m\u001b[1;33m\u001b[0m\u001b[1;33m\u001b[0m\u001b[0m\n",
      "\u001b[1;32m~\\anaconda3\\lib\\site-packages\\pandas\\core\\dtypes\\cast.py\u001b[0m in \u001b[0;36mastype_array\u001b[1;34m(values, dtype, copy)\u001b[0m\n\u001b[0;32m   1235\u001b[0m \u001b[1;33m\u001b[0m\u001b[0m\n\u001b[0;32m   1236\u001b[0m     \u001b[1;32melse\u001b[0m\u001b[1;33m:\u001b[0m\u001b[1;33m\u001b[0m\u001b[1;33m\u001b[0m\u001b[0m\n\u001b[1;32m-> 1237\u001b[1;33m         \u001b[0mvalues\u001b[0m \u001b[1;33m=\u001b[0m \u001b[0mastype_nansafe\u001b[0m\u001b[1;33m(\u001b[0m\u001b[0mvalues\u001b[0m\u001b[1;33m,\u001b[0m \u001b[0mdtype\u001b[0m\u001b[1;33m,\u001b[0m \u001b[0mcopy\u001b[0m\u001b[1;33m=\u001b[0m\u001b[0mcopy\u001b[0m\u001b[1;33m)\u001b[0m\u001b[1;33m\u001b[0m\u001b[1;33m\u001b[0m\u001b[0m\n\u001b[0m\u001b[0;32m   1238\u001b[0m \u001b[1;33m\u001b[0m\u001b[0m\n\u001b[0;32m   1239\u001b[0m     \u001b[1;31m# in pandas we don't store numpy str dtypes, so convert to object\u001b[0m\u001b[1;33m\u001b[0m\u001b[1;33m\u001b[0m\u001b[0m\n",
      "\u001b[1;32m~\\anaconda3\\lib\\site-packages\\pandas\\core\\dtypes\\cast.py\u001b[0m in \u001b[0;36mastype_nansafe\u001b[1;34m(arr, dtype, copy, skipna)\u001b[0m\n\u001b[0;32m   1179\u001b[0m     \u001b[1;32mif\u001b[0m \u001b[0mcopy\u001b[0m \u001b[1;32mor\u001b[0m \u001b[0mis_object_dtype\u001b[0m\u001b[1;33m(\u001b[0m\u001b[0marr\u001b[0m\u001b[1;33m.\u001b[0m\u001b[0mdtype\u001b[0m\u001b[1;33m)\u001b[0m \u001b[1;32mor\u001b[0m \u001b[0mis_object_dtype\u001b[0m\u001b[1;33m(\u001b[0m\u001b[0mdtype\u001b[0m\u001b[1;33m)\u001b[0m\u001b[1;33m:\u001b[0m\u001b[1;33m\u001b[0m\u001b[1;33m\u001b[0m\u001b[0m\n\u001b[0;32m   1180\u001b[0m         \u001b[1;31m# Explicit copy, or required since NumPy can't view from / to object.\u001b[0m\u001b[1;33m\u001b[0m\u001b[1;33m\u001b[0m\u001b[0m\n\u001b[1;32m-> 1181\u001b[1;33m         \u001b[1;32mreturn\u001b[0m \u001b[0marr\u001b[0m\u001b[1;33m.\u001b[0m\u001b[0mastype\u001b[0m\u001b[1;33m(\u001b[0m\u001b[0mdtype\u001b[0m\u001b[1;33m,\u001b[0m \u001b[0mcopy\u001b[0m\u001b[1;33m=\u001b[0m\u001b[1;32mTrue\u001b[0m\u001b[1;33m)\u001b[0m\u001b[1;33m\u001b[0m\u001b[1;33m\u001b[0m\u001b[0m\n\u001b[0m\u001b[0;32m   1182\u001b[0m \u001b[1;33m\u001b[0m\u001b[0m\n\u001b[0;32m   1183\u001b[0m     \u001b[1;32mreturn\u001b[0m \u001b[0marr\u001b[0m\u001b[1;33m.\u001b[0m\u001b[0mastype\u001b[0m\u001b[1;33m(\u001b[0m\u001b[0mdtype\u001b[0m\u001b[1;33m,\u001b[0m \u001b[0mcopy\u001b[0m\u001b[1;33m=\u001b[0m\u001b[0mcopy\u001b[0m\u001b[1;33m)\u001b[0m\u001b[1;33m\u001b[0m\u001b[1;33m\u001b[0m\u001b[0m\n",
      "\u001b[1;31mValueError\u001b[0m: could not convert string to float: 'Договорная'"
     ]
    }
   ],
   "source": [
    "raw_data = raw_data.astype({\"size\": float, \"price\": float})"
   ]
  },
  {
   "cell_type": "code",
   "execution_count": 26,
   "metadata": {},
   "outputs": [
    {
     "data": {
      "text/plain": [
       "99"
      ]
     },
     "execution_count": 26,
     "metadata": {},
     "output_type": "execute_result"
    }
   ],
   "source": [
    "idx_p = raw_data[raw_data['price'] == 'Договорная'].index\n",
    "idx_p.size"
   ]
  },
  {
   "cell_type": "code",
   "execution_count": 27,
   "metadata": {},
   "outputs": [
    {
     "data": {
      "text/plain": [
       "1.3088313061872026"
      ]
     },
     "execution_count": 27,
     "metadata": {},
     "output_type": "execute_result"
    }
   ],
   "source": [
    "idx_p.size / raw_data.shape[0] * 100"
   ]
  },
  {
   "cell_type": "markdown",
   "metadata": {},
   "source": [
    "### Jami shunday qiymatlar 1.3% ni tashkil qilayotganligi uchun hamda bu predict qilinadigan ustun bo'lgani uchun uni fill qilmadi sababi fill qilinga ustunni predict qilishga to'g'ri keladi"
   ]
  },
  {
   "cell_type": "code",
   "execution_count": 28,
   "metadata": {},
   "outputs": [],
   "source": [
    "raw_data.drop(idx_p, axis=0, inplace= True)"
   ]
  },
  {
   "cell_type": "code",
   "execution_count": 29,
   "metadata": {},
   "outputs": [],
   "source": [
    "raw_data = raw_data.astype({\"size\": float, \"price\": float})"
   ]
  },
  {
   "cell_type": "code",
   "execution_count": 30,
   "metadata": {},
   "outputs": [
    {
     "data": {
      "text/plain": [
       "district       object\n",
       "rooms           int64\n",
       "size          float64\n",
       "level           int64\n",
       "max_levels      int64\n",
       "price         float64\n",
       "dtype: object"
      ]
     },
     "execution_count": 30,
     "metadata": {},
     "output_type": "execute_result"
    }
   ],
   "source": [
    "raw_data.dtypes"
   ]
  },
  {
   "cell_type": "code",
   "execution_count": 31,
   "metadata": {},
   "outputs": [
    {
     "data": {
      "text/html": [
       "<div>\n",
       "<style scoped>\n",
       "    .dataframe tbody tr th:only-of-type {\n",
       "        vertical-align: middle;\n",
       "    }\n",
       "\n",
       "    .dataframe tbody tr th {\n",
       "        vertical-align: top;\n",
       "    }\n",
       "\n",
       "    .dataframe thead th {\n",
       "        text-align: right;\n",
       "    }\n",
       "</style>\n",
       "<table border=\"1\" class=\"dataframe\">\n",
       "  <thead>\n",
       "    <tr style=\"text-align: right;\">\n",
       "      <th></th>\n",
       "      <th>district</th>\n",
       "      <th>rooms</th>\n",
       "      <th>size</th>\n",
       "      <th>level</th>\n",
       "      <th>max_levels</th>\n",
       "      <th>price</th>\n",
       "    </tr>\n",
       "  </thead>\n",
       "  <tbody>\n",
       "    <tr>\n",
       "      <th>count</th>\n",
       "      <td>7465</td>\n",
       "      <td>7465.000000</td>\n",
       "      <td>7465.000000</td>\n",
       "      <td>7465.000000</td>\n",
       "      <td>7465.000000</td>\n",
       "      <td>7.465000e+03</td>\n",
       "    </tr>\n",
       "    <tr>\n",
       "      <th>unique</th>\n",
       "      <td>12</td>\n",
       "      <td>NaN</td>\n",
       "      <td>NaN</td>\n",
       "      <td>NaN</td>\n",
       "      <td>NaN</td>\n",
       "      <td>NaN</td>\n",
       "    </tr>\n",
       "    <tr>\n",
       "      <th>top</th>\n",
       "      <td>Чиланзарский</td>\n",
       "      <td>NaN</td>\n",
       "      <td>NaN</td>\n",
       "      <td>NaN</td>\n",
       "      <td>NaN</td>\n",
       "      <td>NaN</td>\n",
       "    </tr>\n",
       "    <tr>\n",
       "      <th>freq</th>\n",
       "      <td>1631</td>\n",
       "      <td>NaN</td>\n",
       "      <td>NaN</td>\n",
       "      <td>NaN</td>\n",
       "      <td>NaN</td>\n",
       "      <td>NaN</td>\n",
       "    </tr>\n",
       "    <tr>\n",
       "      <th>mean</th>\n",
       "      <td>NaN</td>\n",
       "      <td>2.622103</td>\n",
       "      <td>113.537018</td>\n",
       "      <td>3.693771</td>\n",
       "      <td>6.023979</td>\n",
       "      <td>7.132367e+04</td>\n",
       "    </tr>\n",
       "    <tr>\n",
       "      <th>std</th>\n",
       "      <td>NaN</td>\n",
       "      <td>1.083155</td>\n",
       "      <td>1501.157996</td>\n",
       "      <td>2.236905</td>\n",
       "      <td>2.607103</td>\n",
       "      <td>6.405659e+05</td>\n",
       "    </tr>\n",
       "    <tr>\n",
       "      <th>min</th>\n",
       "      <td>NaN</td>\n",
       "      <td>1.000000</td>\n",
       "      <td>1.000000</td>\n",
       "      <td>1.000000</td>\n",
       "      <td>1.000000</td>\n",
       "      <td>2.000000e+00</td>\n",
       "    </tr>\n",
       "    <tr>\n",
       "      <th>25%</th>\n",
       "      <td>NaN</td>\n",
       "      <td>2.000000</td>\n",
       "      <td>50.000000</td>\n",
       "      <td>2.000000</td>\n",
       "      <td>4.000000</td>\n",
       "      <td>3.500000e+04</td>\n",
       "    </tr>\n",
       "    <tr>\n",
       "      <th>50%</th>\n",
       "      <td>NaN</td>\n",
       "      <td>3.000000</td>\n",
       "      <td>65.000000</td>\n",
       "      <td>3.000000</td>\n",
       "      <td>5.000000</td>\n",
       "      <td>4.650000e+04</td>\n",
       "    </tr>\n",
       "    <tr>\n",
       "      <th>75%</th>\n",
       "      <td>NaN</td>\n",
       "      <td>3.000000</td>\n",
       "      <td>85.000000</td>\n",
       "      <td>5.000000</td>\n",
       "      <td>9.000000</td>\n",
       "      <td>6.700000e+04</td>\n",
       "    </tr>\n",
       "    <tr>\n",
       "      <th>max</th>\n",
       "      <td>NaN</td>\n",
       "      <td>10.000000</td>\n",
       "      <td>70000.000000</td>\n",
       "      <td>19.000000</td>\n",
       "      <td>25.000000</td>\n",
       "      <td>5.200000e+07</td>\n",
       "    </tr>\n",
       "  </tbody>\n",
       "</table>\n",
       "</div>"
      ],
      "text/plain": [
       "            district        rooms          size        level   max_levels  \\\n",
       "count           7465  7465.000000   7465.000000  7465.000000  7465.000000   \n",
       "unique            12          NaN           NaN          NaN          NaN   \n",
       "top     Чиланзарский          NaN           NaN          NaN          NaN   \n",
       "freq            1631          NaN           NaN          NaN          NaN   \n",
       "mean             NaN     2.622103    113.537018     3.693771     6.023979   \n",
       "std              NaN     1.083155   1501.157996     2.236905     2.607103   \n",
       "min              NaN     1.000000      1.000000     1.000000     1.000000   \n",
       "25%              NaN     2.000000     50.000000     2.000000     4.000000   \n",
       "50%              NaN     3.000000     65.000000     3.000000     5.000000   \n",
       "75%              NaN     3.000000     85.000000     5.000000     9.000000   \n",
       "max              NaN    10.000000  70000.000000    19.000000    25.000000   \n",
       "\n",
       "               price  \n",
       "count   7.465000e+03  \n",
       "unique           NaN  \n",
       "top              NaN  \n",
       "freq             NaN  \n",
       "mean    7.132367e+04  \n",
       "std     6.405659e+05  \n",
       "min     2.000000e+00  \n",
       "25%     3.500000e+04  \n",
       "50%     4.650000e+04  \n",
       "75%     6.700000e+04  \n",
       "max     5.200000e+07  "
      ]
     },
     "execution_count": 31,
     "metadata": {},
     "output_type": "execute_result"
    }
   ],
   "source": [
    "raw_data.describe(include= 'all')"
   ]
  },
  {
   "cell_type": "code",
   "execution_count": 32,
   "metadata": {},
   "outputs": [
    {
     "data": {
      "image/png": "[encoded data removed]",
      "text/plain": [
       "<Figure size 2000x2000 with 6 Axes>"
      ]
     },
     "metadata": {},
     "output_type": "display_data"
    }
   ],
   "source": [
    "raw_data.hist(figsize=(20,20), bins=50)\n",
    "\n",
    "plt.show()"
   ]
  },
  {
   "cell_type": "markdown",
   "metadata": {},
   "source": [
    "### 'Size' hamda 'Price' ustunlarida noodatiy qiymatlar mavjud ularni to'g'irlash yoki tashlab yuborish kerak"
   ]
  },
  {
   "cell_type": "code",
   "execution_count": 33,
   "metadata": {},
   "outputs": [
    {
     "data": {
      "text/html": [
       "<div>\n",
       "<style scoped>\n",
       "    .dataframe tbody tr th:only-of-type {\n",
       "        vertical-align: middle;\n",
       "    }\n",
       "\n",
       "    .dataframe tbody tr th {\n",
       "        vertical-align: top;\n",
       "    }\n",
       "\n",
       "    .dataframe thead th {\n",
       "        text-align: right;\n",
       "    }\n",
       "</style>\n",
       "<table border=\"1\" class=\"dataframe\">\n",
       "  <thead>\n",
       "    <tr style=\"text-align: right;\">\n",
       "      <th></th>\n",
       "      <th>district</th>\n",
       "      <th>rooms</th>\n",
       "      <th>size</th>\n",
       "      <th>level</th>\n",
       "      <th>max_levels</th>\n",
       "      <th>price</th>\n",
       "    </tr>\n",
       "  </thead>\n",
       "  <tbody>\n",
       "    <tr>\n",
       "      <th>2547</th>\n",
       "      <td>Юнусабадский</td>\n",
       "      <td>3</td>\n",
       "      <td>70000.0</td>\n",
       "      <td>2</td>\n",
       "      <td>4</td>\n",
       "      <td>76000.0</td>\n",
       "    </tr>\n",
       "    <tr>\n",
       "      <th>4615</th>\n",
       "      <td>Олмазорский</td>\n",
       "      <td>4</td>\n",
       "      <td>69000.0</td>\n",
       "      <td>3</td>\n",
       "      <td>4</td>\n",
       "      <td>69000.0</td>\n",
       "    </tr>\n",
       "    <tr>\n",
       "      <th>5456</th>\n",
       "      <td>Мирзо-Улугбекский</td>\n",
       "      <td>3</td>\n",
       "      <td>67000.0</td>\n",
       "      <td>2</td>\n",
       "      <td>5</td>\n",
       "      <td>67000.0</td>\n",
       "    </tr>\n",
       "    <tr>\n",
       "      <th>3089</th>\n",
       "      <td>Мирзо-Улугбекский</td>\n",
       "      <td>2</td>\n",
       "      <td>44000.0</td>\n",
       "      <td>3</td>\n",
       "      <td>4</td>\n",
       "      <td>44000.0</td>\n",
       "    </tr>\n",
       "    <tr>\n",
       "      <th>2268</th>\n",
       "      <td>Мирзо-Улугбекский</td>\n",
       "      <td>1</td>\n",
       "      <td>24500.0</td>\n",
       "      <td>2</td>\n",
       "      <td>5</td>\n",
       "      <td>24500.0</td>\n",
       "    </tr>\n",
       "    <tr>\n",
       "      <th>7043</th>\n",
       "      <td>Олмазорский</td>\n",
       "      <td>4</td>\n",
       "      <td>7407.0</td>\n",
       "      <td>4</td>\n",
       "      <td>4</td>\n",
       "      <td>44000.0</td>\n",
       "    </tr>\n",
       "    <tr>\n",
       "      <th>981</th>\n",
       "      <td>Мирабадский</td>\n",
       "      <td>3</td>\n",
       "      <td>7359.0</td>\n",
       "      <td>2</td>\n",
       "      <td>4</td>\n",
       "      <td>46500.0</td>\n",
       "    </tr>\n",
       "    <tr>\n",
       "      <th>4784</th>\n",
       "      <td>Мирабадский</td>\n",
       "      <td>3</td>\n",
       "      <td>7359.0</td>\n",
       "      <td>2</td>\n",
       "      <td>4</td>\n",
       "      <td>46500.0</td>\n",
       "    </tr>\n",
       "    <tr>\n",
       "      <th>2662</th>\n",
       "      <td>Учтепинский</td>\n",
       "      <td>1</td>\n",
       "      <td>3448.0</td>\n",
       "      <td>5</td>\n",
       "      <td>5</td>\n",
       "      <td>25000.0</td>\n",
       "    </tr>\n",
       "    <tr>\n",
       "      <th>7421</th>\n",
       "      <td>Юнусабадский</td>\n",
       "      <td>8</td>\n",
       "      <td>2100.0</td>\n",
       "      <td>1</td>\n",
       "      <td>1</td>\n",
       "      <td>265000.0</td>\n",
       "    </tr>\n",
       "  </tbody>\n",
       "</table>\n",
       "</div>"
      ],
      "text/plain": [
       "               district  rooms     size  level  max_levels     price\n",
       "2547       Юнусабадский      3  70000.0      2           4   76000.0\n",
       "4615        Олмазорский      4  69000.0      3           4   69000.0\n",
       "5456  Мирзо-Улугбекский      3  67000.0      2           5   67000.0\n",
       "3089  Мирзо-Улугбекский      2  44000.0      3           4   44000.0\n",
       "2268  Мирзо-Улугбекский      1  24500.0      2           5   24500.0\n",
       "7043        Олмазорский      4   7407.0      4           4   44000.0\n",
       "981         Мирабадский      3   7359.0      2           4   46500.0\n",
       "4784        Мирабадский      3   7359.0      2           4   46500.0\n",
       "2662        Учтепинский      1   3448.0      5           5   25000.0\n",
       "7421       Юнусабадский      8   2100.0      1           1  265000.0"
      ]
     },
     "execution_count": 33,
     "metadata": {},
     "output_type": "execute_result"
    }
   ],
   "source": [
    "raw_data[raw_data['size'] > 500].sort_values(by = 'size', ascending=False)"
   ]
  },
  {
   "cell_type": "code",
   "execution_count": 34,
   "metadata": {},
   "outputs": [],
   "source": [
    "idx = raw_data[raw_data['size'] > 10000].index"
   ]
  },
  {
   "cell_type": "code",
   "execution_count": 35,
   "metadata": {},
   "outputs": [],
   "source": [
    "raw_data.loc[idx, 'size'] = raw_data['size'] / 1000"
   ]
  },
  {
   "cell_type": "code",
   "execution_count": 36,
   "metadata": {},
   "outputs": [
    {
     "data": {
      "text/html": [
       "<div>\n",
       "<style scoped>\n",
       "    .dataframe tbody tr th:only-of-type {\n",
       "        vertical-align: middle;\n",
       "    }\n",
       "\n",
       "    .dataframe tbody tr th {\n",
       "        vertical-align: top;\n",
       "    }\n",
       "\n",
       "    .dataframe thead th {\n",
       "        text-align: right;\n",
       "    }\n",
       "</style>\n",
       "<table border=\"1\" class=\"dataframe\">\n",
       "  <thead>\n",
       "    <tr style=\"text-align: right;\">\n",
       "      <th></th>\n",
       "      <th>district</th>\n",
       "      <th>rooms</th>\n",
       "      <th>size</th>\n",
       "      <th>level</th>\n",
       "      <th>max_levels</th>\n",
       "      <th>price</th>\n",
       "    </tr>\n",
       "  </thead>\n",
       "  <tbody>\n",
       "    <tr>\n",
       "      <th>981</th>\n",
       "      <td>Мирабадский</td>\n",
       "      <td>3</td>\n",
       "      <td>7359.0</td>\n",
       "      <td>2</td>\n",
       "      <td>4</td>\n",
       "      <td>46500.0</td>\n",
       "    </tr>\n",
       "    <tr>\n",
       "      <th>2662</th>\n",
       "      <td>Учтепинский</td>\n",
       "      <td>1</td>\n",
       "      <td>3448.0</td>\n",
       "      <td>5</td>\n",
       "      <td>5</td>\n",
       "      <td>25000.0</td>\n",
       "    </tr>\n",
       "    <tr>\n",
       "      <th>4784</th>\n",
       "      <td>Мирабадский</td>\n",
       "      <td>3</td>\n",
       "      <td>7359.0</td>\n",
       "      <td>2</td>\n",
       "      <td>4</td>\n",
       "      <td>46500.0</td>\n",
       "    </tr>\n",
       "    <tr>\n",
       "      <th>7043</th>\n",
       "      <td>Олмазорский</td>\n",
       "      <td>4</td>\n",
       "      <td>7407.0</td>\n",
       "      <td>4</td>\n",
       "      <td>4</td>\n",
       "      <td>44000.0</td>\n",
       "    </tr>\n",
       "  </tbody>\n",
       "</table>\n",
       "</div>"
      ],
      "text/plain": [
       "         district  rooms    size  level  max_levels    price\n",
       "981   Мирабадский      3  7359.0      2           4  46500.0\n",
       "2662  Учтепинский      1  3448.0      5           5  25000.0\n",
       "4784  Мирабадский      3  7359.0      2           4  46500.0\n",
       "7043  Олмазорский      4  7407.0      4           4  44000.0"
      ]
     },
     "execution_count": 36,
     "metadata": {},
     "output_type": "execute_result"
    }
   ],
   "source": [
    "raw_data[raw_data['size'] > 2500]"
   ]
  },
  {
   "cell_type": "code",
   "execution_count": 37,
   "metadata": {},
   "outputs": [],
   "source": [
    "raw_data.loc[raw_data[raw_data['size'] > 2500].index, 'size'] = raw_data['size'] / 100"
   ]
  },
  {
   "cell_type": "code",
   "execution_count": 38,
   "metadata": {},
   "outputs": [
    {
     "data": {
      "text/html": [
       "<div>\n",
       "<style scoped>\n",
       "    .dataframe tbody tr th:only-of-type {\n",
       "        vertical-align: middle;\n",
       "    }\n",
       "\n",
       "    .dataframe tbody tr th {\n",
       "        vertical-align: top;\n",
       "    }\n",
       "\n",
       "    .dataframe thead th {\n",
       "        text-align: right;\n",
       "    }\n",
       "</style>\n",
       "<table border=\"1\" class=\"dataframe\">\n",
       "  <thead>\n",
       "    <tr style=\"text-align: right;\">\n",
       "      <th></th>\n",
       "      <th>district</th>\n",
       "      <th>rooms</th>\n",
       "      <th>size</th>\n",
       "      <th>level</th>\n",
       "      <th>max_levels</th>\n",
       "      <th>price</th>\n",
       "    </tr>\n",
       "  </thead>\n",
       "  <tbody>\n",
       "    <tr>\n",
       "      <th>0</th>\n",
       "      <td>Юнусабадский</td>\n",
       "      <td>3</td>\n",
       "      <td>57.0</td>\n",
       "      <td>4</td>\n",
       "      <td>4</td>\n",
       "      <td>52000.0</td>\n",
       "    </tr>\n",
       "    <tr>\n",
       "      <th>1</th>\n",
       "      <td>Яккасарайский</td>\n",
       "      <td>2</td>\n",
       "      <td>52.0</td>\n",
       "      <td>4</td>\n",
       "      <td>5</td>\n",
       "      <td>56000.0</td>\n",
       "    </tr>\n",
       "    <tr>\n",
       "      <th>2</th>\n",
       "      <td>Чиланзарский</td>\n",
       "      <td>2</td>\n",
       "      <td>42.0</td>\n",
       "      <td>4</td>\n",
       "      <td>4</td>\n",
       "      <td>37000.0</td>\n",
       "    </tr>\n",
       "    <tr>\n",
       "      <th>3</th>\n",
       "      <td>Чиланзарский</td>\n",
       "      <td>3</td>\n",
       "      <td>65.0</td>\n",
       "      <td>1</td>\n",
       "      <td>4</td>\n",
       "      <td>49500.0</td>\n",
       "    </tr>\n",
       "    <tr>\n",
       "      <th>4</th>\n",
       "      <td>Чиланзарский</td>\n",
       "      <td>3</td>\n",
       "      <td>70.0</td>\n",
       "      <td>3</td>\n",
       "      <td>5</td>\n",
       "      <td>55000.0</td>\n",
       "    </tr>\n",
       "    <tr>\n",
       "      <th>...</th>\n",
       "      <td>...</td>\n",
       "      <td>...</td>\n",
       "      <td>...</td>\n",
       "      <td>...</td>\n",
       "      <td>...</td>\n",
       "      <td>...</td>\n",
       "    </tr>\n",
       "    <tr>\n",
       "      <th>7560</th>\n",
       "      <td>Яшнободский</td>\n",
       "      <td>1</td>\n",
       "      <td>38.0</td>\n",
       "      <td>5</td>\n",
       "      <td>5</td>\n",
       "      <td>24500.0</td>\n",
       "    </tr>\n",
       "    <tr>\n",
       "      <th>7561</th>\n",
       "      <td>Яшнободский</td>\n",
       "      <td>2</td>\n",
       "      <td>49.0</td>\n",
       "      <td>1</td>\n",
       "      <td>4</td>\n",
       "      <td>32000.0</td>\n",
       "    </tr>\n",
       "    <tr>\n",
       "      <th>7562</th>\n",
       "      <td>Шайхантахурский</td>\n",
       "      <td>2</td>\n",
       "      <td>64.0</td>\n",
       "      <td>3</td>\n",
       "      <td>9</td>\n",
       "      <td>40000.0</td>\n",
       "    </tr>\n",
       "    <tr>\n",
       "      <th>7563</th>\n",
       "      <td>Мирзо-Улугбекский</td>\n",
       "      <td>1</td>\n",
       "      <td>18.0</td>\n",
       "      <td>1</td>\n",
       "      <td>4</td>\n",
       "      <td>11000.0</td>\n",
       "    </tr>\n",
       "    <tr>\n",
       "      <th>7564</th>\n",
       "      <td>Чиланзарский</td>\n",
       "      <td>1</td>\n",
       "      <td>30.0</td>\n",
       "      <td>2</td>\n",
       "      <td>4</td>\n",
       "      <td>22914.0</td>\n",
       "    </tr>\n",
       "  </tbody>\n",
       "</table>\n",
       "<p>7465 rows × 6 columns</p>\n",
       "</div>"
      ],
      "text/plain": [
       "               district  rooms  size  level  max_levels    price\n",
       "0          Юнусабадский      3  57.0      4           4  52000.0\n",
       "1         Яккасарайский      2  52.0      4           5  56000.0\n",
       "2          Чиланзарский      2  42.0      4           4  37000.0\n",
       "3          Чиланзарский      3  65.0      1           4  49500.0\n",
       "4          Чиланзарский      3  70.0      3           5  55000.0\n",
       "...                 ...    ...   ...    ...         ...      ...\n",
       "7560        Яшнободский      1  38.0      5           5  24500.0\n",
       "7561        Яшнободский      2  49.0      1           4  32000.0\n",
       "7562    Шайхантахурский      2  64.0      3           9  40000.0\n",
       "7563  Мирзо-Улугбекский      1  18.0      1           4  11000.0\n",
       "7564       Чиланзарский      1  30.0      2           4  22914.0\n",
       "\n",
       "[7465 rows x 6 columns]"
      ]
     },
     "execution_count": 38,
     "metadata": {},
     "output_type": "execute_result"
    }
   ],
   "source": [
    "raw_data"
   ]
  },
  {
   "cell_type": "code",
   "execution_count": 39,
   "metadata": {
    "scrolled": true
   },
   "outputs": [
    {
     "data": {
      "text/html": [
       "<div>\n",
       "<style scoped>\n",
       "    .dataframe tbody tr th:only-of-type {\n",
       "        vertical-align: middle;\n",
       "    }\n",
       "\n",
       "    .dataframe tbody tr th {\n",
       "        vertical-align: top;\n",
       "    }\n",
       "\n",
       "    .dataframe thead th {\n",
       "        text-align: right;\n",
       "    }\n",
       "</style>\n",
       "<table border=\"1\" class=\"dataframe\">\n",
       "  <thead>\n",
       "    <tr style=\"text-align: right;\">\n",
       "      <th></th>\n",
       "      <th>district</th>\n",
       "      <th>rooms</th>\n",
       "      <th>size</th>\n",
       "      <th>level</th>\n",
       "      <th>max_levels</th>\n",
       "      <th>price</th>\n",
       "    </tr>\n",
       "  </thead>\n",
       "  <tbody>\n",
       "    <tr>\n",
       "      <th>7224</th>\n",
       "      <td>Учтепинский</td>\n",
       "      <td>2</td>\n",
       "      <td>51.0</td>\n",
       "      <td>2</td>\n",
       "      <td>4</td>\n",
       "      <td>2.0</td>\n",
       "    </tr>\n",
       "    <tr>\n",
       "      <th>273</th>\n",
       "      <td>Яккасарайский</td>\n",
       "      <td>3</td>\n",
       "      <td>100.0</td>\n",
       "      <td>3</td>\n",
       "      <td>4</td>\n",
       "      <td>1000.0</td>\n",
       "    </tr>\n",
       "    <tr>\n",
       "      <th>5719</th>\n",
       "      <td>Шайхантахурский</td>\n",
       "      <td>7</td>\n",
       "      <td>230.0</td>\n",
       "      <td>2</td>\n",
       "      <td>5</td>\n",
       "      <td>1000.0</td>\n",
       "    </tr>\n",
       "    <tr>\n",
       "      <th>4089</th>\n",
       "      <td>Шайхантахурский</td>\n",
       "      <td>6</td>\n",
       "      <td>500.0</td>\n",
       "      <td>2</td>\n",
       "      <td>2</td>\n",
       "      <td>1800.0</td>\n",
       "    </tr>\n",
       "    <tr>\n",
       "      <th>1827</th>\n",
       "      <td>Мирзо-Улугбекский</td>\n",
       "      <td>6</td>\n",
       "      <td>400.0</td>\n",
       "      <td>1</td>\n",
       "      <td>2</td>\n",
       "      <td>2000.0</td>\n",
       "    </tr>\n",
       "    <tr>\n",
       "      <th>3832</th>\n",
       "      <td>Яккасарайский</td>\n",
       "      <td>4</td>\n",
       "      <td>170.0</td>\n",
       "      <td>2</td>\n",
       "      <td>6</td>\n",
       "      <td>2000.0</td>\n",
       "    </tr>\n",
       "    <tr>\n",
       "      <th>7333</th>\n",
       "      <td>Мирзо-Улугбекский</td>\n",
       "      <td>1</td>\n",
       "      <td>30.0</td>\n",
       "      <td>2</td>\n",
       "      <td>4</td>\n",
       "      <td>2400.0</td>\n",
       "    </tr>\n",
       "    <tr>\n",
       "      <th>5073</th>\n",
       "      <td>Сергелийский</td>\n",
       "      <td>2</td>\n",
       "      <td>54.0</td>\n",
       "      <td>7</td>\n",
       "      <td>7</td>\n",
       "      <td>2864.0</td>\n",
       "    </tr>\n",
       "  </tbody>\n",
       "</table>\n",
       "</div>"
      ],
      "text/plain": [
       "               district  rooms   size  level  max_levels   price\n",
       "7224        Учтепинский      2   51.0      2           4     2.0\n",
       "273       Яккасарайский      3  100.0      3           4  1000.0\n",
       "5719    Шайхантахурский      7  230.0      2           5  1000.0\n",
       "4089    Шайхантахурский      6  500.0      2           2  1800.0\n",
       "1827  Мирзо-Улугбекский      6  400.0      1           2  2000.0\n",
       "3832      Яккасарайский      4  170.0      2           6  2000.0\n",
       "7333  Мирзо-Улугбекский      1   30.0      2           4  2400.0\n",
       "5073       Сергелийский      2   54.0      7           7  2864.0"
      ]
     },
     "execution_count": 39,
     "metadata": {},
     "output_type": "execute_result"
    }
   ],
   "source": [
    "raw_data[(raw_data['price'] < 10000) & (raw_data['size'] > 20)].sort_values(by = 'price')"
   ]
  },
  {
   "cell_type": "markdown",
   "metadata": {},
   "source": [
    "### Bu qatorlarning aniq qiymatini aniqlash qiyin (agar expert yoki qayta surov o'tkazish iloji bo'lmaganda) shuning uchun ushbu qatorlarni tashlab yuboramiz"
   ]
  },
  {
   "cell_type": "code",
   "execution_count": 40,
   "metadata": {},
   "outputs": [
    {
     "data": {
      "text/plain": [
       "Int64Index([7224, 273, 5719, 4089, 1827, 3832, 7333, 5073], dtype='int64')"
      ]
     },
     "execution_count": 40,
     "metadata": {},
     "output_type": "execute_result"
    }
   ],
   "source": [
    "ind_price = raw_data[(raw_data['price'] < 10000) & (raw_data['size'] > 20)].sort_values(by = 'price').index\n",
    "ind_price"
   ]
  },
  {
   "cell_type": "code",
   "execution_count": 41,
   "metadata": {},
   "outputs": [],
   "source": [
    "raw_data.drop(ind_price, axis=0, inplace=True)"
   ]
  },
  {
   "cell_type": "code",
   "execution_count": 42,
   "metadata": {},
   "outputs": [
    {
     "data": {
      "text/html": [
       "<div>\n",
       "<style scoped>\n",
       "    .dataframe tbody tr th:only-of-type {\n",
       "        vertical-align: middle;\n",
       "    }\n",
       "\n",
       "    .dataframe tbody tr th {\n",
       "        vertical-align: top;\n",
       "    }\n",
       "\n",
       "    .dataframe thead th {\n",
       "        text-align: right;\n",
       "    }\n",
       "</style>\n",
       "<table border=\"1\" class=\"dataframe\">\n",
       "  <thead>\n",
       "    <tr style=\"text-align: right;\">\n",
       "      <th></th>\n",
       "      <th>district</th>\n",
       "      <th>rooms</th>\n",
       "      <th>size</th>\n",
       "      <th>level</th>\n",
       "      <th>max_levels</th>\n",
       "      <th>price</th>\n",
       "    </tr>\n",
       "  </thead>\n",
       "  <tbody>\n",
       "  </tbody>\n",
       "</table>\n",
       "</div>"
      ],
      "text/plain": [
       "Empty DataFrame\n",
       "Columns: [district, rooms, size, level, max_levels, price]\n",
       "Index: []"
      ]
     },
     "execution_count": 42,
     "metadata": {},
     "output_type": "execute_result"
    }
   ],
   "source": [
    "raw_data[(raw_data['price'] < 10000) & (raw_data['size'] > 20)].sort_values(by = 'price')"
   ]
  },
  {
   "cell_type": "code",
   "execution_count": 43,
   "metadata": {},
   "outputs": [
    {
     "data": {
      "text/html": [
       "<div>\n",
       "<style scoped>\n",
       "    .dataframe tbody tr th:only-of-type {\n",
       "        vertical-align: middle;\n",
       "    }\n",
       "\n",
       "    .dataframe tbody tr th {\n",
       "        vertical-align: top;\n",
       "    }\n",
       "\n",
       "    .dataframe thead th {\n",
       "        text-align: right;\n",
       "    }\n",
       "</style>\n",
       "<table border=\"1\" class=\"dataframe\">\n",
       "  <thead>\n",
       "    <tr style=\"text-align: right;\">\n",
       "      <th></th>\n",
       "      <th>district</th>\n",
       "      <th>rooms</th>\n",
       "      <th>size</th>\n",
       "      <th>level</th>\n",
       "      <th>max_levels</th>\n",
       "      <th>price</th>\n",
       "    </tr>\n",
       "  </thead>\n",
       "  <tbody>\n",
       "    <tr>\n",
       "      <th>count</th>\n",
       "      <td>7457</td>\n",
       "      <td>7457.0</td>\n",
       "      <td>7457.0</td>\n",
       "      <td>7457.0</td>\n",
       "      <td>7457.0</td>\n",
       "      <td>7457.0</td>\n",
       "    </tr>\n",
       "    <tr>\n",
       "      <th>unique</th>\n",
       "      <td>12</td>\n",
       "      <td>nan</td>\n",
       "      <td>nan</td>\n",
       "      <td>nan</td>\n",
       "      <td>nan</td>\n",
       "      <td>nan</td>\n",
       "    </tr>\n",
       "    <tr>\n",
       "      <th>top</th>\n",
       "      <td>Чиланзарский</td>\n",
       "      <td>nan</td>\n",
       "      <td>nan</td>\n",
       "      <td>nan</td>\n",
       "      <td>nan</td>\n",
       "      <td>nan</td>\n",
       "    </tr>\n",
       "    <tr>\n",
       "      <th>freq</th>\n",
       "      <td>1631</td>\n",
       "      <td>nan</td>\n",
       "      <td>nan</td>\n",
       "      <td>nan</td>\n",
       "      <td>nan</td>\n",
       "      <td>nan</td>\n",
       "    </tr>\n",
       "    <tr>\n",
       "      <th>mean</th>\n",
       "      <td>nan</td>\n",
       "      <td>2.621</td>\n",
       "      <td>73.284</td>\n",
       "      <td>3.695</td>\n",
       "      <td>6.026</td>\n",
       "      <td>71398.438</td>\n",
       "    </tr>\n",
       "    <tr>\n",
       "      <th>std</th>\n",
       "      <td>nan</td>\n",
       "      <td>1.081</td>\n",
       "      <td>43.847</td>\n",
       "      <td>2.237</td>\n",
       "      <td>2.607</td>\n",
       "      <td>640905.431</td>\n",
       "    </tr>\n",
       "    <tr>\n",
       "      <th>min</th>\n",
       "      <td>nan</td>\n",
       "      <td>1.0</td>\n",
       "      <td>1.0</td>\n",
       "      <td>1.0</td>\n",
       "      <td>1.0</td>\n",
       "      <td>7300.0</td>\n",
       "    </tr>\n",
       "    <tr>\n",
       "      <th>25%</th>\n",
       "      <td>nan</td>\n",
       "      <td>2.0</td>\n",
       "      <td>50.0</td>\n",
       "      <td>2.0</td>\n",
       "      <td>4.0</td>\n",
       "      <td>35000.0</td>\n",
       "    </tr>\n",
       "    <tr>\n",
       "      <th>50%</th>\n",
       "      <td>nan</td>\n",
       "      <td>3.0</td>\n",
       "      <td>65.0</td>\n",
       "      <td>3.0</td>\n",
       "      <td>5.0</td>\n",
       "      <td>46500.0</td>\n",
       "    </tr>\n",
       "    <tr>\n",
       "      <th>75%</th>\n",
       "      <td>nan</td>\n",
       "      <td>3.0</td>\n",
       "      <td>85.0</td>\n",
       "      <td>5.0</td>\n",
       "      <td>9.0</td>\n",
       "      <td>67000.0</td>\n",
       "    </tr>\n",
       "    <tr>\n",
       "      <th>max</th>\n",
       "      <td>nan</td>\n",
       "      <td>10.0</td>\n",
       "      <td>2100.0</td>\n",
       "      <td>19.0</td>\n",
       "      <td>25.0</td>\n",
       "      <td>52000000.0</td>\n",
       "    </tr>\n",
       "  </tbody>\n",
       "</table>\n",
       "</div>"
      ],
      "text/plain": [
       "            district   rooms    size   level max_levels       price\n",
       "count           7457  7457.0  7457.0  7457.0     7457.0      7457.0\n",
       "unique            12     nan     nan     nan        nan         nan\n",
       "top     Чиланзарский     nan     nan     nan        nan         nan\n",
       "freq            1631     nan     nan     nan        nan         nan\n",
       "mean             nan   2.621  73.284   3.695      6.026   71398.438\n",
       "std              nan   1.081  43.847   2.237      2.607  640905.431\n",
       "min              nan     1.0     1.0     1.0        1.0      7300.0\n",
       "25%              nan     2.0    50.0     2.0        4.0     35000.0\n",
       "50%              nan     3.0    65.0     3.0        5.0     46500.0\n",
       "75%              nan     3.0    85.0     5.0        9.0     67000.0\n",
       "max              nan    10.0  2100.0    19.0       25.0  52000000.0"
      ]
     },
     "execution_count": 43,
     "metadata": {},
     "output_type": "execute_result"
    }
   ],
   "source": [
    "raw_data.describe(include= 'all').round(3).astype(str)"
   ]
  },
  {
   "cell_type": "code",
   "execution_count": 44,
   "metadata": {},
   "outputs": [
    {
     "data": {
      "text/html": [
       "<div>\n",
       "<style scoped>\n",
       "    .dataframe tbody tr th:only-of-type {\n",
       "        vertical-align: middle;\n",
       "    }\n",
       "\n",
       "    .dataframe tbody tr th {\n",
       "        vertical-align: top;\n",
       "    }\n",
       "\n",
       "    .dataframe thead th {\n",
       "        text-align: right;\n",
       "    }\n",
       "</style>\n",
       "<table border=\"1\" class=\"dataframe\">\n",
       "  <thead>\n",
       "    <tr style=\"text-align: right;\">\n",
       "      <th></th>\n",
       "      <th>district</th>\n",
       "      <th>rooms</th>\n",
       "      <th>size</th>\n",
       "      <th>level</th>\n",
       "      <th>max_levels</th>\n",
       "      <th>price</th>\n",
       "    </tr>\n",
       "  </thead>\n",
       "  <tbody>\n",
       "    <tr>\n",
       "      <th>5903</th>\n",
       "      <td>Учтепинский</td>\n",
       "      <td>4</td>\n",
       "      <td>72.0</td>\n",
       "      <td>2</td>\n",
       "      <td>5</td>\n",
       "      <td>52000000.0</td>\n",
       "    </tr>\n",
       "    <tr>\n",
       "      <th>6952</th>\n",
       "      <td>Шайхантахурский</td>\n",
       "      <td>3</td>\n",
       "      <td>114.0</td>\n",
       "      <td>5</td>\n",
       "      <td>7</td>\n",
       "      <td>15504000.0</td>\n",
       "    </tr>\n",
       "    <tr>\n",
       "      <th>7081</th>\n",
       "      <td>Чиланзарский</td>\n",
       "      <td>2</td>\n",
       "      <td>85.0</td>\n",
       "      <td>2</td>\n",
       "      <td>3</td>\n",
       "      <td>6630000.0</td>\n",
       "    </tr>\n",
       "    <tr>\n",
       "      <th>7296</th>\n",
       "      <td>Яшнободский</td>\n",
       "      <td>4</td>\n",
       "      <td>96.0</td>\n",
       "      <td>2</td>\n",
       "      <td>5</td>\n",
       "      <td>5568000.0</td>\n",
       "    </tr>\n",
       "    <tr>\n",
       "      <th>6517</th>\n",
       "      <td>Юнусабадский</td>\n",
       "      <td>3</td>\n",
       "      <td>80.0</td>\n",
       "      <td>8</td>\n",
       "      <td>9</td>\n",
       "      <td>4240000.0</td>\n",
       "    </tr>\n",
       "    <tr>\n",
       "      <th>1744</th>\n",
       "      <td>Олмазорский</td>\n",
       "      <td>3</td>\n",
       "      <td>84.0</td>\n",
       "      <td>1</td>\n",
       "      <td>5</td>\n",
       "      <td>3780000.0</td>\n",
       "    </tr>\n",
       "    <tr>\n",
       "      <th>330</th>\n",
       "      <td>Яшнободский</td>\n",
       "      <td>2</td>\n",
       "      <td>68.0</td>\n",
       "      <td>5</td>\n",
       "      <td>8</td>\n",
       "      <td>1666000.0</td>\n",
       "    </tr>\n",
       "    <tr>\n",
       "      <th>7466</th>\n",
       "      <td>Чиланзарский</td>\n",
       "      <td>2</td>\n",
       "      <td>42.0</td>\n",
       "      <td>1</td>\n",
       "      <td>3</td>\n",
       "      <td>1470000.0</td>\n",
       "    </tr>\n",
       "    <tr>\n",
       "      <th>6133</th>\n",
       "      <td>Юнусабадский</td>\n",
       "      <td>3</td>\n",
       "      <td>42.0</td>\n",
       "      <td>3</td>\n",
       "      <td>4</td>\n",
       "      <td>1344000.0</td>\n",
       "    </tr>\n",
       "    <tr>\n",
       "      <th>1695</th>\n",
       "      <td>Мирабадский</td>\n",
       "      <td>10</td>\n",
       "      <td>456.0</td>\n",
       "      <td>3</td>\n",
       "      <td>7</td>\n",
       "      <td>800000.0</td>\n",
       "    </tr>\n",
       "    <tr>\n",
       "      <th>5118</th>\n",
       "      <td>Мирабадский</td>\n",
       "      <td>10</td>\n",
       "      <td>456.0</td>\n",
       "      <td>3</td>\n",
       "      <td>7</td>\n",
       "      <td>800000.0</td>\n",
       "    </tr>\n",
       "    <tr>\n",
       "      <th>7478</th>\n",
       "      <td>Чиланзарский</td>\n",
       "      <td>1</td>\n",
       "      <td>28.0</td>\n",
       "      <td>3</td>\n",
       "      <td>4</td>\n",
       "      <td>644000.0</td>\n",
       "    </tr>\n",
       "    <tr>\n",
       "      <th>4935</th>\n",
       "      <td>Чиланзарский</td>\n",
       "      <td>1</td>\n",
       "      <td>28.0</td>\n",
       "      <td>3</td>\n",
       "      <td>4</td>\n",
       "      <td>644000.0</td>\n",
       "    </tr>\n",
       "    <tr>\n",
       "      <th>3625</th>\n",
       "      <td>Мирабадский</td>\n",
       "      <td>5</td>\n",
       "      <td>225.0</td>\n",
       "      <td>5</td>\n",
       "      <td>8</td>\n",
       "      <td>530000.0</td>\n",
       "    </tr>\n",
       "    <tr>\n",
       "      <th>3656</th>\n",
       "      <td>Мирзо-Улугбекский</td>\n",
       "      <td>5</td>\n",
       "      <td>336.0</td>\n",
       "      <td>8</td>\n",
       "      <td>9</td>\n",
       "      <td>504000.0</td>\n",
       "    </tr>\n",
       "    <tr>\n",
       "      <th>3163</th>\n",
       "      <td>Мирзо-Улугбекский</td>\n",
       "      <td>4</td>\n",
       "      <td>200.0</td>\n",
       "      <td>2</td>\n",
       "      <td>7</td>\n",
       "      <td>500000.0</td>\n",
       "    </tr>\n",
       "    <tr>\n",
       "      <th>1557</th>\n",
       "      <td>Юнусабадский</td>\n",
       "      <td>10</td>\n",
       "      <td>448.0</td>\n",
       "      <td>7</td>\n",
       "      <td>7</td>\n",
       "      <td>425600.0</td>\n",
       "    </tr>\n",
       "    <tr>\n",
       "      <th>5874</th>\n",
       "      <td>Юнусабадский</td>\n",
       "      <td>10</td>\n",
       "      <td>448.0</td>\n",
       "      <td>7</td>\n",
       "      <td>7</td>\n",
       "      <td>425600.0</td>\n",
       "    </tr>\n",
       "    <tr>\n",
       "      <th>1999</th>\n",
       "      <td>Мирабадский</td>\n",
       "      <td>5</td>\n",
       "      <td>300.0</td>\n",
       "      <td>3</td>\n",
       "      <td>8</td>\n",
       "      <td>425000.0</td>\n",
       "    </tr>\n",
       "    <tr>\n",
       "      <th>741</th>\n",
       "      <td>Мирабадский</td>\n",
       "      <td>5</td>\n",
       "      <td>300.0</td>\n",
       "      <td>3</td>\n",
       "      <td>8</td>\n",
       "      <td>425000.0</td>\n",
       "    </tr>\n",
       "  </tbody>\n",
       "</table>\n",
       "</div>"
      ],
      "text/plain": [
       "               district  rooms   size  level  max_levels       price\n",
       "5903        Учтепинский      4   72.0      2           5  52000000.0\n",
       "6952    Шайхантахурский      3  114.0      5           7  15504000.0\n",
       "7081       Чиланзарский      2   85.0      2           3   6630000.0\n",
       "7296        Яшнободский      4   96.0      2           5   5568000.0\n",
       "6517       Юнусабадский      3   80.0      8           9   4240000.0\n",
       "1744        Олмазорский      3   84.0      1           5   3780000.0\n",
       "330         Яшнободский      2   68.0      5           8   1666000.0\n",
       "7466       Чиланзарский      2   42.0      1           3   1470000.0\n",
       "6133       Юнусабадский      3   42.0      3           4   1344000.0\n",
       "1695        Мирабадский     10  456.0      3           7    800000.0\n",
       "5118        Мирабадский     10  456.0      3           7    800000.0\n",
       "7478       Чиланзарский      1   28.0      3           4    644000.0\n",
       "4935       Чиланзарский      1   28.0      3           4    644000.0\n",
       "3625        Мирабадский      5  225.0      5           8    530000.0\n",
       "3656  Мирзо-Улугбекский      5  336.0      8           9    504000.0\n",
       "3163  Мирзо-Улугбекский      4  200.0      2           7    500000.0\n",
       "1557       Юнусабадский     10  448.0      7           7    425600.0\n",
       "5874       Юнусабадский     10  448.0      7           7    425600.0\n",
       "1999        Мирабадский      5  300.0      3           8    425000.0\n",
       "741         Мирабадский      5  300.0      3           8    425000.0"
      ]
     },
     "execution_count": 44,
     "metadata": {},
     "output_type": "execute_result"
    }
   ],
   "source": [
    "raw_data.sort_values('price', ascending=False).head(20)"
   ]
  },
  {
   "cell_type": "code",
   "execution_count": 45,
   "metadata": {},
   "outputs": [
    {
     "data": {
      "text/html": [
       "<div>\n",
       "<style scoped>\n",
       "    .dataframe tbody tr th:only-of-type {\n",
       "        vertical-align: middle;\n",
       "    }\n",
       "\n",
       "    .dataframe tbody tr th {\n",
       "        vertical-align: top;\n",
       "    }\n",
       "\n",
       "    .dataframe thead th {\n",
       "        text-align: right;\n",
       "    }\n",
       "</style>\n",
       "<table border=\"1\" class=\"dataframe\">\n",
       "  <thead>\n",
       "    <tr style=\"text-align: right;\">\n",
       "      <th></th>\n",
       "      <th>district</th>\n",
       "      <th>rooms</th>\n",
       "      <th>size</th>\n",
       "      <th>level</th>\n",
       "      <th>max_levels</th>\n",
       "      <th>price</th>\n",
       "    </tr>\n",
       "  </thead>\n",
       "  <tbody>\n",
       "    <tr>\n",
       "      <th>330</th>\n",
       "      <td>Яшнободский</td>\n",
       "      <td>2</td>\n",
       "      <td>68.0</td>\n",
       "      <td>5</td>\n",
       "      <td>8</td>\n",
       "      <td>1666000.0</td>\n",
       "    </tr>\n",
       "    <tr>\n",
       "      <th>1744</th>\n",
       "      <td>Олмазорский</td>\n",
       "      <td>3</td>\n",
       "      <td>84.0</td>\n",
       "      <td>1</td>\n",
       "      <td>5</td>\n",
       "      <td>3780000.0</td>\n",
       "    </tr>\n",
       "    <tr>\n",
       "      <th>5903</th>\n",
       "      <td>Учтепинский</td>\n",
       "      <td>4</td>\n",
       "      <td>72.0</td>\n",
       "      <td>2</td>\n",
       "      <td>5</td>\n",
       "      <td>52000000.0</td>\n",
       "    </tr>\n",
       "    <tr>\n",
       "      <th>6133</th>\n",
       "      <td>Юнусабадский</td>\n",
       "      <td>3</td>\n",
       "      <td>42.0</td>\n",
       "      <td>3</td>\n",
       "      <td>4</td>\n",
       "      <td>1344000.0</td>\n",
       "    </tr>\n",
       "    <tr>\n",
       "      <th>6517</th>\n",
       "      <td>Юнусабадский</td>\n",
       "      <td>3</td>\n",
       "      <td>80.0</td>\n",
       "      <td>8</td>\n",
       "      <td>9</td>\n",
       "      <td>4240000.0</td>\n",
       "    </tr>\n",
       "    <tr>\n",
       "      <th>6952</th>\n",
       "      <td>Шайхантахурский</td>\n",
       "      <td>3</td>\n",
       "      <td>114.0</td>\n",
       "      <td>5</td>\n",
       "      <td>7</td>\n",
       "      <td>15504000.0</td>\n",
       "    </tr>\n",
       "    <tr>\n",
       "      <th>7081</th>\n",
       "      <td>Чиланзарский</td>\n",
       "      <td>2</td>\n",
       "      <td>85.0</td>\n",
       "      <td>2</td>\n",
       "      <td>3</td>\n",
       "      <td>6630000.0</td>\n",
       "    </tr>\n",
       "    <tr>\n",
       "      <th>7296</th>\n",
       "      <td>Яшнободский</td>\n",
       "      <td>4</td>\n",
       "      <td>96.0</td>\n",
       "      <td>2</td>\n",
       "      <td>5</td>\n",
       "      <td>5568000.0</td>\n",
       "    </tr>\n",
       "    <tr>\n",
       "      <th>7466</th>\n",
       "      <td>Чиланзарский</td>\n",
       "      <td>2</td>\n",
       "      <td>42.0</td>\n",
       "      <td>1</td>\n",
       "      <td>3</td>\n",
       "      <td>1470000.0</td>\n",
       "    </tr>\n",
       "  </tbody>\n",
       "</table>\n",
       "</div>"
      ],
      "text/plain": [
       "             district  rooms   size  level  max_levels       price\n",
       "330       Яшнободский      2   68.0      5           8   1666000.0\n",
       "1744      Олмазорский      3   84.0      1           5   3780000.0\n",
       "5903      Учтепинский      4   72.0      2           5  52000000.0\n",
       "6133     Юнусабадский      3   42.0      3           4   1344000.0\n",
       "6517     Юнусабадский      3   80.0      8           9   4240000.0\n",
       "6952  Шайхантахурский      3  114.0      5           7  15504000.0\n",
       "7081     Чиланзарский      2   85.0      2           3   6630000.0\n",
       "7296      Яшнободский      4   96.0      2           5   5568000.0\n",
       "7466     Чиланзарский      2   42.0      1           3   1470000.0"
      ]
     },
     "execution_count": 45,
     "metadata": {},
     "output_type": "execute_result"
    }
   ],
   "source": [
    "raw_data[(raw_data['price'] > 1000000)]"
   ]
  },
  {
   "cell_type": "markdown",
   "metadata": {},
   "source": [
    "### Aksariyat uylar narxi dollarda berilganligi uchun bunday qiymatlar ham noodatiy"
   ]
  },
  {
   "cell_type": "code",
   "execution_count": 46,
   "metadata": {},
   "outputs": [],
   "source": [
    "raw_data.loc[330, 'price'] = raw_data.at[330, 'price'] / 100\n",
    "raw_data.loc[1744, 'price'] = raw_data.at[1744, 'price'] / 100\n",
    "raw_data.loc[5903, 'price'] = raw_data.at[5903, 'price'] / 1000\n",
    "raw_data.loc[6133, 'price'] = raw_data.at[6133, 'price'] / 100\n",
    "raw_data.loc[6517, 'price'] = raw_data.at[6517, 'price'] / 100\n",
    "raw_data.loc[6952, 'price'] = raw_data.at[6952, 'price'] / 100\n",
    "raw_data.loc[7081, 'price'] = raw_data.at[7081, 'price'] / 100\n",
    "raw_data.loc[7296, 'price'] = raw_data.at[7296, 'price'] / 100\n",
    "raw_data.loc[7466, 'price'] = raw_data.at[7466, 'price'] / 100"
   ]
  },
  {
   "cell_type": "code",
   "execution_count": 47,
   "metadata": {},
   "outputs": [
    {
     "data": {
      "text/html": [
       "<div>\n",
       "<style scoped>\n",
       "    .dataframe tbody tr th:only-of-type {\n",
       "        vertical-align: middle;\n",
       "    }\n",
       "\n",
       "    .dataframe tbody tr th {\n",
       "        vertical-align: top;\n",
       "    }\n",
       "\n",
       "    .dataframe thead th {\n",
       "        text-align: right;\n",
       "    }\n",
       "</style>\n",
       "<table border=\"1\" class=\"dataframe\">\n",
       "  <thead>\n",
       "    <tr style=\"text-align: right;\">\n",
       "      <th></th>\n",
       "      <th>district</th>\n",
       "      <th>rooms</th>\n",
       "      <th>size</th>\n",
       "      <th>level</th>\n",
       "      <th>max_levels</th>\n",
       "      <th>price</th>\n",
       "    </tr>\n",
       "  </thead>\n",
       "  <tbody>\n",
       "  </tbody>\n",
       "</table>\n",
       "</div>"
      ],
      "text/plain": [
       "Empty DataFrame\n",
       "Columns: [district, rooms, size, level, max_levels, price]\n",
       "Index: []"
      ]
     },
     "execution_count": 47,
     "metadata": {},
     "output_type": "execute_result"
    }
   ],
   "source": [
    "raw_data[(raw_data['price'] > 1000000)]"
   ]
  },
  {
   "cell_type": "code",
   "execution_count": 48,
   "metadata": {
    "scrolled": false
   },
   "outputs": [
    {
     "data": {
      "image/png": "[encoded data removed]",
      "text/plain": [
       "<Figure size 2000x2000 with 6 Axes>"
      ]
     },
     "metadata": {},
     "output_type": "display_data"
    }
   ],
   "source": [
    "raw_data.hist(figsize=(20,20), bins=50)\n",
    "\n",
    "plt.show()"
   ]
  },
  {
   "cell_type": "code",
   "execution_count": 49,
   "metadata": {},
   "outputs": [
    {
     "data": {
      "text/html": [
       "<div>\n",
       "<style scoped>\n",
       "    .dataframe tbody tr th:only-of-type {\n",
       "        vertical-align: middle;\n",
       "    }\n",
       "\n",
       "    .dataframe tbody tr th {\n",
       "        vertical-align: top;\n",
       "    }\n",
       "\n",
       "    .dataframe thead th {\n",
       "        text-align: right;\n",
       "    }\n",
       "</style>\n",
       "<table border=\"1\" class=\"dataframe\">\n",
       "  <thead>\n",
       "    <tr style=\"text-align: right;\">\n",
       "      <th></th>\n",
       "      <th>district</th>\n",
       "      <th>rooms</th>\n",
       "      <th>size</th>\n",
       "      <th>level</th>\n",
       "      <th>max_levels</th>\n",
       "      <th>price</th>\n",
       "    </tr>\n",
       "  </thead>\n",
       "  <tbody>\n",
       "    <tr>\n",
       "      <th>0</th>\n",
       "      <td>Юнусабадский</td>\n",
       "      <td>3</td>\n",
       "      <td>57.0</td>\n",
       "      <td>4</td>\n",
       "      <td>4</td>\n",
       "      <td>52000.0</td>\n",
       "    </tr>\n",
       "    <tr>\n",
       "      <th>1</th>\n",
       "      <td>Яккасарайский</td>\n",
       "      <td>2</td>\n",
       "      <td>52.0</td>\n",
       "      <td>4</td>\n",
       "      <td>5</td>\n",
       "      <td>56000.0</td>\n",
       "    </tr>\n",
       "    <tr>\n",
       "      <th>2</th>\n",
       "      <td>Чиланзарский</td>\n",
       "      <td>2</td>\n",
       "      <td>42.0</td>\n",
       "      <td>4</td>\n",
       "      <td>4</td>\n",
       "      <td>37000.0</td>\n",
       "    </tr>\n",
       "    <tr>\n",
       "      <th>3</th>\n",
       "      <td>Чиланзарский</td>\n",
       "      <td>3</td>\n",
       "      <td>65.0</td>\n",
       "      <td>1</td>\n",
       "      <td>4</td>\n",
       "      <td>49500.0</td>\n",
       "    </tr>\n",
       "    <tr>\n",
       "      <th>4</th>\n",
       "      <td>Чиланзарский</td>\n",
       "      <td>3</td>\n",
       "      <td>70.0</td>\n",
       "      <td>3</td>\n",
       "      <td>5</td>\n",
       "      <td>55000.0</td>\n",
       "    </tr>\n",
       "    <tr>\n",
       "      <th>...</th>\n",
       "      <td>...</td>\n",
       "      <td>...</td>\n",
       "      <td>...</td>\n",
       "      <td>...</td>\n",
       "      <td>...</td>\n",
       "      <td>...</td>\n",
       "    </tr>\n",
       "    <tr>\n",
       "      <th>7560</th>\n",
       "      <td>Яшнободский</td>\n",
       "      <td>1</td>\n",
       "      <td>38.0</td>\n",
       "      <td>5</td>\n",
       "      <td>5</td>\n",
       "      <td>24500.0</td>\n",
       "    </tr>\n",
       "    <tr>\n",
       "      <th>7561</th>\n",
       "      <td>Яшнободский</td>\n",
       "      <td>2</td>\n",
       "      <td>49.0</td>\n",
       "      <td>1</td>\n",
       "      <td>4</td>\n",
       "      <td>32000.0</td>\n",
       "    </tr>\n",
       "    <tr>\n",
       "      <th>7562</th>\n",
       "      <td>Шайхантахурский</td>\n",
       "      <td>2</td>\n",
       "      <td>64.0</td>\n",
       "      <td>3</td>\n",
       "      <td>9</td>\n",
       "      <td>40000.0</td>\n",
       "    </tr>\n",
       "    <tr>\n",
       "      <th>7563</th>\n",
       "      <td>Мирзо-Улугбекский</td>\n",
       "      <td>1</td>\n",
       "      <td>18.0</td>\n",
       "      <td>1</td>\n",
       "      <td>4</td>\n",
       "      <td>11000.0</td>\n",
       "    </tr>\n",
       "    <tr>\n",
       "      <th>7564</th>\n",
       "      <td>Чиланзарский</td>\n",
       "      <td>1</td>\n",
       "      <td>30.0</td>\n",
       "      <td>2</td>\n",
       "      <td>4</td>\n",
       "      <td>22914.0</td>\n",
       "    </tr>\n",
       "  </tbody>\n",
       "</table>\n",
       "<p>7457 rows × 6 columns</p>\n",
       "</div>"
      ],
      "text/plain": [
       "               district  rooms  size  level  max_levels    price\n",
       "0          Юнусабадский      3  57.0      4           4  52000.0\n",
       "1         Яккасарайский      2  52.0      4           5  56000.0\n",
       "2          Чиланзарский      2  42.0      4           4  37000.0\n",
       "3          Чиланзарский      3  65.0      1           4  49500.0\n",
       "4          Чиланзарский      3  70.0      3           5  55000.0\n",
       "...                 ...    ...   ...    ...         ...      ...\n",
       "7560        Яшнободский      1  38.0      5           5  24500.0\n",
       "7561        Яшнободский      2  49.0      1           4  32000.0\n",
       "7562    Шайхантахурский      2  64.0      3           9  40000.0\n",
       "7563  Мирзо-Улугбекский      1  18.0      1           4  11000.0\n",
       "7564       Чиланзарский      1  30.0      2           4  22914.0\n",
       "\n",
       "[7457 rows x 6 columns]"
      ]
     },
     "execution_count": 49,
     "metadata": {},
     "output_type": "execute_result"
    }
   ],
   "source": [
    "raw_data"
   ]
  },
  {
   "cell_type": "code",
   "execution_count": 50,
   "metadata": {},
   "outputs": [],
   "source": [
    "data = raw_data.copy()"
   ]
  },
  {
   "cell_type": "markdown",
   "metadata": {},
   "source": [
    "### Train va Test setlarga ajratamiz 'district' ustunda balansni saqlagan holatda"
   ]
  },
  {
   "cell_type": "markdown",
   "metadata": {},
   "source": [
    "#### 'district' ustunida balansni ushlash uchub 'Cat ustunini qo'shamiz"
   ]
  },
  {
   "cell_type": "code",
   "execution_count": 51,
   "metadata": {
    "scrolled": true
   },
   "outputs": [],
   "source": [
    "from sklearn.preprocessing import OrdinalEncoder"
   ]
  },
  {
   "cell_type": "code",
   "execution_count": 52,
   "metadata": {},
   "outputs": [
    {
     "data": {
      "text/plain": [
       "array([[8.],\n",
       "       [9.],\n",
       "       [6.],\n",
       "       ...,\n",
       "       [7.],\n",
       "       [2.],\n",
       "       [6.]])"
      ]
     },
     "execution_count": 52,
     "metadata": {},
     "output_type": "execute_result"
    }
   ],
   "source": [
    "ordinal = OrdinalEncoder()\n",
    "ordinal.fit_transform(data[['district']])"
   ]
  },
  {
   "cell_type": "code",
   "execution_count": 53,
   "metadata": {},
   "outputs": [],
   "source": [
    "data['Cat'] = ordinal.fit_transform(data[['district']])"
   ]
  },
  {
   "cell_type": "code",
   "execution_count": 54,
   "metadata": {
    "scrolled": true
   },
   "outputs": [
    {
     "data": {
      "text/html": [
       "<div>\n",
       "<style scoped>\n",
       "    .dataframe tbody tr th:only-of-type {\n",
       "        vertical-align: middle;\n",
       "    }\n",
       "\n",
       "    .dataframe tbody tr th {\n",
       "        vertical-align: top;\n",
       "    }\n",
       "\n",
       "    .dataframe thead th {\n",
       "        text-align: right;\n",
       "    }\n",
       "</style>\n",
       "<table border=\"1\" class=\"dataframe\">\n",
       "  <thead>\n",
       "    <tr style=\"text-align: right;\">\n",
       "      <th></th>\n",
       "      <th>district</th>\n",
       "      <th>rooms</th>\n",
       "      <th>size</th>\n",
       "      <th>level</th>\n",
       "      <th>max_levels</th>\n",
       "      <th>price</th>\n",
       "      <th>Cat</th>\n",
       "    </tr>\n",
       "  </thead>\n",
       "  <tbody>\n",
       "    <tr>\n",
       "      <th>0</th>\n",
       "      <td>Юнусабадский</td>\n",
       "      <td>3</td>\n",
       "      <td>57.0</td>\n",
       "      <td>4</td>\n",
       "      <td>4</td>\n",
       "      <td>52000.0</td>\n",
       "      <td>8.0</td>\n",
       "    </tr>\n",
       "    <tr>\n",
       "      <th>1</th>\n",
       "      <td>Яккасарайский</td>\n",
       "      <td>2</td>\n",
       "      <td>52.0</td>\n",
       "      <td>4</td>\n",
       "      <td>5</td>\n",
       "      <td>56000.0</td>\n",
       "      <td>9.0</td>\n",
       "    </tr>\n",
       "    <tr>\n",
       "      <th>2</th>\n",
       "      <td>Чиланзарский</td>\n",
       "      <td>2</td>\n",
       "      <td>42.0</td>\n",
       "      <td>4</td>\n",
       "      <td>4</td>\n",
       "      <td>37000.0</td>\n",
       "      <td>6.0</td>\n",
       "    </tr>\n",
       "    <tr>\n",
       "      <th>3</th>\n",
       "      <td>Чиланзарский</td>\n",
       "      <td>3</td>\n",
       "      <td>65.0</td>\n",
       "      <td>1</td>\n",
       "      <td>4</td>\n",
       "      <td>49500.0</td>\n",
       "      <td>6.0</td>\n",
       "    </tr>\n",
       "    <tr>\n",
       "      <th>4</th>\n",
       "      <td>Чиланзарский</td>\n",
       "      <td>3</td>\n",
       "      <td>70.0</td>\n",
       "      <td>3</td>\n",
       "      <td>5</td>\n",
       "      <td>55000.0</td>\n",
       "      <td>6.0</td>\n",
       "    </tr>\n",
       "  </tbody>\n",
       "</table>\n",
       "</div>"
      ],
      "text/plain": [
       "        district  rooms  size  level  max_levels    price  Cat\n",
       "0   Юнусабадский      3  57.0      4           4  52000.0  8.0\n",
       "1  Яккасарайский      2  52.0      4           5  56000.0  9.0\n",
       "2   Чиланзарский      2  42.0      4           4  37000.0  6.0\n",
       "3   Чиланзарский      3  65.0      1           4  49500.0  6.0\n",
       "4   Чиланзарский      3  70.0      3           5  55000.0  6.0"
      ]
     },
     "execution_count": 54,
     "metadata": {},
     "output_type": "execute_result"
    }
   ],
   "source": [
    "data.head()"
   ]
  },
  {
   "cell_type": "code",
   "execution_count": 55,
   "metadata": {},
   "outputs": [],
   "source": [
    "data_with_dummy = pd.get_dummies(data, prefix='', prefix_sep='')"
   ]
  },
  {
   "cell_type": "code",
   "execution_count": 56,
   "metadata": {},
   "outputs": [],
   "source": [
    "from sklearn.model_selection import StratifiedShuffleSplit\n",
    "\n",
    "strat = StratifiedShuffleSplit(n_splits=1, test_size=0.2, random_state=73)"
   ]
  },
  {
   "cell_type": "code",
   "execution_count": 57,
   "metadata": {},
   "outputs": [],
   "source": [
    "data_with_dummy.reset_index(drop=True, inplace=True)"
   ]
  },
  {
   "cell_type": "code",
   "execution_count": 58,
   "metadata": {},
   "outputs": [],
   "source": [
    "for train_ind, test_ind in strat.split(data_with_dummy, data_with_dummy['Cat']):\n",
    "    train_set = data_with_dummy.loc[train_ind]\n",
    "    test_set = data_with_dummy.loc[test_ind]"
   ]
  },
  {
   "cell_type": "code",
   "execution_count": 59,
   "metadata": {},
   "outputs": [
    {
     "data": {
      "image/png": "[encoded data removed]",
      "text/plain": [
       "<Figure size 500x300 with 1 Axes>"
      ]
     },
     "metadata": {},
     "output_type": "display_data"
    }
   ],
   "source": [
    "plt.figure(figsize=(5,3))\n",
    "data.Cat.hist()\n",
    "plt.show()"
   ]
  },
  {
   "cell_type": "code",
   "execution_count": 60,
   "metadata": {},
   "outputs": [
    {
     "data": {
      "image/png": "[encoded data removed]",
      "text/plain": [
       "<Figure size 500x300 with 1 Axes>"
      ]
     },
     "metadata": {},
     "output_type": "display_data"
    }
   ],
   "source": [
    "plt.figure(figsize=(5,3))\n",
    "train_set.Cat.hist()\n",
    "plt.show()"
   ]
  },
  {
   "cell_type": "markdown",
   "metadata": {},
   "source": [
    "#### Cat ustunni tashlab yuboramiz sababi endi kerak emas"
   ]
  },
  {
   "cell_type": "code",
   "execution_count": 61,
   "metadata": {},
   "outputs": [],
   "source": [
    "train_set.drop('Cat', axis=1, inplace=True)\n",
    "test_set.drop('Cat', axis=1, inplace=True)"
   ]
  },
  {
   "cell_type": "code",
   "execution_count": 62,
   "metadata": {
    "scrolled": false
   },
   "outputs": [
    {
     "data": {
      "text/html": [
       "<div>\n",
       "<style scoped>\n",
       "    .dataframe tbody tr th:only-of-type {\n",
       "        vertical-align: middle;\n",
       "    }\n",
       "\n",
       "    .dataframe tbody tr th {\n",
       "        vertical-align: top;\n",
       "    }\n",
       "\n",
       "    .dataframe thead th {\n",
       "        text-align: right;\n",
       "    }\n",
       "</style>\n",
       "<table border=\"1\" class=\"dataframe\">\n",
       "  <thead>\n",
       "    <tr style=\"text-align: right;\">\n",
       "      <th></th>\n",
       "      <th>rooms</th>\n",
       "      <th>size</th>\n",
       "      <th>level</th>\n",
       "      <th>max_levels</th>\n",
       "      <th>price</th>\n",
       "      <th>Бектемирский</th>\n",
       "      <th>Мирабадский</th>\n",
       "      <th>Мирзо-Улугбекский</th>\n",
       "      <th>Олмазорский</th>\n",
       "      <th>Сергелийский</th>\n",
       "      <th>Учтепинский</th>\n",
       "      <th>Чиланзарский</th>\n",
       "      <th>Шайхантахурский</th>\n",
       "      <th>Юнусабадский</th>\n",
       "      <th>Яккасарайский</th>\n",
       "      <th>Янгихаётский</th>\n",
       "      <th>Яшнободский</th>\n",
       "    </tr>\n",
       "  </thead>\n",
       "  <tbody>\n",
       "    <tr>\n",
       "      <th>2032</th>\n",
       "      <td>2</td>\n",
       "      <td>42.0</td>\n",
       "      <td>2</td>\n",
       "      <td>4</td>\n",
       "      <td>32500.0</td>\n",
       "      <td>0</td>\n",
       "      <td>0</td>\n",
       "      <td>0</td>\n",
       "      <td>0</td>\n",
       "      <td>0</td>\n",
       "      <td>0</td>\n",
       "      <td>1</td>\n",
       "      <td>0</td>\n",
       "      <td>0</td>\n",
       "      <td>0</td>\n",
       "      <td>0</td>\n",
       "      <td>0</td>\n",
       "    </tr>\n",
       "    <tr>\n",
       "      <th>1129</th>\n",
       "      <td>3</td>\n",
       "      <td>78.0</td>\n",
       "      <td>3</td>\n",
       "      <td>9</td>\n",
       "      <td>45000.0</td>\n",
       "      <td>0</td>\n",
       "      <td>0</td>\n",
       "      <td>0</td>\n",
       "      <td>0</td>\n",
       "      <td>0</td>\n",
       "      <td>1</td>\n",
       "      <td>0</td>\n",
       "      <td>0</td>\n",
       "      <td>0</td>\n",
       "      <td>0</td>\n",
       "      <td>0</td>\n",
       "      <td>0</td>\n",
       "    </tr>\n",
       "    <tr>\n",
       "      <th>5026</th>\n",
       "      <td>3</td>\n",
       "      <td>70.0</td>\n",
       "      <td>4</td>\n",
       "      <td>5</td>\n",
       "      <td>52500.0</td>\n",
       "      <td>0</td>\n",
       "      <td>0</td>\n",
       "      <td>1</td>\n",
       "      <td>0</td>\n",
       "      <td>0</td>\n",
       "      <td>0</td>\n",
       "      <td>0</td>\n",
       "      <td>0</td>\n",
       "      <td>0</td>\n",
       "      <td>0</td>\n",
       "      <td>0</td>\n",
       "      <td>0</td>\n",
       "    </tr>\n",
       "    <tr>\n",
       "      <th>690</th>\n",
       "      <td>3</td>\n",
       "      <td>75.0</td>\n",
       "      <td>10</td>\n",
       "      <td>12</td>\n",
       "      <td>50000.0</td>\n",
       "      <td>0</td>\n",
       "      <td>0</td>\n",
       "      <td>0</td>\n",
       "      <td>0</td>\n",
       "      <td>0</td>\n",
       "      <td>0</td>\n",
       "      <td>0</td>\n",
       "      <td>1</td>\n",
       "      <td>0</td>\n",
       "      <td>0</td>\n",
       "      <td>0</td>\n",
       "      <td>0</td>\n",
       "    </tr>\n",
       "    <tr>\n",
       "      <th>2365</th>\n",
       "      <td>1</td>\n",
       "      <td>42.0</td>\n",
       "      <td>4</td>\n",
       "      <td>5</td>\n",
       "      <td>22800.0</td>\n",
       "      <td>0</td>\n",
       "      <td>0</td>\n",
       "      <td>0</td>\n",
       "      <td>1</td>\n",
       "      <td>0</td>\n",
       "      <td>0</td>\n",
       "      <td>0</td>\n",
       "      <td>0</td>\n",
       "      <td>0</td>\n",
       "      <td>0</td>\n",
       "      <td>0</td>\n",
       "      <td>0</td>\n",
       "    </tr>\n",
       "    <tr>\n",
       "      <th>...</th>\n",
       "      <td>...</td>\n",
       "      <td>...</td>\n",
       "      <td>...</td>\n",
       "      <td>...</td>\n",
       "      <td>...</td>\n",
       "      <td>...</td>\n",
       "      <td>...</td>\n",
       "      <td>...</td>\n",
       "      <td>...</td>\n",
       "      <td>...</td>\n",
       "      <td>...</td>\n",
       "      <td>...</td>\n",
       "      <td>...</td>\n",
       "      <td>...</td>\n",
       "      <td>...</td>\n",
       "      <td>...</td>\n",
       "      <td>...</td>\n",
       "    </tr>\n",
       "    <tr>\n",
       "      <th>3755</th>\n",
       "      <td>1</td>\n",
       "      <td>41.0</td>\n",
       "      <td>1</td>\n",
       "      <td>4</td>\n",
       "      <td>30000.0</td>\n",
       "      <td>0</td>\n",
       "      <td>0</td>\n",
       "      <td>0</td>\n",
       "      <td>0</td>\n",
       "      <td>0</td>\n",
       "      <td>0</td>\n",
       "      <td>0</td>\n",
       "      <td>0</td>\n",
       "      <td>1</td>\n",
       "      <td>0</td>\n",
       "      <td>0</td>\n",
       "      <td>0</td>\n",
       "    </tr>\n",
       "    <tr>\n",
       "      <th>3954</th>\n",
       "      <td>3</td>\n",
       "      <td>60.0</td>\n",
       "      <td>3</td>\n",
       "      <td>4</td>\n",
       "      <td>75000.0</td>\n",
       "      <td>0</td>\n",
       "      <td>0</td>\n",
       "      <td>0</td>\n",
       "      <td>0</td>\n",
       "      <td>0</td>\n",
       "      <td>0</td>\n",
       "      <td>0</td>\n",
       "      <td>0</td>\n",
       "      <td>1</td>\n",
       "      <td>0</td>\n",
       "      <td>0</td>\n",
       "      <td>0</td>\n",
       "    </tr>\n",
       "    <tr>\n",
       "      <th>1334</th>\n",
       "      <td>2</td>\n",
       "      <td>54.0</td>\n",
       "      <td>5</td>\n",
       "      <td>5</td>\n",
       "      <td>36000.0</td>\n",
       "      <td>0</td>\n",
       "      <td>0</td>\n",
       "      <td>0</td>\n",
       "      <td>0</td>\n",
       "      <td>0</td>\n",
       "      <td>0</td>\n",
       "      <td>1</td>\n",
       "      <td>0</td>\n",
       "      <td>0</td>\n",
       "      <td>0</td>\n",
       "      <td>0</td>\n",
       "      <td>0</td>\n",
       "    </tr>\n",
       "    <tr>\n",
       "      <th>4727</th>\n",
       "      <td>1</td>\n",
       "      <td>42.0</td>\n",
       "      <td>2</td>\n",
       "      <td>9</td>\n",
       "      <td>37000.0</td>\n",
       "      <td>0</td>\n",
       "      <td>1</td>\n",
       "      <td>0</td>\n",
       "      <td>0</td>\n",
       "      <td>0</td>\n",
       "      <td>0</td>\n",
       "      <td>0</td>\n",
       "      <td>0</td>\n",
       "      <td>0</td>\n",
       "      <td>0</td>\n",
       "      <td>0</td>\n",
       "      <td>0</td>\n",
       "    </tr>\n",
       "    <tr>\n",
       "      <th>4321</th>\n",
       "      <td>5</td>\n",
       "      <td>208.0</td>\n",
       "      <td>1</td>\n",
       "      <td>5</td>\n",
       "      <td>119900.0</td>\n",
       "      <td>0</td>\n",
       "      <td>0</td>\n",
       "      <td>1</td>\n",
       "      <td>0</td>\n",
       "      <td>0</td>\n",
       "      <td>0</td>\n",
       "      <td>0</td>\n",
       "      <td>0</td>\n",
       "      <td>0</td>\n",
       "      <td>0</td>\n",
       "      <td>0</td>\n",
       "      <td>0</td>\n",
       "    </tr>\n",
       "  </tbody>\n",
       "</table>\n",
       "<p>5965 rows × 17 columns</p>\n",
       "</div>"
      ],
      "text/plain": [
       "      rooms   size  level  max_levels     price  Бектемирский  Мирабадский  \\\n",
       "2032      2   42.0      2           4   32500.0             0            0   \n",
       "1129      3   78.0      3           9   45000.0             0            0   \n",
       "5026      3   70.0      4           5   52500.0             0            0   \n",
       "690       3   75.0     10          12   50000.0             0            0   \n",
       "2365      1   42.0      4           5   22800.0             0            0   \n",
       "...     ...    ...    ...         ...       ...           ...          ...   \n",
       "3755      1   41.0      1           4   30000.0             0            0   \n",
       "3954      3   60.0      3           4   75000.0             0            0   \n",
       "1334      2   54.0      5           5   36000.0             0            0   \n",
       "4727      1   42.0      2           9   37000.0             0            1   \n",
       "4321      5  208.0      1           5  119900.0             0            0   \n",
       "\n",
       "      Мирзо-Улугбекский  Олмазорский  Сергелийский  Учтепинский  Чиланзарский  \\\n",
       "2032                  0            0             0            0             1   \n",
       "1129                  0            0             0            1             0   \n",
       "5026                  1            0             0            0             0   \n",
       "690                   0            0             0            0             0   \n",
       "2365                  0            1             0            0             0   \n",
       "...                 ...          ...           ...          ...           ...   \n",
       "3755                  0            0             0            0             0   \n",
       "3954                  0            0             0            0             0   \n",
       "1334                  0            0             0            0             1   \n",
       "4727                  0            0             0            0             0   \n",
       "4321                  1            0             0            0             0   \n",
       "\n",
       "      Шайхантахурский  Юнусабадский  Яккасарайский  Янгихаётский  Яшнободский  \n",
       "2032                0             0              0             0            0  \n",
       "1129                0             0              0             0            0  \n",
       "5026                0             0              0             0            0  \n",
       "690                 1             0              0             0            0  \n",
       "2365                0             0              0             0            0  \n",
       "...               ...           ...            ...           ...          ...  \n",
       "3755                0             1              0             0            0  \n",
       "3954                0             1              0             0            0  \n",
       "1334                0             0              0             0            0  \n",
       "4727                0             0              0             0            0  \n",
       "4321                0             0              0             0            0  \n",
       "\n",
       "[5965 rows x 17 columns]"
      ]
     },
     "execution_count": 62,
     "metadata": {},
     "output_type": "execute_result"
    }
   ],
   "source": [
    "train_set"
   ]
  },
  {
   "cell_type": "markdown",
   "metadata": {},
   "source": [
    "## 1. Linear Regression da sinab ko'ramiz"
   ]
  },
  {
   "cell_type": "code",
   "execution_count": 63,
   "metadata": {},
   "outputs": [],
   "source": [
    "from sklearn.linear_model import LinearRegression\n",
    "reg_linear = LinearRegression()"
   ]
  },
  {
   "cell_type": "code",
   "execution_count": 64,
   "metadata": {},
   "outputs": [],
   "source": [
    "Y_train = train_set.price\n",
    "X_train = train_set.drop('price', axis=1)"
   ]
  },
  {
   "cell_type": "code",
   "execution_count": 65,
   "metadata": {},
   "outputs": [
    {
     "data": {
      "text/plain": [
       "LinearRegression()"
      ]
     },
     "execution_count": 65,
     "metadata": {},
     "output_type": "execute_result"
    }
   ],
   "source": [
    "reg_linear.fit(X_train, Y_train)"
   ]
  },
  {
   "cell_type": "code",
   "execution_count": 66,
   "metadata": {},
   "outputs": [],
   "source": [
    "pred = reg_linear.predict(X_train)"
   ]
  },
  {
   "cell_type": "code",
   "execution_count": 67,
   "metadata": {},
   "outputs": [],
   "source": [
    "diff = pd.DataFrame()\n",
    "diff['Asl_price'] = Y_train\n",
    "diff['Pred'] = pred\n",
    "diff['Diff'] = Y_train - pred\n",
    "diff['Diff $'] = ((Y_train - pred) / Y_train) * 100"
   ]
  },
  {
   "cell_type": "code",
   "execution_count": 68,
   "metadata": {},
   "outputs": [
    {
     "data": {
      "text/html": [
       "<div>\n",
       "<style scoped>\n",
       "    .dataframe tbody tr th:only-of-type {\n",
       "        vertical-align: middle;\n",
       "    }\n",
       "\n",
       "    .dataframe tbody tr th {\n",
       "        vertical-align: top;\n",
       "    }\n",
       "\n",
       "    .dataframe thead th {\n",
       "        text-align: right;\n",
       "    }\n",
       "</style>\n",
       "<table border=\"1\" class=\"dataframe\">\n",
       "  <thead>\n",
       "    <tr style=\"text-align: right;\">\n",
       "      <th></th>\n",
       "      <th>Asl_price</th>\n",
       "      <th>Pred</th>\n",
       "      <th>Diff</th>\n",
       "      <th>Diff $</th>\n",
       "    </tr>\n",
       "  </thead>\n",
       "  <tbody>\n",
       "    <tr>\n",
       "      <th>2032</th>\n",
       "      <td>32500.0</td>\n",
       "      <td>34620.440169</td>\n",
       "      <td>-2120.440169</td>\n",
       "      <td>-6.524431</td>\n",
       "    </tr>\n",
       "    <tr>\n",
       "      <th>1129</th>\n",
       "      <td>45000.0</td>\n",
       "      <td>62257.897228</td>\n",
       "      <td>-17257.897228</td>\n",
       "      <td>-38.350883</td>\n",
       "    </tr>\n",
       "    <tr>\n",
       "      <th>5026</th>\n",
       "      <td>52500.0</td>\n",
       "      <td>59155.055612</td>\n",
       "      <td>-6655.055612</td>\n",
       "      <td>-12.676296</td>\n",
       "    </tr>\n",
       "    <tr>\n",
       "      <th>690</th>\n",
       "      <td>50000.0</td>\n",
       "      <td>58578.698941</td>\n",
       "      <td>-8578.698941</td>\n",
       "      <td>-17.157398</td>\n",
       "    </tr>\n",
       "    <tr>\n",
       "      <th>2365</th>\n",
       "      <td>22800.0</td>\n",
       "      <td>14359.369853</td>\n",
       "      <td>8440.630147</td>\n",
       "      <td>37.020308</td>\n",
       "    </tr>\n",
       "    <tr>\n",
       "      <th>6248</th>\n",
       "      <td>40500.0</td>\n",
       "      <td>51989.778660</td>\n",
       "      <td>-11489.778660</td>\n",
       "      <td>-28.369824</td>\n",
       "    </tr>\n",
       "    <tr>\n",
       "      <th>717</th>\n",
       "      <td>34600.0</td>\n",
       "      <td>44499.843494</td>\n",
       "      <td>-9899.843494</td>\n",
       "      <td>-28.612264</td>\n",
       "    </tr>\n",
       "    <tr>\n",
       "      <th>4952</th>\n",
       "      <td>72000.0</td>\n",
       "      <td>108570.658757</td>\n",
       "      <td>-36570.658757</td>\n",
       "      <td>-50.792582</td>\n",
       "    </tr>\n",
       "    <tr>\n",
       "      <th>4244</th>\n",
       "      <td>38500.0</td>\n",
       "      <td>45588.452463</td>\n",
       "      <td>-7088.452463</td>\n",
       "      <td>-18.411565</td>\n",
       "    </tr>\n",
       "    <tr>\n",
       "      <th>3827</th>\n",
       "      <td>23000.0</td>\n",
       "      <td>51883.604255</td>\n",
       "      <td>-28883.604255</td>\n",
       "      <td>-125.580888</td>\n",
       "    </tr>\n",
       "    <tr>\n",
       "      <th>2611</th>\n",
       "      <td>17700.0</td>\n",
       "      <td>46036.488734</td>\n",
       "      <td>-28336.488734</td>\n",
       "      <td>-160.093157</td>\n",
       "    </tr>\n",
       "    <tr>\n",
       "      <th>2574</th>\n",
       "      <td>28200.0</td>\n",
       "      <td>37705.252432</td>\n",
       "      <td>-9505.252432</td>\n",
       "      <td>-33.706569</td>\n",
       "    </tr>\n",
       "    <tr>\n",
       "      <th>815</th>\n",
       "      <td>53000.0</td>\n",
       "      <td>47715.862648</td>\n",
       "      <td>5284.137352</td>\n",
       "      <td>9.970070</td>\n",
       "    </tr>\n",
       "    <tr>\n",
       "      <th>5750</th>\n",
       "      <td>55000.0</td>\n",
       "      <td>58923.715959</td>\n",
       "      <td>-3923.715959</td>\n",
       "      <td>-7.134029</td>\n",
       "    </tr>\n",
       "    <tr>\n",
       "      <th>3400</th>\n",
       "      <td>66847.0</td>\n",
       "      <td>78222.104742</td>\n",
       "      <td>-11375.104742</td>\n",
       "      <td>-17.016627</td>\n",
       "    </tr>\n",
       "    <tr>\n",
       "      <th>1478</th>\n",
       "      <td>31000.0</td>\n",
       "      <td>29535.682255</td>\n",
       "      <td>1464.317745</td>\n",
       "      <td>4.723606</td>\n",
       "    </tr>\n",
       "    <tr>\n",
       "      <th>7140</th>\n",
       "      <td>59000.0</td>\n",
       "      <td>86495.567843</td>\n",
       "      <td>-27495.567843</td>\n",
       "      <td>-46.602657</td>\n",
       "    </tr>\n",
       "    <tr>\n",
       "      <th>6066</th>\n",
       "      <td>45000.0</td>\n",
       "      <td>64390.571039</td>\n",
       "      <td>-19390.571039</td>\n",
       "      <td>-43.090158</td>\n",
       "    </tr>\n",
       "    <tr>\n",
       "      <th>2665</th>\n",
       "      <td>155000.0</td>\n",
       "      <td>103196.077003</td>\n",
       "      <td>51803.922997</td>\n",
       "      <td>33.421886</td>\n",
       "    </tr>\n",
       "    <tr>\n",
       "      <th>511</th>\n",
       "      <td>36500.0</td>\n",
       "      <td>43085.656176</td>\n",
       "      <td>-6585.656176</td>\n",
       "      <td>-18.042894</td>\n",
       "    </tr>\n",
       "    <tr>\n",
       "      <th>2612</th>\n",
       "      <td>45000.0</td>\n",
       "      <td>83515.514784</td>\n",
       "      <td>-38515.514784</td>\n",
       "      <td>-85.590033</td>\n",
       "    </tr>\n",
       "    <tr>\n",
       "      <th>4388</th>\n",
       "      <td>72500.0</td>\n",
       "      <td>81204.545076</td>\n",
       "      <td>-8704.545076</td>\n",
       "      <td>-12.006269</td>\n",
       "    </tr>\n",
       "    <tr>\n",
       "      <th>6353</th>\n",
       "      <td>45000.0</td>\n",
       "      <td>59238.246656</td>\n",
       "      <td>-14238.246656</td>\n",
       "      <td>-31.640548</td>\n",
       "    </tr>\n",
       "    <tr>\n",
       "      <th>5174</th>\n",
       "      <td>47000.0</td>\n",
       "      <td>47047.938661</td>\n",
       "      <td>-47.938661</td>\n",
       "      <td>-0.101997</td>\n",
       "    </tr>\n",
       "    <tr>\n",
       "      <th>5279</th>\n",
       "      <td>30500.0</td>\n",
       "      <td>36061.537970</td>\n",
       "      <td>-5561.537970</td>\n",
       "      <td>-18.234551</td>\n",
       "    </tr>\n",
       "    <tr>\n",
       "      <th>613</th>\n",
       "      <td>35000.0</td>\n",
       "      <td>39703.889254</td>\n",
       "      <td>-4703.889254</td>\n",
       "      <td>-13.439684</td>\n",
       "    </tr>\n",
       "    <tr>\n",
       "      <th>331</th>\n",
       "      <td>40000.0</td>\n",
       "      <td>54803.247545</td>\n",
       "      <td>-14803.247545</td>\n",
       "      <td>-37.008119</td>\n",
       "    </tr>\n",
       "    <tr>\n",
       "      <th>1285</th>\n",
       "      <td>90000.0</td>\n",
       "      <td>112147.570936</td>\n",
       "      <td>-22147.570936</td>\n",
       "      <td>-24.608412</td>\n",
       "    </tr>\n",
       "    <tr>\n",
       "      <th>883</th>\n",
       "      <td>42000.0</td>\n",
       "      <td>53481.011384</td>\n",
       "      <td>-11481.011384</td>\n",
       "      <td>-27.335741</td>\n",
       "    </tr>\n",
       "    <tr>\n",
       "      <th>643</th>\n",
       "      <td>29996.0</td>\n",
       "      <td>36353.730875</td>\n",
       "      <td>-6357.730875</td>\n",
       "      <td>-21.195262</td>\n",
       "    </tr>\n",
       "    <tr>\n",
       "      <th>5011</th>\n",
       "      <td>24000.0</td>\n",
       "      <td>24897.561550</td>\n",
       "      <td>-897.561550</td>\n",
       "      <td>-3.739840</td>\n",
       "    </tr>\n",
       "    <tr>\n",
       "      <th>5599</th>\n",
       "      <td>42500.0</td>\n",
       "      <td>40448.659122</td>\n",
       "      <td>2051.340878</td>\n",
       "      <td>4.826684</td>\n",
       "    </tr>\n",
       "    <tr>\n",
       "      <th>3082</th>\n",
       "      <td>36500.0</td>\n",
       "      <td>40847.894414</td>\n",
       "      <td>-4347.894414</td>\n",
       "      <td>-11.912039</td>\n",
       "    </tr>\n",
       "    <tr>\n",
       "      <th>908</th>\n",
       "      <td>37500.0</td>\n",
       "      <td>26718.851741</td>\n",
       "      <td>10781.148259</td>\n",
       "      <td>28.749729</td>\n",
       "    </tr>\n",
       "    <tr>\n",
       "      <th>970</th>\n",
       "      <td>57000.0</td>\n",
       "      <td>69290.389667</td>\n",
       "      <td>-12290.389667</td>\n",
       "      <td>-21.562087</td>\n",
       "    </tr>\n",
       "  </tbody>\n",
       "</table>\n",
       "</div>"
      ],
      "text/plain": [
       "      Asl_price           Pred          Diff      Diff $\n",
       "2032    32500.0   34620.440169  -2120.440169   -6.524431\n",
       "1129    45000.0   62257.897228 -17257.897228  -38.350883\n",
       "5026    52500.0   59155.055612  -6655.055612  -12.676296\n",
       "690     50000.0   58578.698941  -8578.698941  -17.157398\n",
       "2365    22800.0   14359.369853   8440.630147   37.020308\n",
       "6248    40500.0   51989.778660 -11489.778660  -28.369824\n",
       "717     34600.0   44499.843494  -9899.843494  -28.612264\n",
       "4952    72000.0  108570.658757 -36570.658757  -50.792582\n",
       "4244    38500.0   45588.452463  -7088.452463  -18.411565\n",
       "3827    23000.0   51883.604255 -28883.604255 -125.580888\n",
       "2611    17700.0   46036.488734 -28336.488734 -160.093157\n",
       "2574    28200.0   37705.252432  -9505.252432  -33.706569\n",
       "815     53000.0   47715.862648   5284.137352    9.970070\n",
       "5750    55000.0   58923.715959  -3923.715959   -7.134029\n",
       "3400    66847.0   78222.104742 -11375.104742  -17.016627\n",
       "1478    31000.0   29535.682255   1464.317745    4.723606\n",
       "7140    59000.0   86495.567843 -27495.567843  -46.602657\n",
       "6066    45000.0   64390.571039 -19390.571039  -43.090158\n",
       "2665   155000.0  103196.077003  51803.922997   33.421886\n",
       "511     36500.0   43085.656176  -6585.656176  -18.042894\n",
       "2612    45000.0   83515.514784 -38515.514784  -85.590033\n",
       "4388    72500.0   81204.545076  -8704.545076  -12.006269\n",
       "6353    45000.0   59238.246656 -14238.246656  -31.640548\n",
       "5174    47000.0   47047.938661    -47.938661   -0.101997\n",
       "5279    30500.0   36061.537970  -5561.537970  -18.234551\n",
       "613     35000.0   39703.889254  -4703.889254  -13.439684\n",
       "331     40000.0   54803.247545 -14803.247545  -37.008119\n",
       "1285    90000.0  112147.570936 -22147.570936  -24.608412\n",
       "883     42000.0   53481.011384 -11481.011384  -27.335741\n",
       "643     29996.0   36353.730875  -6357.730875  -21.195262\n",
       "5011    24000.0   24897.561550   -897.561550   -3.739840\n",
       "5599    42500.0   40448.659122   2051.340878    4.826684\n",
       "3082    36500.0   40847.894414  -4347.894414  -11.912039\n",
       "908     37500.0   26718.851741  10781.148259   28.749729\n",
       "970     57000.0   69290.389667 -12290.389667  -21.562087"
      ]
     },
     "execution_count": 68,
     "metadata": {},
     "output_type": "execute_result"
    }
   ],
   "source": [
    "diff.head(35)"
   ]
  },
  {
   "cell_type": "code",
   "execution_count": 69,
   "metadata": {
    "scrolled": true
   },
   "outputs": [
    {
     "data": {
      "text/html": [
       "<div>\n",
       "<style scoped>\n",
       "    .dataframe tbody tr th:only-of-type {\n",
       "        vertical-align: middle;\n",
       "    }\n",
       "\n",
       "    .dataframe tbody tr th {\n",
       "        vertical-align: top;\n",
       "    }\n",
       "\n",
       "    .dataframe thead th {\n",
       "        text-align: right;\n",
       "    }\n",
       "</style>\n",
       "<table border=\"1\" class=\"dataframe\">\n",
       "  <thead>\n",
       "    <tr style=\"text-align: right;\">\n",
       "      <th></th>\n",
       "      <th>Asl_price</th>\n",
       "      <th>Pred</th>\n",
       "      <th>Diff</th>\n",
       "      <th>Diff $</th>\n",
       "    </tr>\n",
       "  </thead>\n",
       "  <tbody>\n",
       "    <tr>\n",
       "      <th>count</th>\n",
       "      <td>5965.0</td>\n",
       "      <td>5965.0</td>\n",
       "      <td>5965.0</td>\n",
       "      <td>5965.0</td>\n",
       "    </tr>\n",
       "    <tr>\n",
       "      <th>mean</th>\n",
       "      <td>59062.21</td>\n",
       "      <td>59062.21</td>\n",
       "      <td>-0.0</td>\n",
       "      <td>-9.22</td>\n",
       "    </tr>\n",
       "    <tr>\n",
       "      <th>std</th>\n",
       "      <td>47392.38</td>\n",
       "      <td>34034.89</td>\n",
       "      <td>32979.75</td>\n",
       "      <td>34.83</td>\n",
       "    </tr>\n",
       "    <tr>\n",
       "      <th>min</th>\n",
       "      <td>7300.0</td>\n",
       "      <td>-4685.91</td>\n",
       "      <td>-862050.61</td>\n",
       "      <td>-446.7</td>\n",
       "    </tr>\n",
       "    <tr>\n",
       "      <th>25%</th>\n",
       "      <td>35000.0</td>\n",
       "      <td>38646.64</td>\n",
       "      <td>-12466.29</td>\n",
       "      <td>-28.13</td>\n",
       "    </tr>\n",
       "    <tr>\n",
       "      <th>50%</th>\n",
       "      <td>46000.0</td>\n",
       "      <td>53070.32</td>\n",
       "      <td>-3197.89</td>\n",
       "      <td>-7.04</td>\n",
       "    </tr>\n",
       "    <tr>\n",
       "      <th>75%</th>\n",
       "      <td>66000.0</td>\n",
       "      <td>72872.26</td>\n",
       "      <td>5797.98</td>\n",
       "      <td>13.0</td>\n",
       "    </tr>\n",
       "    <tr>\n",
       "      <th>max</th>\n",
       "      <td>800000.0</td>\n",
       "      <td>1127050.61</td>\n",
       "      <td>628327.45</td>\n",
       "      <td>130.23</td>\n",
       "    </tr>\n",
       "  </tbody>\n",
       "</table>\n",
       "</div>"
      ],
      "text/plain": [
       "      Asl_price        Pred        Diff  Diff $\n",
       "count    5965.0      5965.0      5965.0  5965.0\n",
       "mean   59062.21    59062.21        -0.0   -9.22\n",
       "std    47392.38    34034.89    32979.75   34.83\n",
       "min      7300.0    -4685.91  -862050.61  -446.7\n",
       "25%     35000.0    38646.64   -12466.29  -28.13\n",
       "50%     46000.0    53070.32    -3197.89   -7.04\n",
       "75%     66000.0    72872.26     5797.98    13.0\n",
       "max    800000.0  1127050.61   628327.45  130.23"
      ]
     },
     "execution_count": 69,
     "metadata": {},
     "output_type": "execute_result"
    }
   ],
   "source": [
    "diff.describe().round(2).astype(str)"
   ]
  },
  {
   "cell_type": "markdown",
   "metadata": {},
   "source": [
    "#### Accuracy ni hisoblasak"
   ]
  },
  {
   "cell_type": "code",
   "execution_count": 70,
   "metadata": {
    "scrolled": true
   },
   "outputs": [
    {
     "data": {
      "text/plain": [
       "0.5157410007485552"
      ]
     },
     "execution_count": 70,
     "metadata": {},
     "output_type": "execute_result"
    }
   ],
   "source": [
    "reg_linear.score(X_train, Y_train)"
   ]
  },
  {
   "cell_type": "code",
   "execution_count": 71,
   "metadata": {},
   "outputs": [],
   "source": [
    "from sklearn.metrics import mean_absolute_error, mean_squared_error"
   ]
  },
  {
   "cell_type": "code",
   "execution_count": 72,
   "metadata": {},
   "outputs": [
    {
     "name": "stdout",
     "output_type": "stream",
     "text": [
      "MAE :  15971.35 \n",
      "MSE :  32976.99\n"
     ]
    }
   ],
   "source": [
    "mae = mean_absolute_error(Y_train, pred)\n",
    "# -----------------------------------------\n",
    "mse = mean_squared_error(Y_train, pred)\n",
    "print('MAE : ', mae.round(2), '\\nMSE : ', np.sqrt(mse).round(2))"
   ]
  },
  {
   "cell_type": "markdown",
   "metadata": {},
   "source": [
    "#### Natijalar yaxshi bo'lmasa ham test setni tekshirib olamiz"
   ]
  },
  {
   "cell_type": "code",
   "execution_count": 73,
   "metadata": {},
   "outputs": [],
   "source": [
    "Y_test = test_set.price\n",
    "X_test = test_set.drop('price', axis=1)"
   ]
  },
  {
   "cell_type": "code",
   "execution_count": 74,
   "metadata": {},
   "outputs": [
    {
     "data": {
      "text/plain": [
       "array([ 30743.80985647, 116351.97528376,  81325.36192004, ...,\n",
       "        89335.74207426, 125329.17307323,  48607.38593311])"
      ]
     },
     "execution_count": 74,
     "metadata": {},
     "output_type": "execute_result"
    }
   ],
   "source": [
    "X_test_linear_pred = reg_linear.predict(X_test)\n",
    "X_test_linear_pred"
   ]
  },
  {
   "cell_type": "code",
   "execution_count": 75,
   "metadata": {},
   "outputs": [
    {
     "ename": "NameError",
     "evalue": "name 'r2_score' is not defined",
     "output_type": "error",
     "traceback": [
      "\u001b[1;31m---------------------------------------------------------------------------\u001b[0m",
      "\u001b[1;31mNameError\u001b[0m                                 Traceback (most recent call last)",
      "\u001b[1;32m~\\AppData\\Local\\Temp\\ipykernel_13136\\1321350619.py\u001b[0m in \u001b[0;36m<module>\u001b[1;34m\u001b[0m\n\u001b[1;32m----> 1\u001b[1;33m \u001b[0mr2_train\u001b[0m \u001b[1;33m=\u001b[0m \u001b[0mr2_score\u001b[0m\u001b[1;33m(\u001b[0m\u001b[0mY_train\u001b[0m\u001b[1;33m,\u001b[0m \u001b[0mpred\u001b[0m\u001b[1;33m)\u001b[0m\u001b[1;33m\u001b[0m\u001b[1;33m\u001b[0m\u001b[0m\n\u001b[0m\u001b[0;32m      2\u001b[0m \u001b[0mr2_test\u001b[0m \u001b[1;33m=\u001b[0m \u001b[0mr2_score\u001b[0m\u001b[1;33m(\u001b[0m\u001b[0mY_test\u001b[0m\u001b[1;33m,\u001b[0m \u001b[0mX_test_linear_pred\u001b[0m\u001b[1;33m)\u001b[0m\u001b[1;33m\u001b[0m\u001b[1;33m\u001b[0m\u001b[0m\n\u001b[0;32m      3\u001b[0m \u001b[1;33m\u001b[0m\u001b[0m\n\u001b[0;32m      4\u001b[0m \u001b[0mpd\u001b[0m\u001b[1;33m.\u001b[0m\u001b[0mDataFrame\u001b[0m\u001b[1;33m(\u001b[0m\u001b[1;33m{\u001b[0m\u001b[1;34m'Accurancy'\u001b[0m \u001b[1;33m:\u001b[0m \u001b[1;33m[\u001b[0m\u001b[0mr2_train\u001b[0m\u001b[1;33m,\u001b[0m \u001b[0mr2_test\u001b[0m\u001b[1;33m]\u001b[0m\u001b[1;33m}\u001b[0m\u001b[1;33m,\u001b[0m \u001b[0mindex\u001b[0m\u001b[1;33m=\u001b[0m \u001b[1;33m[\u001b[0m\u001b[1;34m'Train_set'\u001b[0m\u001b[1;33m,\u001b[0m \u001b[1;34m'Test_set'\u001b[0m\u001b[1;33m]\u001b[0m\u001b[1;33m)\u001b[0m\u001b[1;33m\u001b[0m\u001b[1;33m\u001b[0m\u001b[0m\n",
      "\u001b[1;31mNameError\u001b[0m: name 'r2_score' is not defined"
     ]
    }
   ],
   "source": [
    "r2_train = r2_score(Y_train, pred)\n",
    "r2_test = r2_score(Y_test, X_test_linear_pred)\n",
    "\n",
    "pd.DataFrame({'Accurancy' : [r2_train, r2_test]}, index= ['Train_set', 'Test_set'])"
   ]
  },
  {
   "cell_type": "markdown",
   "metadata": {},
   "source": [
    "## 2. Random Forest Regressionda sinab ko'ramiz"
   ]
  },
  {
   "cell_type": "code",
   "execution_count": 76,
   "metadata": {},
   "outputs": [
    {
     "data": {
      "text/plain": [
       "RandomForestRegressor()"
      ]
     },
     "execution_count": 76,
     "metadata": {},
     "output_type": "execute_result"
    }
   ],
   "source": [
    "from sklearn.ensemble import RandomForestRegressor\n",
    "rf_model = RandomForestRegressor()\n",
    "rf_model.fit(X_train, Y_train)"
   ]
  },
  {
   "cell_type": "code",
   "execution_count": 77,
   "metadata": {},
   "outputs": [],
   "source": [
    "pred_rf = rf_model.predict(X_train)"
   ]
  },
  {
   "cell_type": "code",
   "execution_count": 78,
   "metadata": {},
   "outputs": [],
   "source": [
    "diff_rf = pd.DataFrame()\n",
    "diff_rf['Asl_price'] = Y_train\n",
    "diff_rf['Pred'] = pred_rf\n",
    "diff_rf['Diff'] = Y_train - pred_rf\n",
    "diff_rf['Diff %'] = ((Y_train - pred_rf) / Y_train) * 100"
   ]
  },
  {
   "cell_type": "code",
   "execution_count": 79,
   "metadata": {},
   "outputs": [
    {
     "data": {
      "text/html": [
       "<div>\n",
       "<style scoped>\n",
       "    .dataframe tbody tr th:only-of-type {\n",
       "        vertical-align: middle;\n",
       "    }\n",
       "\n",
       "    .dataframe tbody tr th {\n",
       "        vertical-align: top;\n",
       "    }\n",
       "\n",
       "    .dataframe thead th {\n",
       "        text-align: right;\n",
       "    }\n",
       "</style>\n",
       "<table border=\"1\" class=\"dataframe\">\n",
       "  <thead>\n",
       "    <tr style=\"text-align: right;\">\n",
       "      <th></th>\n",
       "      <th>Asl_price</th>\n",
       "      <th>Pred</th>\n",
       "      <th>Diff</th>\n",
       "      <th>Diff %</th>\n",
       "    </tr>\n",
       "  </thead>\n",
       "  <tbody>\n",
       "    <tr>\n",
       "      <th>count</th>\n",
       "      <td>5965.000000</td>\n",
       "      <td>5965.000000</td>\n",
       "      <td>5965.000000</td>\n",
       "      <td>5965.000000</td>\n",
       "    </tr>\n",
       "    <tr>\n",
       "      <th>mean</th>\n",
       "      <td>59062.208718</td>\n",
       "      <td>59324.279448</td>\n",
       "      <td>-262.070731</td>\n",
       "      <td>-2.854913</td>\n",
       "    </tr>\n",
       "    <tr>\n",
       "      <th>std</th>\n",
       "      <td>47392.382322</td>\n",
       "      <td>44423.833826</td>\n",
       "      <td>10609.382366</td>\n",
       "      <td>17.418632</td>\n",
       "    </tr>\n",
       "    <tr>\n",
       "      <th>min</th>\n",
       "      <td>7300.000000</td>\n",
       "      <td>8513.646667</td>\n",
       "      <td>-142824.866429</td>\n",
       "      <td>-607.765389</td>\n",
       "    </tr>\n",
       "    <tr>\n",
       "      <th>25%</th>\n",
       "      <td>35000.000000</td>\n",
       "      <td>36092.545061</td>\n",
       "      <td>-2929.379293</td>\n",
       "      <td>-6.883785</td>\n",
       "    </tr>\n",
       "    <tr>\n",
       "      <th>50%</th>\n",
       "      <td>46000.000000</td>\n",
       "      <td>47691.583333</td>\n",
       "      <td>-348.435897</td>\n",
       "      <td>-0.828704</td>\n",
       "    </tr>\n",
       "    <tr>\n",
       "      <th>75%</th>\n",
       "      <td>66000.000000</td>\n",
       "      <td>65850.000000</td>\n",
       "      <td>1961.390000</td>\n",
       "      <td>3.679692</td>\n",
       "    </tr>\n",
       "    <tr>\n",
       "      <th>max</th>\n",
       "      <td>800000.000000</td>\n",
       "      <td>735748.000000</td>\n",
       "      <td>342216.869704</td>\n",
       "      <td>81.480207</td>\n",
       "    </tr>\n",
       "  </tbody>\n",
       "</table>\n",
       "</div>"
      ],
      "text/plain": [
       "           Asl_price           Pred           Diff       Diff %\n",
       "count    5965.000000    5965.000000    5965.000000  5965.000000\n",
       "mean    59062.208718   59324.279448    -262.070731    -2.854913\n",
       "std     47392.382322   44423.833826   10609.382366    17.418632\n",
       "min      7300.000000    8513.646667 -142824.866429  -607.765389\n",
       "25%     35000.000000   36092.545061   -2929.379293    -6.883785\n",
       "50%     46000.000000   47691.583333    -348.435897    -0.828704\n",
       "75%     66000.000000   65850.000000    1961.390000     3.679692\n",
       "max    800000.000000  735748.000000  342216.869704    81.480207"
      ]
     },
     "execution_count": 79,
     "metadata": {},
     "output_type": "execute_result"
    }
   ],
   "source": [
    "diff_rf.describe()"
   ]
  },
  {
   "cell_type": "code",
   "execution_count": 80,
   "metadata": {},
   "outputs": [
    {
     "name": "stdout",
     "output_type": "stream",
     "text": [
      "MAE :  5075.91 \n",
      "MSE :  10611.73\n"
     ]
    }
   ],
   "source": [
    "mae = mean_absolute_error(Y_train, pred_rf)\n",
    "# -----------------------------------------\n",
    "mse = mean_squared_error(Y_train, pred_rf)\n",
    "print('MAE : ', mae.round(2), '\\nMSE : ', np.sqrt(mse).round(2))"
   ]
  },
  {
   "cell_type": "markdown",
   "metadata": {},
   "source": [
    "#### 'Diff' hamda 'Dif %' ustunlari oradagi farqni yani xatolikni ko'rsatayotganligi uchun ularning absalyut qiymatini olsak ham bo'ladi"
   ]
  },
  {
   "cell_type": "code",
   "execution_count": 81,
   "metadata": {},
   "outputs": [],
   "source": [
    "diff_rf = abs(diff_rf)"
   ]
  },
  {
   "cell_type": "code",
   "execution_count": 82,
   "metadata": {},
   "outputs": [
    {
     "data": {
      "text/html": [
       "<div>\n",
       "<style scoped>\n",
       "    .dataframe tbody tr th:only-of-type {\n",
       "        vertical-align: middle;\n",
       "    }\n",
       "\n",
       "    .dataframe tbody tr th {\n",
       "        vertical-align: top;\n",
       "    }\n",
       "\n",
       "    .dataframe thead th {\n",
       "        text-align: right;\n",
       "    }\n",
       "</style>\n",
       "<table border=\"1\" class=\"dataframe\">\n",
       "  <thead>\n",
       "    <tr style=\"text-align: right;\">\n",
       "      <th></th>\n",
       "      <th>Asl_price</th>\n",
       "      <th>Pred</th>\n",
       "      <th>Diff</th>\n",
       "      <th>Diff %</th>\n",
       "    </tr>\n",
       "  </thead>\n",
       "  <tbody>\n",
       "    <tr>\n",
       "      <th>1282</th>\n",
       "      <td>23500.0</td>\n",
       "      <td>166324.866429</td>\n",
       "      <td>142824.866429</td>\n",
       "      <td>607.765389</td>\n",
       "    </tr>\n",
       "    <tr>\n",
       "      <th>2763</th>\n",
       "      <td>15000.0</td>\n",
       "      <td>66759.166667</td>\n",
       "      <td>51759.166667</td>\n",
       "      <td>345.061111</td>\n",
       "    </tr>\n",
       "    <tr>\n",
       "      <th>1503</th>\n",
       "      <td>22000.0</td>\n",
       "      <td>97885.000000</td>\n",
       "      <td>75885.000000</td>\n",
       "      <td>344.931818</td>\n",
       "    </tr>\n",
       "    <tr>\n",
       "      <th>7264</th>\n",
       "      <td>26500.0</td>\n",
       "      <td>99805.000000</td>\n",
       "      <td>73305.000000</td>\n",
       "      <td>276.622642</td>\n",
       "    </tr>\n",
       "    <tr>\n",
       "      <th>861</th>\n",
       "      <td>23999.0</td>\n",
       "      <td>85983.673333</td>\n",
       "      <td>61984.673333</td>\n",
       "      <td>258.280234</td>\n",
       "    </tr>\n",
       "    <tr>\n",
       "      <th>...</th>\n",
       "      <td>...</td>\n",
       "      <td>...</td>\n",
       "      <td>...</td>\n",
       "      <td>...</td>\n",
       "    </tr>\n",
       "    <tr>\n",
       "      <th>599</th>\n",
       "      <td>50000.0</td>\n",
       "      <td>50000.000000</td>\n",
       "      <td>0.000000</td>\n",
       "      <td>0.000000</td>\n",
       "    </tr>\n",
       "    <tr>\n",
       "      <th>4417</th>\n",
       "      <td>23000.0</td>\n",
       "      <td>23000.000000</td>\n",
       "      <td>0.000000</td>\n",
       "      <td>0.000000</td>\n",
       "    </tr>\n",
       "    <tr>\n",
       "      <th>2126</th>\n",
       "      <td>74000.0</td>\n",
       "      <td>74000.000000</td>\n",
       "      <td>0.000000</td>\n",
       "      <td>0.000000</td>\n",
       "    </tr>\n",
       "    <tr>\n",
       "      <th>3374</th>\n",
       "      <td>33500.0</td>\n",
       "      <td>33500.000000</td>\n",
       "      <td>0.000000</td>\n",
       "      <td>0.000000</td>\n",
       "    </tr>\n",
       "    <tr>\n",
       "      <th>5752</th>\n",
       "      <td>27000.0</td>\n",
       "      <td>27000.000000</td>\n",
       "      <td>0.000000</td>\n",
       "      <td>0.000000</td>\n",
       "    </tr>\n",
       "  </tbody>\n",
       "</table>\n",
       "<p>5965 rows × 4 columns</p>\n",
       "</div>"
      ],
      "text/plain": [
       "      Asl_price           Pred           Diff      Diff %\n",
       "1282    23500.0  166324.866429  142824.866429  607.765389\n",
       "2763    15000.0   66759.166667   51759.166667  345.061111\n",
       "1503    22000.0   97885.000000   75885.000000  344.931818\n",
       "7264    26500.0   99805.000000   73305.000000  276.622642\n",
       "861     23999.0   85983.673333   61984.673333  258.280234\n",
       "...         ...            ...            ...         ...\n",
       "599     50000.0   50000.000000       0.000000    0.000000\n",
       "4417    23000.0   23000.000000       0.000000    0.000000\n",
       "2126    74000.0   74000.000000       0.000000    0.000000\n",
       "3374    33500.0   33500.000000       0.000000    0.000000\n",
       "5752    27000.0   27000.000000       0.000000    0.000000\n",
       "\n",
       "[5965 rows x 4 columns]"
      ]
     },
     "execution_count": 82,
     "metadata": {},
     "output_type": "execute_result"
    }
   ],
   "source": [
    "diff_sorted_by_per = diff_rf.sort_values('Diff %', ascending=False)\n",
    "diff_sorted_by_per"
   ]
  },
  {
   "cell_type": "markdown",
   "metadata": {},
   "source": [
    "#### 10%, 20%, 30% xatolikdan ko'p qiymatlar sonini aniqlaymiz"
   ]
  },
  {
   "cell_type": "code",
   "execution_count": 83,
   "metadata": {},
   "outputs": [
    {
     "name": "stdout",
     "output_type": "stream",
     "text": [
      "\n",
      " 10% dan yuqori xatoliklar soni:  1686 \n",
      " 20% dan yuqori xatoliklar soni:  559 \n",
      " 30% dan yuqori xatoliklar soni:  232\n"
     ]
    }
   ],
   "source": [
    "print('\\n', '10% dan yuqori xatoliklar soni: ',  diff_sorted_by_per[diff_sorted_by_per['Diff %'] > 10].shape[0],'\\n',\n",
    "      '20% dan yuqori xatoliklar soni: ',  diff_sorted_by_per[diff_sorted_by_per['Diff %'] > 20].shape[0],'\\n',\n",
    "      '30% dan yuqori xatoliklar soni: ',  diff_sorted_by_per[diff_sorted_by_per['Diff %'] > 30].shape[0])"
   ]
  },
  {
   "cell_type": "code",
   "execution_count": 84,
   "metadata": {},
   "outputs": [],
   "source": [
    "# print orqali funcsiya yasaymiz bizga bu shunchakl ma'lumot chop etadi\n",
    "\n",
    "def xatolik(x, Data, Data_ustuni_nomeri):\n",
    "    x_size = Data[Data.iloc[:, Data_ustuni_nomeri] > x].shape[0]\n",
    "    text_x = f\"\"\"{x}% dan yuqori xatoliklar soni: {str(x_size)} | Shuningdek % da: {str(round((x_size / len(Data) * 100),2))}%\"\"\"\n",
    "    print(text_x)\n",
    "    "
   ]
  },
  {
   "cell_type": "code",
   "execution_count": 85,
   "metadata": {},
   "outputs": [
    {
     "name": "stdout",
     "output_type": "stream",
     "text": [
      "10% dan yuqori xatoliklar soni: 1686 | Shuningdek % da: 28.26%\n",
      "20% dan yuqori xatoliklar soni: 559 | Shuningdek % da: 9.37%\n",
      "30% dan yuqori xatoliklar soni: 232 | Shuningdek % da: 3.89%\n"
     ]
    }
   ],
   "source": [
    "xatolik(10, diff_sorted_by_per, 3)\n",
    "xatolik(20, diff_sorted_by_per, 3)\n",
    "xatolik(30, diff_sorted_by_per, 3)"
   ]
  },
  {
   "cell_type": "markdown",
   "metadata": {},
   "source": [
    "#### Umumiy xatoliklarni barplot ko'rinishida ko'rsak ham bo'ladi"
   ]
  },
  {
   "cell_type": "code",
   "execution_count": 86,
   "metadata": {
    "scrolled": true
   },
   "outputs": [
    {
     "data": {
      "image/png": "[encoded data removed]",
      "text/plain": [
       "<Figure size 2000x600 with 1 Axes>"
      ]
     },
     "metadata": {},
     "output_type": "display_data"
    }
   ],
   "source": [
    "diff_rf.hist('Diff %', bins = [0,10,20,30,40,50,100, 500])\n",
    "plt.xticks([0,10,20,30,40,50,100, 500])\n",
    "\n",
    "plt.show()"
   ]
  },
  {
   "cell_type": "code",
   "execution_count": 87,
   "metadata": {},
   "outputs": [
    {
     "data": {
      "image/png": "[encoded data removed]",
      "text/plain": [
       "<Figure size 600x600 with 1 Axes>"
      ]
     },
     "metadata": {},
     "output_type": "display_data"
    }
   ],
   "source": [
    "sns.set(rc={'figure.figsize':(6,6)})\n",
    "\n",
    "sns.regplot(x = diff_rf.Asl_price, y =diff_rf.Pred, marker='.', line_kws={'color' : 'Orange'})\n",
    "plt.title('Predictid value hamda Actual value orasidagi bog\\'lanish', fontdict={'size' : 15})\n",
    "plt.xlabel('Actual values', fontdict={'size' : 13})\n",
    "plt.ylabel('Predicted values', fontdict={'size' : 13})\n",
    "\n",
    "plt.show()"
   ]
  },
  {
   "cell_type": "markdown",
   "metadata": {},
   "source": [
    "### Train set uchun Accuracy ni hisoblaymiz va Test set orqali test qilib ko'ramiz"
   ]
  },
  {
   "cell_type": "code",
   "execution_count": 88,
   "metadata": {},
   "outputs": [
    {
     "data": {
      "text/plain": [
       "0.949854948281333"
      ]
     },
     "execution_count": 88,
     "metadata": {},
     "output_type": "execute_result"
    }
   ],
   "source": [
    "rf_model.score(X_train, Y_train)"
   ]
  },
  {
   "cell_type": "markdown",
   "metadata": {},
   "source": [
    "#### Aniqlik yuqori darajada ana endi test qilib ko'ramiz"
   ]
  },
  {
   "cell_type": "code",
   "execution_count": 89,
   "metadata": {},
   "outputs": [
    {
     "data": {
      "text/html": [
       "<div>\n",
       "<style scoped>\n",
       "    .dataframe tbody tr th:only-of-type {\n",
       "        vertical-align: middle;\n",
       "    }\n",
       "\n",
       "    .dataframe tbody tr th {\n",
       "        vertical-align: top;\n",
       "    }\n",
       "\n",
       "    .dataframe thead th {\n",
       "        text-align: right;\n",
       "    }\n",
       "</style>\n",
       "<table border=\"1\" class=\"dataframe\">\n",
       "  <thead>\n",
       "    <tr style=\"text-align: right;\">\n",
       "      <th></th>\n",
       "      <th>rooms</th>\n",
       "      <th>size</th>\n",
       "      <th>level</th>\n",
       "      <th>max_levels</th>\n",
       "      <th>price</th>\n",
       "      <th>Бектемирский</th>\n",
       "      <th>Мирабадский</th>\n",
       "      <th>Мирзо-Улугбекский</th>\n",
       "      <th>Олмазорский</th>\n",
       "      <th>Сергелийский</th>\n",
       "      <th>Учтепинский</th>\n",
       "      <th>Чиланзарский</th>\n",
       "      <th>Шайхантахурский</th>\n",
       "      <th>Юнусабадский</th>\n",
       "      <th>Яккасарайский</th>\n",
       "      <th>Янгихаётский</th>\n",
       "      <th>Яшнободский</th>\n",
       "    </tr>\n",
       "  </thead>\n",
       "  <tbody>\n",
       "    <tr>\n",
       "      <th>7224</th>\n",
       "      <td>1</td>\n",
       "      <td>45.0</td>\n",
       "      <td>2</td>\n",
       "      <td>4</td>\n",
       "      <td>49000.0</td>\n",
       "      <td>0</td>\n",
       "      <td>0</td>\n",
       "      <td>0</td>\n",
       "      <td>0</td>\n",
       "      <td>0</td>\n",
       "      <td>0</td>\n",
       "      <td>0</td>\n",
       "      <td>0</td>\n",
       "      <td>1</td>\n",
       "      <td>0</td>\n",
       "      <td>0</td>\n",
       "      <td>0</td>\n",
       "    </tr>\n",
       "    <tr>\n",
       "      <th>6589</th>\n",
       "      <td>5</td>\n",
       "      <td>188.0</td>\n",
       "      <td>3</td>\n",
       "      <td>4</td>\n",
       "      <td>70000.0</td>\n",
       "      <td>0</td>\n",
       "      <td>0</td>\n",
       "      <td>0</td>\n",
       "      <td>0</td>\n",
       "      <td>1</td>\n",
       "      <td>0</td>\n",
       "      <td>0</td>\n",
       "      <td>0</td>\n",
       "      <td>0</td>\n",
       "      <td>0</td>\n",
       "      <td>0</td>\n",
       "      <td>0</td>\n",
       "    </tr>\n",
       "    <tr>\n",
       "      <th>5051</th>\n",
       "      <td>3</td>\n",
       "      <td>75.0</td>\n",
       "      <td>8</td>\n",
       "      <td>9</td>\n",
       "      <td>76000.0</td>\n",
       "      <td>0</td>\n",
       "      <td>1</td>\n",
       "      <td>0</td>\n",
       "      <td>0</td>\n",
       "      <td>0</td>\n",
       "      <td>0</td>\n",
       "      <td>0</td>\n",
       "      <td>0</td>\n",
       "      <td>0</td>\n",
       "      <td>0</td>\n",
       "      <td>0</td>\n",
       "      <td>0</td>\n",
       "    </tr>\n",
       "    <tr>\n",
       "      <th>5913</th>\n",
       "      <td>1</td>\n",
       "      <td>43.0</td>\n",
       "      <td>4</td>\n",
       "      <td>4</td>\n",
       "      <td>62000.0</td>\n",
       "      <td>0</td>\n",
       "      <td>0</td>\n",
       "      <td>1</td>\n",
       "      <td>0</td>\n",
       "      <td>0</td>\n",
       "      <td>0</td>\n",
       "      <td>0</td>\n",
       "      <td>0</td>\n",
       "      <td>0</td>\n",
       "      <td>0</td>\n",
       "      <td>0</td>\n",
       "      <td>0</td>\n",
       "    </tr>\n",
       "    <tr>\n",
       "      <th>685</th>\n",
       "      <td>4</td>\n",
       "      <td>100.0</td>\n",
       "      <td>9</td>\n",
       "      <td>9</td>\n",
       "      <td>70000.0</td>\n",
       "      <td>0</td>\n",
       "      <td>1</td>\n",
       "      <td>0</td>\n",
       "      <td>0</td>\n",
       "      <td>0</td>\n",
       "      <td>0</td>\n",
       "      <td>0</td>\n",
       "      <td>0</td>\n",
       "      <td>0</td>\n",
       "      <td>0</td>\n",
       "      <td>0</td>\n",
       "      <td>0</td>\n",
       "    </tr>\n",
       "  </tbody>\n",
       "</table>\n",
       "</div>"
      ],
      "text/plain": [
       "      rooms   size  level  max_levels    price  Бектемирский  Мирабадский  \\\n",
       "7224      1   45.0      2           4  49000.0             0            0   \n",
       "6589      5  188.0      3           4  70000.0             0            0   \n",
       "5051      3   75.0      8           9  76000.0             0            1   \n",
       "5913      1   43.0      4           4  62000.0             0            0   \n",
       "685       4  100.0      9           9  70000.0             0            1   \n",
       "\n",
       "      Мирзо-Улугбекский  Олмазорский  Сергелийский  Учтепинский  Чиланзарский  \\\n",
       "7224                  0            0             0            0             0   \n",
       "6589                  0            0             1            0             0   \n",
       "5051                  0            0             0            0             0   \n",
       "5913                  1            0             0            0             0   \n",
       "685                   0            0             0            0             0   \n",
       "\n",
       "      Шайхантахурский  Юнусабадский  Яккасарайский  Янгихаётский  Яшнободский  \n",
       "7224                0             1              0             0            0  \n",
       "6589                0             0              0             0            0  \n",
       "5051                0             0              0             0            0  \n",
       "5913                0             0              0             0            0  \n",
       "685                 0             0              0             0            0  "
      ]
     },
     "execution_count": 89,
     "metadata": {},
     "output_type": "execute_result"
    }
   ],
   "source": [
    "test_set.head()"
   ]
  },
  {
   "cell_type": "code",
   "execution_count": 90,
   "metadata": {},
   "outputs": [
    {
     "data": {
      "text/plain": [
       "array([ 37812.89952381, 157530.        ,  71765.85714286, ...,\n",
       "        84693.33333333, 118460.        ,  42536.99111305])"
      ]
     },
     "execution_count": 90,
     "metadata": {},
     "output_type": "execute_result"
    }
   ],
   "source": [
    "pred_test_set = rf_model.predict(X_test)\n",
    "pred_test_set"
   ]
  },
  {
   "cell_type": "code",
   "execution_count": 91,
   "metadata": {},
   "outputs": [],
   "source": [
    "diff_rf_test = pd.DataFrame()\n",
    "diff_rf_test['Asl_price'] = Y_test\n",
    "diff_rf_test['Pred'] = pred_test_set\n",
    "diff_rf_test['Diff'] = Y_test - pred_test_set\n",
    "diff_rf_test['Diff %'] = ((Y_test - pred_test_set) / Y_test) * 100"
   ]
  },
  {
   "cell_type": "code",
   "execution_count": 92,
   "metadata": {},
   "outputs": [],
   "source": [
    "diff_rf_test = abs(diff_rf_test)"
   ]
  },
  {
   "cell_type": "code",
   "execution_count": 93,
   "metadata": {},
   "outputs": [
    {
     "data": {
      "text/html": [
       "<div>\n",
       "<style scoped>\n",
       "    .dataframe tbody tr th:only-of-type {\n",
       "        vertical-align: middle;\n",
       "    }\n",
       "\n",
       "    .dataframe tbody tr th {\n",
       "        vertical-align: top;\n",
       "    }\n",
       "\n",
       "    .dataframe thead th {\n",
       "        text-align: right;\n",
       "    }\n",
       "</style>\n",
       "<table border=\"1\" class=\"dataframe\">\n",
       "  <thead>\n",
       "    <tr style=\"text-align: right;\">\n",
       "      <th></th>\n",
       "      <th>Asl_price</th>\n",
       "      <th>Pred</th>\n",
       "      <th>Diff</th>\n",
       "      <th>Diff %</th>\n",
       "    </tr>\n",
       "  </thead>\n",
       "  <tbody>\n",
       "    <tr>\n",
       "      <th>1126</th>\n",
       "      <td>30500.0</td>\n",
       "      <td>166324.866429</td>\n",
       "      <td>135824.866429</td>\n",
       "      <td>445.327431</td>\n",
       "    </tr>\n",
       "    <tr>\n",
       "      <th>4347</th>\n",
       "      <td>48000.0</td>\n",
       "      <td>244270.000000</td>\n",
       "      <td>196270.000000</td>\n",
       "      <td>408.895833</td>\n",
       "    </tr>\n",
       "    <tr>\n",
       "      <th>1674</th>\n",
       "      <td>130000.0</td>\n",
       "      <td>566868.000000</td>\n",
       "      <td>436868.000000</td>\n",
       "      <td>336.052308</td>\n",
       "    </tr>\n",
       "    <tr>\n",
       "      <th>3754</th>\n",
       "      <td>54000.0</td>\n",
       "      <td>216435.000000</td>\n",
       "      <td>162435.000000</td>\n",
       "      <td>300.805556</td>\n",
       "    </tr>\n",
       "    <tr>\n",
       "      <th>2343</th>\n",
       "      <td>26500.0</td>\n",
       "      <td>99805.000000</td>\n",
       "      <td>73305.000000</td>\n",
       "      <td>276.622642</td>\n",
       "    </tr>\n",
       "    <tr>\n",
       "      <th>...</th>\n",
       "      <td>...</td>\n",
       "      <td>...</td>\n",
       "      <td>...</td>\n",
       "      <td>...</td>\n",
       "    </tr>\n",
       "    <tr>\n",
       "      <th>6911</th>\n",
       "      <td>74000.0</td>\n",
       "      <td>74000.000000</td>\n",
       "      <td>0.000000</td>\n",
       "      <td>0.000000</td>\n",
       "    </tr>\n",
       "    <tr>\n",
       "      <th>2845</th>\n",
       "      <td>50000.0</td>\n",
       "      <td>50000.000000</td>\n",
       "      <td>0.000000</td>\n",
       "      <td>0.000000</td>\n",
       "    </tr>\n",
       "    <tr>\n",
       "      <th>4662</th>\n",
       "      <td>56000.0</td>\n",
       "      <td>56000.000000</td>\n",
       "      <td>0.000000</td>\n",
       "      <td>0.000000</td>\n",
       "    </tr>\n",
       "    <tr>\n",
       "      <th>4454</th>\n",
       "      <td>23000.0</td>\n",
       "      <td>23000.000000</td>\n",
       "      <td>0.000000</td>\n",
       "      <td>0.000000</td>\n",
       "    </tr>\n",
       "    <tr>\n",
       "      <th>4461</th>\n",
       "      <td>23000.0</td>\n",
       "      <td>23000.000000</td>\n",
       "      <td>0.000000</td>\n",
       "      <td>0.000000</td>\n",
       "    </tr>\n",
       "  </tbody>\n",
       "</table>\n",
       "<p>1492 rows × 4 columns</p>\n",
       "</div>"
      ],
      "text/plain": [
       "      Asl_price           Pred           Diff      Diff %\n",
       "1126    30500.0  166324.866429  135824.866429  445.327431\n",
       "4347    48000.0  244270.000000  196270.000000  408.895833\n",
       "1674   130000.0  566868.000000  436868.000000  336.052308\n",
       "3754    54000.0  216435.000000  162435.000000  300.805556\n",
       "2343    26500.0   99805.000000   73305.000000  276.622642\n",
       "...         ...            ...            ...         ...\n",
       "6911    74000.0   74000.000000       0.000000    0.000000\n",
       "2845    50000.0   50000.000000       0.000000    0.000000\n",
       "4662    56000.0   56000.000000       0.000000    0.000000\n",
       "4454    23000.0   23000.000000       0.000000    0.000000\n",
       "4461    23000.0   23000.000000       0.000000    0.000000\n",
       "\n",
       "[1492 rows x 4 columns]"
      ]
     },
     "execution_count": 93,
     "metadata": {},
     "output_type": "execute_result"
    }
   ],
   "source": [
    "diff_sorted_test = diff_rf_test.sort_values('Diff %', ascending=False)\n",
    "diff_sorted_test"
   ]
  },
  {
   "cell_type": "code",
   "execution_count": 94,
   "metadata": {},
   "outputs": [
    {
     "name": "stdout",
     "output_type": "stream",
     "text": [
      "10% dan yuqori xatoliklar soni: 761 | Shuningdek % da: 51.01%\n",
      "20% dan yuqori xatoliklar soni: 433 | Shuningdek % da: 29.02%\n",
      "30% dan yuqori xatoliklar soni: 241 | Shuningdek % da: 16.15%\n"
     ]
    }
   ],
   "source": [
    "xatolik(10, diff_sorted_test, 3)\n",
    "xatolik(20, diff_sorted_test, 3)\n",
    "xatolik(30, diff_sorted_test, 3)"
   ]
  },
  {
   "cell_type": "code",
   "execution_count": 95,
   "metadata": {},
   "outputs": [
    {
     "data": {
      "image/png": "[encoded data removed]",
      "text/plain": [
       "<Figure size 600x600 with 1 Axes>"
      ]
     },
     "metadata": {},
     "output_type": "display_data"
    }
   ],
   "source": [
    "diff_sorted_test.hist('Diff %', bins = [0,10,20,30,40,50,100, 500])\n",
    "plt.xticks([0,10,20,30,40,50,100, 500])\n",
    "\n",
    "plt.show()"
   ]
  },
  {
   "cell_type": "code",
   "execution_count": 96,
   "metadata": {},
   "outputs": [
    {
     "name": "stdout",
     "output_type": "stream",
     "text": [
      "MAE :  10694.93 \n",
      "MSE :  23665.51\n"
     ]
    }
   ],
   "source": [
    "mae = mean_absolute_error(Y_test, pred_test_set)\n",
    "# -----------------------------------------\n",
    "mse = mean_squared_error(Y_test, pred_test_set)\n",
    "print('MAE : ', mae.round(2), '\\nMSE : ', np.sqrt(mse).round(2))"
   ]
  },
  {
   "cell_type": "code",
   "execution_count": 97,
   "metadata": {},
   "outputs": [
    {
     "data": {
      "image/png": "[encoded data removed]",
      "text/plain": [
       "<Figure size 600x600 with 1 Axes>"
      ]
     },
     "metadata": {},
     "output_type": "display_data"
    }
   ],
   "source": [
    "sns.set(rc={'figure.figsize':(6,6)})\n",
    "\n",
    "sns.regplot(x = diff_rf_test.Asl_price, y =diff_rf_test.Pred, marker='.', line_kws={'color' : 'Orange'})\n",
    "plt.title('Predictid value hamda Actual value orasidagi bog\\'lanish', fontdict={'size' : 15})\n",
    "plt.xlabel('Actual values', fontdict={'size' : 13})\n",
    "plt.ylabel('Predicted values', fontdict={'size' : 13})\n",
    "\n",
    "plt.show()"
   ]
  },
  {
   "cell_type": "markdown",
   "metadata": {},
   "source": [
    "## Tain va Test setlar uchun model aniqligini ko'ramiz"
   ]
  },
  {
   "cell_type": "code",
   "execution_count": 98,
   "metadata": {},
   "outputs": [],
   "source": [
    "from sklearn.metrics import r2_score"
   ]
  },
  {
   "cell_type": "code",
   "execution_count": 99,
   "metadata": {},
   "outputs": [
    {
     "data": {
      "text/html": [
       "<div>\n",
       "<style scoped>\n",
       "    .dataframe tbody tr th:only-of-type {\n",
       "        vertical-align: middle;\n",
       "    }\n",
       "\n",
       "    .dataframe tbody tr th {\n",
       "        vertical-align: top;\n",
       "    }\n",
       "\n",
       "    .dataframe thead th {\n",
       "        text-align: right;\n",
       "    }\n",
       "</style>\n",
       "<table border=\"1\" class=\"dataframe\">\n",
       "  <thead>\n",
       "    <tr style=\"text-align: right;\">\n",
       "      <th></th>\n",
       "      <th>Accurancy</th>\n",
       "    </tr>\n",
       "  </thead>\n",
       "  <tbody>\n",
       "    <tr>\n",
       "      <th>Train_set</th>\n",
       "      <td>0.949855</td>\n",
       "    </tr>\n",
       "    <tr>\n",
       "      <th>Test_set</th>\n",
       "      <td>0.711638</td>\n",
       "    </tr>\n",
       "  </tbody>\n",
       "</table>\n",
       "</div>"
      ],
      "text/plain": [
       "           Accurancy\n",
       "Train_set   0.949855\n",
       "Test_set    0.711638"
      ]
     },
     "execution_count": 99,
     "metadata": {},
     "output_type": "execute_result"
    }
   ],
   "source": [
    "r2_train = r2_score(Y_train, pred_rf)\n",
    "r2_test = r2_score(Y_test, pred_test_set)\n",
    "\n",
    "pd.DataFrame({'Accurancy' : [r2_train, r2_test]}, index= ['Train_set', 'Test_set'])"
   ]
  },
  {
   "cell_type": "markdown",
   "metadata": {},
   "source": [
    "## Xulosa shundaki ushbu muammo uchun bizda Random Forest Regression ko'proq aniqlik bermoqda."
   ]
  }
 ],
 "metadata": {
  "colab": {
   "provenance": []
  },
  "kernelspec": {
   "display_name": "Python 3 (ipykernel)",
   "language": "python",
   "name": "python3"
  },
  "language_info": {
   "codemirror_mode": {
    "name": "ipython",
    "version": 3
   },
   "file_extension": ".py",
   "mimetype": "text/x-python",
   "name": "python",
   "nbconvert_exporter": "python",
   "pygments_lexer": "ipython3",
   "version": "3.9.13"
  }
 },
 "nbformat": 4,
 "nbformat_minor": 1
}
